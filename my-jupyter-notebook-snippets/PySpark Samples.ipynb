{
 "cells": [
  {
   "cell_type": "markdown",
   "id": "435cd263",
   "metadata": {},
   "source": [
    "# Start up"
   ]
  },
  {
   "cell_type": "code",
   "execution_count": null,
   "id": "f6484c39",
   "metadata": {},
   "outputs": [],
   "source": [
    "from pyspark.sql import SparkSession\n",
    "\n",
    "spark = SparkSession.builder \\\n",
    "    .master('local[*]') \\\n",
    "    .appName('my_spark') \\\n",
    "    .getOrCreate()"
   ]
  },
  {
   "cell_type": "code",
   "execution_count": 1,
   "id": "4595c421",
   "metadata": {
    "ExecuteTime": {
     "end_time": "2023-11-14T04:22:19.964485Z",
     "start_time": "2023-11-14T04:22:09.705811Z"
    }
   },
   "outputs": [
    {
     "data": {
      "text/html": [
       "\n",
       "            <div>\n",
       "                <p><b>SparkSession - in-memory</b></p>\n",
       "                \n",
       "        <div>\n",
       "            <p><b>SparkContext</b></p>\n",
       "\n",
       "            <p><a href=\"http://DESKTOP-UA7H7D6.mshome.net:4040\">Spark UI</a></p>\n",
       "\n",
       "            <dl>\n",
       "              <dt>Version</dt>\n",
       "                <dd><code>v3.5.0</code></dd>\n",
       "              <dt>Master</dt>\n",
       "                <dd><code>local[*]</code></dd>\n",
       "              <dt>AppName</dt>\n",
       "                <dd><code>my_spark</code></dd>\n",
       "            </dl>\n",
       "        </div>\n",
       "        \n",
       "            </div>\n",
       "        "
      ],
      "text/plain": [
       "<pyspark.sql.session.SparkSession at 0x200ddc9a610>"
      ]
     },
     "execution_count": 1,
     "metadata": {},
     "output_type": "execute_result"
    }
   ],
   "source": [
    "spark"
   ]
  },
  {
   "cell_type": "markdown",
   "id": "d891a693",
   "metadata": {},
   "source": [
    "# Read data from file"
   ]
  },
  {
   "cell_type": "code",
   "execution_count": 6,
   "id": "ded10e01",
   "metadata": {
    "ExecuteTime": {
     "end_time": "2023-11-14T04:32:02.841398Z",
     "start_time": "2023-11-14T04:32:02.783713Z"
    }
   },
   "outputs": [
    {
     "name": "stdout",
     "output_type": "stream",
     "text": [
      "root\n",
      " |-- Id: integer (nullable = true)\n",
      " |-- SepalLengthCm: double (nullable = true)\n",
      " |-- SepalWidthCm: double (nullable = true)\n",
      " |-- PetalLengthCm: double (nullable = true)\n",
      " |-- PetalWidthCm: double (nullable = true)\n",
      " |-- Species: string (nullable = true)\n",
      "\n"
     ]
    }
   ],
   "source": [
    "from pyspark.sql.types import StructType, StructField, IntegerType, StringType, DoubleType\n",
    "\n",
    "data_schema = [\n",
    "    StructField('Id', IntegerType(), True),\n",
    "    StructField('SepalLengthCm', DoubleType(), True),\n",
    "    StructField('SepalWidthCm', DoubleType(), True),\n",
    "    StructField('PetalLengthCm', DoubleType(), True),\n",
    "    StructField('PetalWidthCm', DoubleType(), True),\n",
    "    StructField('Species', StringType(), True)\n",
    "]\n",
    "final_struct = StructType(fields = data_schema)\n",
    "\n",
    "df = spark.read.csv(\n",
    "    '__datasets/Iris.csv',\n",
    "    sep = ',',\n",
    "    header = True,\n",
    "    schema = final_struct)\n",
    "\n",
    "df.printSchema()"
   ]
  },
  {
   "cell_type": "markdown",
   "id": "827aa300",
   "metadata": {},
   "source": [
    "# Read from DB"
   ]
  },
  {
   "cell_type": "code",
   "execution_count": null,
   "id": "30a94566",
   "metadata": {},
   "outputs": [],
   "source": [
    "df = spark.read \\\n",
    "    .format('jdbc') \\\n",
    "    .option('url', 'jdbc:postgresql://localhost:5432/databasename') \\\n",
    "    .option('dbtable', 'tablename') \\\n",
    "    .option('user', 'username') \\\n",
    "    .option('password', 'password') \\\n",
    "    .option('driver', 'org.postgresql.Driver') \\\n",
    "    .load()\n",
    "\n",
    "df.printSchema()"
   ]
  },
  {
   "cell_type": "markdown",
   "id": "4b7eadff",
   "metadata": {},
   "source": [
    "# Data inspection methods"
   ]
  },
  {
   "cell_type": "code",
   "execution_count": 7,
   "id": "b99898d2",
   "metadata": {
    "ExecuteTime": {
     "end_time": "2023-11-14T04:32:28.021835Z",
     "start_time": "2023-11-14T04:32:28.005835Z"
    }
   },
   "outputs": [
    {
     "data": {
      "text/plain": [
       "[('Id', 'int'),\n",
       " ('SepalLengthCm', 'double'),\n",
       " ('SepalWidthCm', 'double'),\n",
       " ('PetalLengthCm', 'double'),\n",
       " ('PetalWidthCm', 'double'),\n",
       " ('Species', 'string')]"
      ]
     },
     "execution_count": 7,
     "metadata": {},
     "output_type": "execute_result"
    }
   ],
   "source": [
    "df.dtypes"
   ]
  },
  {
   "cell_type": "code",
   "execution_count": 9,
   "id": "c15a7c7a",
   "metadata": {
    "ExecuteTime": {
     "end_time": "2023-11-14T04:32:42.919435Z",
     "start_time": "2023-11-14T04:32:42.796451Z"
    }
   },
   "outputs": [
    {
     "data": {
      "text/plain": [
       "[Row(Id=1, SepalLengthCm=5.1, SepalWidthCm=3.5, PetalLengthCm=1.4, PetalWidthCm=0.2, Species='Iris-setosa'),\n",
       " Row(Id=2, SepalLengthCm=4.9, SepalWidthCm=3.0, PetalLengthCm=1.4, PetalWidthCm=0.2, Species='Iris-setosa'),\n",
       " Row(Id=3, SepalLengthCm=4.7, SepalWidthCm=3.2, PetalLengthCm=1.3, PetalWidthCm=0.2, Species='Iris-setosa'),\n",
       " Row(Id=4, SepalLengthCm=4.6, SepalWidthCm=3.1, PetalLengthCm=1.5, PetalWidthCm=0.2, Species='Iris-setosa'),\n",
       " Row(Id=5, SepalLengthCm=5.0, SepalWidthCm=3.6, PetalLengthCm=1.4, PetalWidthCm=0.2, Species='Iris-setosa')]"
      ]
     },
     "execution_count": 9,
     "metadata": {},
     "output_type": "execute_result"
    }
   ],
   "source": [
    "df.head(5)"
   ]
  },
  {
   "cell_type": "code",
   "execution_count": 11,
   "id": "645073b8",
   "metadata": {
    "ExecuteTime": {
     "end_time": "2023-11-14T04:37:28.868206Z",
     "start_time": "2023-11-14T04:37:28.723206Z"
    }
   },
   "outputs": [
    {
     "name": "stdout",
     "output_type": "stream",
     "text": [
      "+---+-------------+------------+-------------+------------+-----------+\n",
      "| Id|SepalLengthCm|SepalWidthCm|PetalLengthCm|PetalWidthCm|    Species|\n",
      "+---+-------------+------------+-------------+------------+-----------+\n",
      "|  1|          5.1|         3.5|          1.4|         0.2|Iris-setosa|\n",
      "|  2|          4.9|         3.0|          1.4|         0.2|Iris-setosa|\n",
      "|  3|          4.7|         3.2|          1.3|         0.2|Iris-setosa|\n",
      "|  4|          4.6|         3.1|          1.5|         0.2|Iris-setosa|\n",
      "|  5|          5.0|         3.6|          1.4|         0.2|Iris-setosa|\n",
      "+---+-------------+------------+-------------+------------+-----------+\n",
      "only showing top 5 rows\n",
      "\n"
     ]
    }
   ],
   "source": [
    "df.show(5)"
   ]
  },
  {
   "cell_type": "code",
   "execution_count": 47,
   "id": "ae504406",
   "metadata": {
    "ExecuteTime": {
     "end_time": "2023-11-14T05:56:12.859487Z",
     "start_time": "2023-11-14T05:56:12.758080Z"
    }
   },
   "outputs": [
    {
     "name": "stdout",
     "output_type": "stream",
     "text": [
      "-RECORD 0--------------------\n",
      " Id            | 1           \n",
      " SepalLengthCm | 5.1         \n",
      " SepalWidthCm  | 3.5         \n",
      " PetalLengthCm | 1.4         \n",
      " PetalWidthCm  | 0.2         \n",
      " Species       | Iris-setosa \n",
      "-RECORD 1--------------------\n",
      " Id            | 2           \n",
      " SepalLengthCm | 4.9         \n",
      " SepalWidthCm  | 3.0         \n",
      " PetalLengthCm | 1.4         \n",
      " PetalWidthCm  | 0.2         \n",
      " Species       | Iris-setosa \n",
      "-RECORD 2--------------------\n",
      " Id            | 3           \n",
      " SepalLengthCm | 4.7         \n",
      " SepalWidthCm  | 3.2         \n",
      " PetalLengthCm | 1.3         \n",
      " PetalWidthCm  | 0.2         \n",
      " Species       | Iris-setosa \n",
      "only showing top 3 rows\n",
      "\n"
     ]
    }
   ],
   "source": [
    "df.show(3, vertical = True)"
   ]
  },
  {
   "cell_type": "code",
   "execution_count": 46,
   "id": "259b8f38",
   "metadata": {
    "ExecuteTime": {
     "end_time": "2023-11-14T05:56:05.458920Z",
     "start_time": "2023-11-14T05:56:05.352547Z"
    }
   },
   "outputs": [
    {
     "data": {
      "text/plain": [
       "[Row(Id=1, SepalLengthCm=5.1, SepalWidthCm=3.5, PetalLengthCm=1.4, PetalWidthCm=0.2, Species='Iris-setosa'),\n",
       " Row(Id=2, SepalLengthCm=4.9, SepalWidthCm=3.0, PetalLengthCm=1.4, PetalWidthCm=0.2, Species='Iris-setosa'),\n",
       " Row(Id=3, SepalLengthCm=4.7, SepalWidthCm=3.2, PetalLengthCm=1.3, PetalWidthCm=0.2, Species='Iris-setosa'),\n",
       " Row(Id=4, SepalLengthCm=4.6, SepalWidthCm=3.1, PetalLengthCm=1.5, PetalWidthCm=0.2, Species='Iris-setosa'),\n",
       " Row(Id=5, SepalLengthCm=5.0, SepalWidthCm=3.6, PetalLengthCm=1.4, PetalWidthCm=0.2, Species='Iris-setosa'),\n",
       " Row(Id=6, SepalLengthCm=5.4, SepalWidthCm=3.9, PetalLengthCm=1.7, PetalWidthCm=0.4, Species='Iris-setosa'),\n",
       " Row(Id=7, SepalLengthCm=4.6, SepalWidthCm=3.4, PetalLengthCm=1.4, PetalWidthCm=0.3, Species='Iris-setosa'),\n",
       " Row(Id=8, SepalLengthCm=5.0, SepalWidthCm=3.4, PetalLengthCm=1.5, PetalWidthCm=0.2, Species='Iris-setosa'),\n",
       " Row(Id=9, SepalLengthCm=4.4, SepalWidthCm=2.9, PetalLengthCm=1.4, PetalWidthCm=0.2, Species='Iris-setosa'),\n",
       " Row(Id=10, SepalLengthCm=4.9, SepalWidthCm=3.1, PetalLengthCm=1.5, PetalWidthCm=0.1, Species='Iris-setosa'),\n",
       " Row(Id=11, SepalLengthCm=5.4, SepalWidthCm=3.7, PetalLengthCm=1.5, PetalWidthCm=0.2, Species='Iris-setosa')]"
      ]
     },
     "execution_count": 46,
     "metadata": {},
     "output_type": "execute_result"
    }
   ],
   "source": [
    "df.take(11)"
   ]
  },
  {
   "cell_type": "code",
   "execution_count": 38,
   "id": "24848c1b",
   "metadata": {
    "ExecuteTime": {
     "end_time": "2023-11-14T05:34:51.235654Z",
     "start_time": "2023-11-14T05:34:50.234657Z"
    }
   },
   "outputs": [
    {
     "name": "stdout",
     "output_type": "stream",
     "text": [
      "+-------+------------------+------------------+-------------------+------------------+------------------+--------------+\n",
      "|summary|                Id|     SepalLengthCm|       SepalWidthCm|     PetalLengthCm|      PetalWidthCm|       Species|\n",
      "+-------+------------------+------------------+-------------------+------------------+------------------+--------------+\n",
      "|  count|               150|               150|                150|               150|               150|           150|\n",
      "|   mean|              75.5| 5.843333333333335| 3.0540000000000007|3.7586666666666693|1.1986666666666672|          NULL|\n",
      "| stddev|43.445367992456916|0.8280661279778637|0.43359431136217375| 1.764420419952262|0.7631607417008414|          NULL|\n",
      "|    min|                 1|               4.3|                2.0|               1.0|               0.1|   Iris-setosa|\n",
      "|    max|               150|               7.9|                4.4|               6.9|               2.5|Iris-virginica|\n",
      "+-------+------------------+------------------+-------------------+------------------+------------------+--------------+\n",
      "\n"
     ]
    }
   ],
   "source": [
    "df.describe().show()"
   ]
  },
  {
   "cell_type": "code",
   "execution_count": 19,
   "id": "0be25de1",
   "metadata": {
    "ExecuteTime": {
     "end_time": "2023-11-14T05:04:56.566011Z",
     "start_time": "2023-11-14T05:04:56.546010Z"
    }
   },
   "outputs": [
    {
     "data": {
      "text/plain": [
       "['Id',\n",
       " 'SepalLengthCm',\n",
       " 'SepalWidthCm',\n",
       " 'PetalLengthCm',\n",
       " 'PetalWidthCm',\n",
       " 'Species']"
      ]
     },
     "execution_count": 19,
     "metadata": {},
     "output_type": "execute_result"
    }
   ],
   "source": [
    "df.columns"
   ]
  },
  {
   "cell_type": "code",
   "execution_count": 20,
   "id": "8efbf4d2",
   "metadata": {
    "ExecuteTime": {
     "end_time": "2023-11-14T05:05:04.445323Z",
     "start_time": "2023-11-14T05:05:03.770325Z"
    }
   },
   "outputs": [
    {
     "data": {
      "text/plain": [
       "150"
      ]
     },
     "execution_count": 20,
     "metadata": {},
     "output_type": "execute_result"
    }
   ],
   "source": [
    "df.count()"
   ]
  },
  {
   "cell_type": "code",
   "execution_count": 23,
   "id": "384d6504",
   "metadata": {
    "ExecuteTime": {
     "end_time": "2023-11-14T05:08:10.947933Z",
     "start_time": "2023-11-14T05:08:09.905946Z"
    }
   },
   "outputs": [
    {
     "data": {
      "text/plain": [
       "150"
      ]
     },
     "execution_count": 23,
     "metadata": {},
     "output_type": "execute_result"
    }
   ],
   "source": [
    "df.distinct().count()"
   ]
  },
  {
   "cell_type": "markdown",
   "id": "5cde7692",
   "metadata": {},
   "source": [
    "# Columns manipulation"
   ]
  },
  {
   "cell_type": "code",
   "execution_count": 26,
   "id": "5580ff8b",
   "metadata": {
    "ExecuteTime": {
     "end_time": "2023-11-14T05:13:43.059072Z",
     "start_time": "2023-11-14T05:13:42.826072Z"
    }
   },
   "outputs": [
    {
     "name": "stdout",
     "output_type": "stream",
     "text": [
      "+---+-------------+------------+-------------+------------+-----------+----------+\n",
      "| Id|SepalLengthCm|SepalWidthCm|PetalLengthCm|PetalWidthCm|    Species|new_column|\n",
      "+---+-------------+------------+-------------+------------+-----------+----------+\n",
      "|  1|          5.1|         3.5|          1.4|         0.2|Iris-setosa|         1|\n",
      "|  2|          4.9|         3.0|          1.4|         0.2|Iris-setosa|         2|\n",
      "|  3|          4.7|         3.2|          1.3|         0.2|Iris-setosa|         3|\n",
      "|  4|          4.6|         3.1|          1.5|         0.2|Iris-setosa|         4|\n",
      "|  5|          5.0|         3.6|          1.4|         0.2|Iris-setosa|         5|\n",
      "+---+-------------+------------+-------------+------------+-----------+----------+\n",
      "only showing top 5 rows\n",
      "\n"
     ]
    }
   ],
   "source": [
    "df = df.withColumn('new_column', df.Id)\n",
    "df.show(5)"
   ]
  },
  {
   "cell_type": "code",
   "execution_count": 27,
   "id": "80fefa32",
   "metadata": {
    "ExecuteTime": {
     "end_time": "2023-11-14T05:15:15.290874Z",
     "start_time": "2023-11-14T05:15:15.141897Z"
    }
   },
   "outputs": [
    {
     "name": "stdout",
     "output_type": "stream",
     "text": [
      "+---+-------------+------------+-------------+------------+-----------+------------+\n",
      "| Id|SepalLengthCm|SepalWidthCm|PetalLengthCm|PetalWidthCm|    Species|new_column_2|\n",
      "+---+-------------+------------+-------------+------------+-----------+------------+\n",
      "|  1|          5.1|         3.5|          1.4|         0.2|Iris-setosa|           1|\n",
      "|  2|          4.9|         3.0|          1.4|         0.2|Iris-setosa|           2|\n",
      "|  3|          4.7|         3.2|          1.3|         0.2|Iris-setosa|           3|\n",
      "|  4|          4.6|         3.1|          1.5|         0.2|Iris-setosa|           4|\n",
      "|  5|          5.0|         3.6|          1.4|         0.2|Iris-setosa|           5|\n",
      "+---+-------------+------------+-------------+------------+-----------+------------+\n",
      "only showing top 5 rows\n",
      "\n"
     ]
    }
   ],
   "source": [
    "df = df.withColumnRenamed('new_column', 'new_column_2')\n",
    "df.show(5)"
   ]
  },
  {
   "cell_type": "code",
   "execution_count": 28,
   "id": "e8780a97",
   "metadata": {
    "ExecuteTime": {
     "end_time": "2023-11-14T05:15:31.209463Z",
     "start_time": "2023-11-14T05:15:31.067453Z"
    }
   },
   "outputs": [
    {
     "name": "stdout",
     "output_type": "stream",
     "text": [
      "+---+-------------+------------+-------------+------------+-----------+\n",
      "| Id|SepalLengthCm|SepalWidthCm|PetalLengthCm|PetalWidthCm|    Species|\n",
      "+---+-------------+------------+-------------+------------+-----------+\n",
      "|  1|          5.1|         3.5|          1.4|         0.2|Iris-setosa|\n",
      "|  2|          4.9|         3.0|          1.4|         0.2|Iris-setosa|\n",
      "|  3|          4.7|         3.2|          1.3|         0.2|Iris-setosa|\n",
      "|  4|          4.6|         3.1|          1.5|         0.2|Iris-setosa|\n",
      "|  5|          5.0|         3.6|          1.4|         0.2|Iris-setosa|\n",
      "+---+-------------+------------+-------------+------------+-----------+\n",
      "only showing top 5 rows\n",
      "\n"
     ]
    }
   ],
   "source": [
    "df = df.drop('new_column_2')\n",
    "df.show(5)"
   ]
  },
  {
   "cell_type": "markdown",
   "id": "d75a2f55",
   "metadata": {},
   "source": [
    "# Get the data from DataFrame"
   ]
  },
  {
   "cell_type": "code",
   "execution_count": 29,
   "id": "fdb00f2f",
   "metadata": {
    "ExecuteTime": {
     "end_time": "2023-11-14T05:20:07.999864Z",
     "start_time": "2023-11-14T05:20:07.794285Z"
    }
   },
   "outputs": [
    {
     "name": "stdout",
     "output_type": "stream",
     "text": [
      "+---+\n",
      "| Id|\n",
      "+---+\n",
      "|  1|\n",
      "|  2|\n",
      "|  3|\n",
      "|  4|\n",
      "|  5|\n",
      "+---+\n",
      "only showing top 5 rows\n",
      "\n"
     ]
    }
   ],
   "source": [
    "df.select('Id').show(5)"
   ]
  },
  {
   "cell_type": "code",
   "execution_count": 30,
   "id": "f18c8c8e",
   "metadata": {
    "ExecuteTime": {
     "end_time": "2023-11-14T05:20:29.624072Z",
     "start_time": "2023-11-14T05:20:29.465074Z"
    }
   },
   "outputs": [
    {
     "name": "stdout",
     "output_type": "stream",
     "text": [
      "+-------------+------------+\n",
      "|PetalLengthCm|PetalWidthCm|\n",
      "+-------------+------------+\n",
      "|          1.4|         0.2|\n",
      "|          1.4|         0.2|\n",
      "|          1.3|         0.2|\n",
      "|          1.5|         0.2|\n",
      "|          1.4|         0.2|\n",
      "+-------------+------------+\n",
      "only showing top 5 rows\n",
      "\n"
     ]
    }
   ],
   "source": [
    "df.select('PetalLengthCm', 'PetalWidthCm').show(5)"
   ]
  },
  {
   "cell_type": "code",
   "execution_count": 31,
   "id": "1e9d6893",
   "metadata": {
    "ExecuteTime": {
     "end_time": "2023-11-14T05:25:08.142782Z",
     "start_time": "2023-11-14T05:25:07.695344Z"
    }
   },
   "outputs": [
    {
     "name": "stdout",
     "output_type": "stream",
     "text": [
      "32\n",
      "+---+-------------+------------+-------------+------------+-----------+\n",
      "| Id|SepalLengthCm|SepalWidthCm|PetalLengthCm|PetalWidthCm|    Species|\n",
      "+---+-------------+------------+-------------+------------+-----------+\n",
      "|  4|          4.6|         3.1|          1.5|         0.2|Iris-setosa|\n",
      "|  6|          5.4|         3.9|          1.7|         0.4|Iris-setosa|\n",
      "|  8|          5.0|         3.4|          1.5|         0.2|Iris-setosa|\n",
      "| 10|          4.9|         3.1|          1.5|         0.1|Iris-setosa|\n",
      "| 11|          5.4|         3.7|          1.5|         0.2|Iris-setosa|\n",
      "+---+-------------+------------+-------------+------------+-----------+\n",
      "only showing top 5 rows\n",
      "\n"
     ]
    }
   ],
   "source": [
    "from pyspark.sql.functions import col, lit\n",
    "\n",
    "petalLenghts = df.filter((col('PetalLengthCm') >= lit('1.5')) & (col('PetalLengthCm') <= lit('3.5')))\n",
    "print(petalLenghts.count())\n",
    "petalLenghts.show(5)"
   ]
  },
  {
   "cell_type": "code",
   "execution_count": 33,
   "id": "df899626",
   "metadata": {
    "ExecuteTime": {
     "end_time": "2023-11-14T05:30:39.666338Z",
     "start_time": "2023-11-14T05:30:39.379339Z"
    }
   },
   "outputs": [
    {
     "name": "stdout",
     "output_type": "stream",
     "text": [
      "32\n",
      "+---+-------------+------------+-------------+------------+-----------+\n",
      "| Id|SepalLengthCm|SepalWidthCm|PetalLengthCm|PetalWidthCm|    Species|\n",
      "+---+-------------+------------+-------------+------------+-----------+\n",
      "|  4|          4.6|         3.1|          1.5|         0.2|Iris-setosa|\n",
      "|  6|          5.4|         3.9|          1.7|         0.4|Iris-setosa|\n",
      "|  8|          5.0|         3.4|          1.5|         0.2|Iris-setosa|\n",
      "| 10|          4.9|         3.1|          1.5|         0.1|Iris-setosa|\n",
      "| 11|          5.4|         3.7|          1.5|         0.2|Iris-setosa|\n",
      "+---+-------------+------------+-------------+------------+-----------+\n",
      "only showing top 5 rows\n",
      "\n"
     ]
    }
   ],
   "source": [
    "petalLenghts = df.filter(df.PetalLengthCm.between(1.5, 3.5))\n",
    "print(petalLenghts.count())\n",
    "petalLenghts.show(5)"
   ]
  },
  {
   "cell_type": "code",
   "execution_count": 43,
   "id": "2568d1dc",
   "metadata": {
    "ExecuteTime": {
     "end_time": "2023-11-14T05:50:48.308707Z",
     "start_time": "2023-11-14T05:50:47.916546Z"
    }
   },
   "outputs": [
    {
     "name": "stdout",
     "output_type": "stream",
     "text": [
      "+---------------+-------+------------------+------------------+------------------+------------------+\n",
      "|        Species|avg(Id)|avg(SepalLengthCm)| avg(SepalWidthCm)|avg(PetalLengthCm)| avg(PetalWidthCm)|\n",
      "+---------------+-------+------------------+------------------+------------------+------------------+\n",
      "| Iris-virginica|  125.5| 6.587999999999998|2.9739999999999998|             5.552|             2.026|\n",
      "|    Iris-setosa|   25.5| 5.005999999999999|3.4180000000000006|             1.464|0.2439999999999999|\n",
      "|Iris-versicolor|   75.5|             5.936|2.7700000000000005|              4.26|1.3259999999999998|\n",
      "+---------------+-------+------------------+------------------+------------------+------------------+\n",
      "\n"
     ]
    }
   ],
   "source": [
    "df.groupby('Species').avg().show()"
   ]
  },
  {
   "cell_type": "code",
   "execution_count": 44,
   "id": "8e349c99",
   "metadata": {
    "ExecuteTime": {
     "end_time": "2023-11-14T05:52:56.538523Z",
     "start_time": "2023-11-14T05:52:56.242498Z"
    }
   },
   "outputs": [
    {
     "name": "stdout",
     "output_type": "stream",
     "text": [
      "+--------+\n",
      "|count(1)|\n",
      "+--------+\n",
      "|     150|\n",
      "+--------+\n",
      "\n"
     ]
    }
   ],
   "source": [
    "df.createOrReplaceTempView('T')\n",
    "spark.sql('SELECT count(*) from T').show()"
   ]
  },
  {
   "cell_type": "code",
   "execution_count": 55,
   "id": "ea1629d5",
   "metadata": {
    "ExecuteTime": {
     "end_time": "2023-11-14T06:40:29.420288Z",
     "start_time": "2023-11-14T06:40:29.178459Z"
    }
   },
   "outputs": [
    {
     "name": "stdout",
     "output_type": "stream",
     "text": [
      "150\n",
      "+---+-------------+------------+--------------------------------------------------+\n",
      "| Id|PetalLengthCm|PetalWidthCm|CASE WHEN (PetalLengthCm <= 1.5) THEN 1 ELSE 0 END|\n",
      "+---+-------------+------------+--------------------------------------------------+\n",
      "|  1|          1.4|         0.2|                                                 1|\n",
      "|  2|          1.4|         0.2|                                                 1|\n",
      "|  3|          1.3|         0.2|                                                 1|\n",
      "|  4|          1.5|         0.2|                                                 1|\n",
      "|  5|          1.4|         0.2|                                                 1|\n",
      "|  6|          1.7|         0.4|                                                 0|\n",
      "|  7|          1.4|         0.3|                                                 1|\n",
      "|  8|          1.5|         0.2|                                                 1|\n",
      "|  9|          1.4|         0.2|                                                 1|\n",
      "| 10|          1.5|         0.1|                                                 1|\n",
      "| 11|          1.5|         0.2|                                                 1|\n",
      "| 12|          1.6|         0.2|                                                 0|\n",
      "| 13|          1.4|         0.1|                                                 1|\n",
      "| 14|          1.1|         0.1|                                                 1|\n",
      "| 15|          1.2|         0.2|                                                 1|\n",
      "+---+-------------+------------+--------------------------------------------------+\n",
      "only showing top 15 rows\n",
      "\n"
     ]
    }
   ],
   "source": [
    "import pyspark.sql.functions as F\n",
    "\n",
    "rows = df.select('Id', 'PetalLengthCm', 'PetalWidthCm', F.when(df.PetalLengthCm <= 1.5, 1).otherwise(0))\n",
    "print(rows.count())\n",
    "rows.show(15)"
   ]
  },
  {
   "cell_type": "code",
   "execution_count": 59,
   "id": "26c4916d",
   "metadata": {
    "ExecuteTime": {
     "end_time": "2023-11-14T06:55:49.460719Z",
     "start_time": "2023-11-14T06:55:49.199979Z"
    }
   },
   "outputs": [
    {
     "name": "stdout",
     "output_type": "stream",
     "text": [
      "+------------------+----------+\n",
      "|PetalLengthCm_info|iris_count|\n",
      "+------------------+----------+\n",
      "|  more_than_normal|        99|\n",
      "|     less_than_avg|        44|\n",
      "|               avg|         7|\n",
      "+------------------+----------+\n",
      "\n"
     ]
    }
   ],
   "source": [
    "rows = df.withColumn('PetalLengthCm_info',\n",
    "    F.when(\n",
    "        F.col('PetalLengthCm') <= 1.65, F.lit('less_than_avg')\n",
    "    ).when(\n",
    "        (F.col('PetalLengthCm') > 1.65) & (F.col('PetalLengthCm') <= 3.0), F.lit('avg')\n",
    "    ).otherwise('more_than_normal'))\n",
    "\n",
    "rows \\\n",
    "    .groupby('PetalLengthCm_info') \\\n",
    "    .agg(F.count('Id') \\\n",
    "    .alias('iris_count')) \\\n",
    "    .orderBy('iris_count', ascending = False).show()"
   ]
  },
  {
   "cell_type": "code",
   "execution_count": 60,
   "id": "96a6ec4e",
   "metadata": {
    "ExecuteTime": {
     "end_time": "2023-11-14T06:56:01.733381Z",
     "start_time": "2023-11-14T06:56:01.493304Z"
    }
   },
   "outputs": [
    {
     "name": "stdout",
     "output_type": "stream",
     "text": [
      "+------------------+----------+\n",
      "|PetalLengthCm_info|iris_count|\n",
      "+------------------+----------+\n",
      "|               avg|         7|\n",
      "|     less_than_avg|        44|\n",
      "|  more_than_normal|        99|\n",
      "+------------------+----------+\n",
      "\n"
     ]
    }
   ],
   "source": [
    "rows \\\n",
    "    .groupby('PetalLengthCm_info') \\\n",
    "    .agg(F.count('Id') \\\n",
    "    .alias('iris_count')) \\\n",
    "    .orderBy('iris_count', ascending = True).show()"
   ]
  },
  {
   "cell_type": "code",
   "execution_count": 66,
   "id": "7b15bcdf",
   "metadata": {
    "ExecuteTime": {
     "end_time": "2023-11-14T07:12:52.184672Z",
     "start_time": "2023-11-14T07:12:52.088499Z"
    }
   },
   "outputs": [
    {
     "name": "stdout",
     "output_type": "stream",
     "text": [
      "+---+-------------+------------+-------------+------------+-----------+------------------+\n",
      "| Id|SepalLengthCm|SepalWidthCm|PetalLengthCm|PetalWidthCm|    Species|PetalLengthCm_info|\n",
      "+---+-------------+------------+-------------+------------+-----------+------------------+\n",
      "|  1|          5.1|         3.5|          1.4|         0.2|Iris-setosa|     less_than_avg|\n",
      "|  2|          4.9|         3.0|          1.4|         0.2|Iris-setosa|     less_than_avg|\n",
      "|  3|          4.7|         3.2|          1.3|         0.2|Iris-setosa|     less_than_avg|\n",
      "|  4|          4.6|         3.1|          1.5|         0.2|Iris-setosa|     less_than_avg|\n",
      "|  5|          5.0|         3.6|          1.4|         0.2|Iris-setosa|     less_than_avg|\n",
      "|  6|          5.4|         3.9|          1.7|         0.4|Iris-setosa|               avg|\n",
      "|  7|          4.6|         3.4|          1.4|         0.3|Iris-setosa|     less_than_avg|\n",
      "|  8|          5.0|         3.4|          1.5|         0.2|Iris-setosa|     less_than_avg|\n",
      "|  9|          4.4|         2.9|          1.4|         0.2|Iris-setosa|     less_than_avg|\n",
      "| 10|          4.9|         3.1|          1.5|         0.1|Iris-setosa|     less_than_avg|\n",
      "| 11|          5.4|         3.7|          1.5|         0.2|Iris-setosa|     less_than_avg|\n",
      "| 12|          4.8|         3.4|          1.6|         0.2|Iris-setosa|     less_than_avg|\n",
      "| 13|          4.8|         3.0|          1.4|         0.1|Iris-setosa|     less_than_avg|\n",
      "| 14|          4.3|         3.0|          1.1|         0.1|Iris-setosa|     less_than_avg|\n",
      "| 15|          5.8|         4.0|          1.2|         0.2|Iris-setosa|     less_than_avg|\n",
      "| 16|          5.7|         4.4|          1.5|         0.4|Iris-setosa|     less_than_avg|\n",
      "| 17|          5.4|         3.9|          1.3|         0.4|Iris-setosa|     less_than_avg|\n",
      "| 18|          5.1|         3.5|          1.4|         0.3|Iris-setosa|     less_than_avg|\n",
      "| 19|          5.7|         3.8|          1.7|         0.3|Iris-setosa|               avg|\n",
      "| 20|          5.1|         3.8|          1.5|         0.3|Iris-setosa|     less_than_avg|\n",
      "+---+-------------+------------+-------------+------------+-----------+------------------+\n",
      "only showing top 20 rows\n",
      "\n"
     ]
    }
   ],
   "source": [
    "rows.show()"
   ]
  },
  {
   "cell_type": "code",
   "execution_count": 67,
   "id": "2a8e00e0",
   "metadata": {
    "ExecuteTime": {
     "end_time": "2023-11-14T07:13:35.058419Z",
     "start_time": "2023-11-14T07:13:34.735902Z"
    }
   },
   "outputs": [
    {
     "name": "stdout",
     "output_type": "stream",
     "text": [
      "+---+-------------+------------+-------------+------------+---------------+------------------+---------------------+\n",
      "| Id|SepalLengthCm|SepalWidthCm|PetalLengthCm|PetalWidthCm|        Species|PetalLengthCm_info|average_SepalLengthCm|\n",
      "+---+-------------+------------+-------------+------------+---------------+------------------+---------------------+\n",
      "|  1|          5.1|         3.5|          1.4|         0.2|    Iris-setosa|     less_than_avg|    4.972727272727273|\n",
      "|  2|          4.9|         3.0|          1.4|         0.2|    Iris-setosa|     less_than_avg|    4.972727272727273|\n",
      "|  3|          4.7|         3.2|          1.3|         0.2|    Iris-setosa|     less_than_avg|    4.972727272727273|\n",
      "|  4|          4.6|         3.1|          1.5|         0.2|    Iris-setosa|     less_than_avg|    4.972727272727273|\n",
      "|  5|          5.0|         3.6|          1.4|         0.2|    Iris-setosa|     less_than_avg|    4.972727272727273|\n",
      "|  6|          5.4|         3.9|          1.7|         0.4|    Iris-setosa|               avg|    5.228571428571429|\n",
      "|  7|          4.6|         3.4|          1.4|         0.3|    Iris-setosa|     less_than_avg|    4.972727272727273|\n",
      "|  8|          5.0|         3.4|          1.5|         0.2|    Iris-setosa|     less_than_avg|    4.972727272727273|\n",
      "|  9|          4.4|         2.9|          1.4|         0.2|    Iris-setosa|     less_than_avg|    4.972727272727273|\n",
      "| 10|          4.9|         3.1|          1.5|         0.1|    Iris-setosa|     less_than_avg|    4.972727272727273|\n",
      "| 11|          5.4|         3.7|          1.5|         0.2|    Iris-setosa|     less_than_avg|    4.972727272727273|\n",
      "| 12|          4.8|         3.4|          1.6|         0.2|    Iris-setosa|     less_than_avg|    4.972727272727273|\n",
      "| 13|          4.8|         3.0|          1.4|         0.1|    Iris-setosa|     less_than_avg|    4.972727272727273|\n",
      "| 14|          4.3|         3.0|          1.1|         0.1|    Iris-setosa|     less_than_avg|    4.972727272727273|\n",
      "| 15|          5.8|         4.0|          1.2|         0.2|    Iris-setosa|     less_than_avg|    4.972727272727273|\n",
      "| 16|          5.7|         4.4|          1.5|         0.4|    Iris-setosa|     less_than_avg|    4.972727272727273|\n",
      "| 17|          5.4|         3.9|          1.3|         0.4|    Iris-setosa|     less_than_avg|    4.972727272727273|\n",
      "| 18|          5.1|         3.5|          1.4|         0.3|    Iris-setosa|     less_than_avg|    4.972727272727273|\n",
      "| 19|          5.7|         3.8|          1.7|         0.3|    Iris-setosa|               avg|    5.228571428571429|\n",
      "| 20|          5.1|         3.8|          1.5|         0.3|    Iris-setosa|     less_than_avg|    4.972727272727273|\n",
      "| 21|          5.4|         3.4|          1.7|         0.2|    Iris-setosa|               avg|    5.228571428571429|\n",
      "| 22|          5.1|         3.7|          1.5|         0.4|    Iris-setosa|     less_than_avg|    4.972727272727273|\n",
      "| 23|          4.6|         3.6|          1.0|         0.2|    Iris-setosa|     less_than_avg|    4.972727272727273|\n",
      "| 24|          5.1|         3.3|          1.7|         0.5|    Iris-setosa|               avg|    5.228571428571429|\n",
      "| 25|          4.8|         3.4|          1.9|         0.2|    Iris-setosa|               avg|    5.228571428571429|\n",
      "| 26|          5.0|         3.0|          1.6|         0.2|    Iris-setosa|     less_than_avg|    4.972727272727273|\n",
      "| 27|          5.0|         3.4|          1.6|         0.4|    Iris-setosa|     less_than_avg|    4.972727272727273|\n",
      "| 28|          5.2|         3.5|          1.5|         0.2|    Iris-setosa|     less_than_avg|    4.972727272727273|\n",
      "| 29|          5.2|         3.4|          1.4|         0.2|    Iris-setosa|     less_than_avg|    4.972727272727273|\n",
      "| 30|          4.7|         3.2|          1.6|         0.2|    Iris-setosa|     less_than_avg|    4.972727272727273|\n",
      "| 31|          4.8|         3.1|          1.6|         0.2|    Iris-setosa|     less_than_avg|    4.972727272727273|\n",
      "| 32|          5.4|         3.4|          1.5|         0.4|    Iris-setosa|     less_than_avg|    4.972727272727273|\n",
      "| 33|          5.2|         4.1|          1.5|         0.1|    Iris-setosa|     less_than_avg|    4.972727272727273|\n",
      "| 34|          5.5|         4.2|          1.4|         0.2|    Iris-setosa|     less_than_avg|    4.972727272727273|\n",
      "| 35|          4.9|         3.1|          1.5|         0.1|    Iris-setosa|     less_than_avg|    4.972727272727273|\n",
      "| 36|          5.0|         3.2|          1.2|         0.2|    Iris-setosa|     less_than_avg|    4.972727272727273|\n",
      "| 37|          5.5|         3.5|          1.3|         0.2|    Iris-setosa|     less_than_avg|    4.972727272727273|\n",
      "| 38|          4.9|         3.1|          1.5|         0.1|    Iris-setosa|     less_than_avg|    4.972727272727273|\n",
      "| 39|          4.4|         3.0|          1.3|         0.2|    Iris-setosa|     less_than_avg|    4.972727272727273|\n",
      "| 40|          5.1|         3.4|          1.5|         0.2|    Iris-setosa|     less_than_avg|    4.972727272727273|\n",
      "| 41|          5.0|         3.5|          1.3|         0.3|    Iris-setosa|     less_than_avg|    4.972727272727273|\n",
      "| 42|          4.5|         2.3|          1.3|         0.3|    Iris-setosa|     less_than_avg|    4.972727272727273|\n",
      "| 43|          4.4|         3.2|          1.3|         0.2|    Iris-setosa|     less_than_avg|    4.972727272727273|\n",
      "| 44|          5.0|         3.5|          1.6|         0.6|    Iris-setosa|     less_than_avg|    4.972727272727273|\n",
      "| 45|          5.1|         3.8|          1.9|         0.4|    Iris-setosa|               avg|    5.228571428571429|\n",
      "| 46|          4.8|         3.0|          1.4|         0.3|    Iris-setosa|     less_than_avg|    4.972727272727273|\n",
      "| 47|          5.1|         3.8|          1.6|         0.2|    Iris-setosa|     less_than_avg|    4.972727272727273|\n",
      "| 48|          4.6|         3.2|          1.4|         0.2|    Iris-setosa|     less_than_avg|    4.972727272727273|\n",
      "| 49|          5.3|         3.7|          1.5|         0.2|    Iris-setosa|     less_than_avg|    4.972727272727273|\n",
      "| 50|          5.0|         3.3|          1.4|         0.2|    Iris-setosa|     less_than_avg|    4.972727272727273|\n",
      "| 51|          7.0|         3.2|          4.7|         1.4|Iris-versicolor|  more_than_normal|    6.273737373737371|\n",
      "| 52|          6.4|         3.2|          4.5|         1.5|Iris-versicolor|  more_than_normal|    6.273737373737371|\n",
      "| 53|          6.9|         3.1|          4.9|         1.5|Iris-versicolor|  more_than_normal|    6.273737373737371|\n",
      "| 54|          5.5|         2.3|          4.0|         1.3|Iris-versicolor|  more_than_normal|    6.273737373737371|\n",
      "| 55|          6.5|         2.8|          4.6|         1.5|Iris-versicolor|  more_than_normal|    6.273737373737371|\n",
      "| 56|          5.7|         2.8|          4.5|         1.3|Iris-versicolor|  more_than_normal|    6.273737373737371|\n",
      "| 57|          6.3|         3.3|          4.7|         1.6|Iris-versicolor|  more_than_normal|    6.273737373737371|\n",
      "| 58|          4.9|         2.4|          3.3|         1.0|Iris-versicolor|  more_than_normal|    6.273737373737371|\n",
      "| 59|          6.6|         2.9|          4.6|         1.3|Iris-versicolor|  more_than_normal|    6.273737373737371|\n",
      "| 60|          5.2|         2.7|          3.9|         1.4|Iris-versicolor|  more_than_normal|    6.273737373737371|\n",
      "| 61|          5.0|         2.0|          3.5|         1.0|Iris-versicolor|  more_than_normal|    6.273737373737371|\n",
      "| 62|          5.9|         3.0|          4.2|         1.5|Iris-versicolor|  more_than_normal|    6.273737373737371|\n",
      "| 63|          6.0|         2.2|          4.0|         1.0|Iris-versicolor|  more_than_normal|    6.273737373737371|\n",
      "| 64|          6.1|         2.9|          4.7|         1.4|Iris-versicolor|  more_than_normal|    6.273737373737371|\n",
      "| 65|          5.6|         2.9|          3.6|         1.3|Iris-versicolor|  more_than_normal|    6.273737373737371|\n",
      "| 66|          6.7|         3.1|          4.4|         1.4|Iris-versicolor|  more_than_normal|    6.273737373737371|\n",
      "| 67|          5.6|         3.0|          4.5|         1.5|Iris-versicolor|  more_than_normal|    6.273737373737371|\n",
      "| 68|          5.8|         2.7|          4.1|         1.0|Iris-versicolor|  more_than_normal|    6.273737373737371|\n",
      "| 69|          6.2|         2.2|          4.5|         1.5|Iris-versicolor|  more_than_normal|    6.273737373737371|\n",
      "| 70|          5.6|         2.5|          3.9|         1.1|Iris-versicolor|  more_than_normal|    6.273737373737371|\n",
      "| 71|          5.9|         3.2|          4.8|         1.8|Iris-versicolor|  more_than_normal|    6.273737373737371|\n",
      "| 72|          6.1|         2.8|          4.0|         1.3|Iris-versicolor|  more_than_normal|    6.273737373737371|\n",
      "| 73|          6.3|         2.5|          4.9|         1.5|Iris-versicolor|  more_than_normal|    6.273737373737371|\n",
      "| 74|          6.1|         2.8|          4.7|         1.2|Iris-versicolor|  more_than_normal|    6.273737373737371|\n",
      "| 75|          6.4|         2.9|          4.3|         1.3|Iris-versicolor|  more_than_normal|    6.273737373737371|\n",
      "| 76|          6.6|         3.0|          4.4|         1.4|Iris-versicolor|  more_than_normal|    6.273737373737371|\n",
      "| 77|          6.8|         2.8|          4.8|         1.4|Iris-versicolor|  more_than_normal|    6.273737373737371|\n",
      "| 78|          6.7|         3.0|          5.0|         1.7|Iris-versicolor|  more_than_normal|    6.273737373737371|\n",
      "| 79|          6.0|         2.9|          4.5|         1.5|Iris-versicolor|  more_than_normal|    6.273737373737371|\n",
      "| 80|          5.7|         2.6|          3.5|         1.0|Iris-versicolor|  more_than_normal|    6.273737373737371|\n",
      "| 81|          5.5|         2.4|          3.8|         1.1|Iris-versicolor|  more_than_normal|    6.273737373737371|\n",
      "| 82|          5.5|         2.4|          3.7|         1.0|Iris-versicolor|  more_than_normal|    6.273737373737371|\n",
      "| 83|          5.8|         2.7|          3.9|         1.2|Iris-versicolor|  more_than_normal|    6.273737373737371|\n",
      "| 84|          6.0|         2.7|          5.1|         1.6|Iris-versicolor|  more_than_normal|    6.273737373737371|\n",
      "| 85|          5.4|         3.0|          4.5|         1.5|Iris-versicolor|  more_than_normal|    6.273737373737371|\n",
      "| 86|          6.0|         3.4|          4.5|         1.6|Iris-versicolor|  more_than_normal|    6.273737373737371|\n",
      "| 87|          6.7|         3.1|          4.7|         1.5|Iris-versicolor|  more_than_normal|    6.273737373737371|\n",
      "| 88|          6.3|         2.3|          4.4|         1.3|Iris-versicolor|  more_than_normal|    6.273737373737371|\n",
      "| 89|          5.6|         3.0|          4.1|         1.3|Iris-versicolor|  more_than_normal|    6.273737373737371|\n",
      "| 90|          5.5|         2.5|          4.0|         1.3|Iris-versicolor|  more_than_normal|    6.273737373737371|\n",
      "| 91|          5.5|         2.6|          4.4|         1.2|Iris-versicolor|  more_than_normal|    6.273737373737371|\n",
      "| 92|          6.1|         3.0|          4.6|         1.4|Iris-versicolor|  more_than_normal|    6.273737373737371|\n",
      "| 93|          5.8|         2.6|          4.0|         1.2|Iris-versicolor|  more_than_normal|    6.273737373737371|\n",
      "| 94|          5.0|         2.3|          3.3|         1.0|Iris-versicolor|  more_than_normal|    6.273737373737371|\n",
      "| 95|          5.6|         2.7|          4.2|         1.3|Iris-versicolor|  more_than_normal|    6.273737373737371|\n",
      "| 96|          5.7|         3.0|          4.2|         1.2|Iris-versicolor|  more_than_normal|    6.273737373737371|\n",
      "| 97|          5.7|         2.9|          4.2|         1.3|Iris-versicolor|  more_than_normal|    6.273737373737371|\n",
      "| 98|          6.2|         2.9|          4.3|         1.3|Iris-versicolor|  more_than_normal|    6.273737373737371|\n",
      "| 99|          5.1|         2.5|          3.0|         1.1|Iris-versicolor|               avg|    5.228571428571429|\n",
      "|100|          5.7|         2.8|          4.1|         1.3|Iris-versicolor|  more_than_normal|    6.273737373737371|\n",
      "+---+-------------+------------+-------------+------------+---------------+------------------+---------------------+\n",
      "only showing top 100 rows\n",
      "\n"
     ]
    }
   ],
   "source": [
    "from pyspark.sql.window import Window\n",
    "\n",
    "window = Window.partitionBy('PetalLengthCm_info')\n",
    "rows.withColumn('average_SepalLengthCm', F.avg('SepalLengthCm').over(window)).orderBy('Id').show(100)"
   ]
  },
  {
   "cell_type": "markdown",
   "id": "a3495b53",
   "metadata": {},
   "source": [
    "# Iterate over DataFrame"
   ]
  },
  {
   "cell_type": "code",
   "execution_count": 70,
   "id": "550596da",
   "metadata": {
    "ExecuteTime": {
     "end_time": "2023-11-14T07:42:37.005785Z",
     "start_time": "2023-11-14T07:42:36.927057Z"
    }
   },
   "outputs": [
    {
     "name": "stdout",
     "output_type": "stream",
     "text": [
      "1) Iris-setosa - less_than_avg\n",
      "2) Iris-setosa - less_than_avg\n",
      "3) Iris-setosa - less_than_avg\n",
      "4) Iris-setosa - less_than_avg\n",
      "5) Iris-setosa - less_than_avg\n",
      "6) Iris-setosa - avg\n",
      "7) Iris-setosa - less_than_avg\n",
      "8) Iris-setosa - less_than_avg\n",
      "9) Iris-setosa - less_than_avg\n",
      "10) Iris-setosa - less_than_avg\n"
     ]
    }
   ],
   "source": [
    "rows_collect = rows.collect()\n",
    "\n",
    "i = 0\n",
    "for row in rows_collect:\n",
    "    print(f\"{row['Id']}) {row['Species']} - {row['PetalLengthCm_info']}\")\n",
    "    i += 1\n",
    "    if i == 10:\n",
    "        break"
   ]
  },
  {
   "cell_type": "code",
   "execution_count": 71,
   "id": "453c8a2e",
   "metadata": {
    "ExecuteTime": {
     "end_time": "2023-11-14T07:43:50.704876Z",
     "start_time": "2023-11-14T07:43:50.530429Z"
    }
   },
   "outputs": [
    {
     "name": "stdout",
     "output_type": "stream",
     "text": [
      "1) Iris-setosa - less_than_avg\n",
      "2) Iris-setosa - less_than_avg\n",
      "3) Iris-setosa - less_than_avg\n",
      "4) Iris-setosa - less_than_avg\n",
      "5) Iris-setosa - less_than_avg\n",
      "6) Iris-setosa - avg\n",
      "7) Iris-setosa - less_than_avg\n",
      "8) Iris-setosa - less_than_avg\n",
      "9) Iris-setosa - less_than_avg\n",
      "10) Iris-setosa - less_than_avg\n"
     ]
    }
   ],
   "source": [
    "rows_iterator = rows.rdd.toLocalIterator()\n",
    "\n",
    "i = 0\n",
    "for row in rows_iterator:\n",
    "    print(f\"{row['Id']}) {row['Species']} - {row['PetalLengthCm_info']}\")\n",
    "    i += 1\n",
    "    if i == 10:\n",
    "        break"
   ]
  },
  {
   "cell_type": "markdown",
   "id": "38e3eb65",
   "metadata": {},
   "source": [
    "# Visualization"
   ]
  },
  {
   "cell_type": "code",
   "execution_count": 83,
   "id": "52e1359b",
   "metadata": {
    "ExecuteTime": {
     "end_time": "2023-11-14T08:56:35.628779Z",
     "start_time": "2023-11-14T08:56:35.463726Z"
    }
   },
   "outputs": [],
   "source": [
    "selected_df = rows \\\n",
    "    .select(\n",
    "    [\n",
    "        'SepalLengthCm', \n",
    "        'SepalWidthCm', \n",
    "        'PetalLengthCm', \n",
    "        'PetalWidthCm',\n",
    "        'Species',\n",
    "        'PetalLengthCm_info'\n",
    "    ]) \\\n",
    "    .toPandas()"
   ]
  },
  {
   "cell_type": "code",
   "execution_count": 84,
   "id": "46349fab",
   "metadata": {
    "ExecuteTime": {
     "end_time": "2023-11-14T08:56:36.498674Z",
     "start_time": "2023-11-14T08:56:36.469028Z"
    }
   },
   "outputs": [
    {
     "data": {
      "text/html": [
       "<div>\n",
       "<style scoped>\n",
       "    .dataframe tbody tr th:only-of-type {\n",
       "        vertical-align: middle;\n",
       "    }\n",
       "\n",
       "    .dataframe tbody tr th {\n",
       "        vertical-align: top;\n",
       "    }\n",
       "\n",
       "    .dataframe thead th {\n",
       "        text-align: right;\n",
       "    }\n",
       "</style>\n",
       "<table border=\"1\" class=\"dataframe\">\n",
       "  <thead>\n",
       "    <tr style=\"text-align: right;\">\n",
       "      <th></th>\n",
       "      <th>SepalLengthCm</th>\n",
       "      <th>SepalWidthCm</th>\n",
       "      <th>PetalLengthCm</th>\n",
       "      <th>PetalWidthCm</th>\n",
       "      <th>Species</th>\n",
       "      <th>PetalLengthCm_info</th>\n",
       "    </tr>\n",
       "  </thead>\n",
       "  <tbody>\n",
       "    <tr>\n",
       "      <th>0</th>\n",
       "      <td>5.1</td>\n",
       "      <td>3.5</td>\n",
       "      <td>1.4</td>\n",
       "      <td>0.2</td>\n",
       "      <td>Iris-setosa</td>\n",
       "      <td>less_than_avg</td>\n",
       "    </tr>\n",
       "    <tr>\n",
       "      <th>1</th>\n",
       "      <td>4.9</td>\n",
       "      <td>3.0</td>\n",
       "      <td>1.4</td>\n",
       "      <td>0.2</td>\n",
       "      <td>Iris-setosa</td>\n",
       "      <td>less_than_avg</td>\n",
       "    </tr>\n",
       "    <tr>\n",
       "      <th>2</th>\n",
       "      <td>4.7</td>\n",
       "      <td>3.2</td>\n",
       "      <td>1.3</td>\n",
       "      <td>0.2</td>\n",
       "      <td>Iris-setosa</td>\n",
       "      <td>less_than_avg</td>\n",
       "    </tr>\n",
       "    <tr>\n",
       "      <th>3</th>\n",
       "      <td>4.6</td>\n",
       "      <td>3.1</td>\n",
       "      <td>1.5</td>\n",
       "      <td>0.2</td>\n",
       "      <td>Iris-setosa</td>\n",
       "      <td>less_than_avg</td>\n",
       "    </tr>\n",
       "    <tr>\n",
       "      <th>4</th>\n",
       "      <td>5.0</td>\n",
       "      <td>3.6</td>\n",
       "      <td>1.4</td>\n",
       "      <td>0.2</td>\n",
       "      <td>Iris-setosa</td>\n",
       "      <td>less_than_avg</td>\n",
       "    </tr>\n",
       "    <tr>\n",
       "      <th>...</th>\n",
       "      <td>...</td>\n",
       "      <td>...</td>\n",
       "      <td>...</td>\n",
       "      <td>...</td>\n",
       "      <td>...</td>\n",
       "      <td>...</td>\n",
       "    </tr>\n",
       "    <tr>\n",
       "      <th>145</th>\n",
       "      <td>6.7</td>\n",
       "      <td>3.0</td>\n",
       "      <td>5.2</td>\n",
       "      <td>2.3</td>\n",
       "      <td>Iris-virginica</td>\n",
       "      <td>more_than_normal</td>\n",
       "    </tr>\n",
       "    <tr>\n",
       "      <th>146</th>\n",
       "      <td>6.3</td>\n",
       "      <td>2.5</td>\n",
       "      <td>5.0</td>\n",
       "      <td>1.9</td>\n",
       "      <td>Iris-virginica</td>\n",
       "      <td>more_than_normal</td>\n",
       "    </tr>\n",
       "    <tr>\n",
       "      <th>147</th>\n",
       "      <td>6.5</td>\n",
       "      <td>3.0</td>\n",
       "      <td>5.2</td>\n",
       "      <td>2.0</td>\n",
       "      <td>Iris-virginica</td>\n",
       "      <td>more_than_normal</td>\n",
       "    </tr>\n",
       "    <tr>\n",
       "      <th>148</th>\n",
       "      <td>6.2</td>\n",
       "      <td>3.4</td>\n",
       "      <td>5.4</td>\n",
       "      <td>2.3</td>\n",
       "      <td>Iris-virginica</td>\n",
       "      <td>more_than_normal</td>\n",
       "    </tr>\n",
       "    <tr>\n",
       "      <th>149</th>\n",
       "      <td>5.9</td>\n",
       "      <td>3.0</td>\n",
       "      <td>5.1</td>\n",
       "      <td>1.8</td>\n",
       "      <td>Iris-virginica</td>\n",
       "      <td>more_than_normal</td>\n",
       "    </tr>\n",
       "  </tbody>\n",
       "</table>\n",
       "<p>150 rows × 6 columns</p>\n",
       "</div>"
      ],
      "text/plain": [
       "     SepalLengthCm  SepalWidthCm  PetalLengthCm  PetalWidthCm         Species  \\\n",
       "0              5.1           3.5            1.4           0.2     Iris-setosa   \n",
       "1              4.9           3.0            1.4           0.2     Iris-setosa   \n",
       "2              4.7           3.2            1.3           0.2     Iris-setosa   \n",
       "3              4.6           3.1            1.5           0.2     Iris-setosa   \n",
       "4              5.0           3.6            1.4           0.2     Iris-setosa   \n",
       "..             ...           ...            ...           ...             ...   \n",
       "145            6.7           3.0            5.2           2.3  Iris-virginica   \n",
       "146            6.3           2.5            5.0           1.9  Iris-virginica   \n",
       "147            6.5           3.0            5.2           2.0  Iris-virginica   \n",
       "148            6.2           3.4            5.4           2.3  Iris-virginica   \n",
       "149            5.9           3.0            5.1           1.8  Iris-virginica   \n",
       "\n",
       "    PetalLengthCm_info  \n",
       "0        less_than_avg  \n",
       "1        less_than_avg  \n",
       "2        less_than_avg  \n",
       "3        less_than_avg  \n",
       "4        less_than_avg  \n",
       "..                 ...  \n",
       "145   more_than_normal  \n",
       "146   more_than_normal  \n",
       "147   more_than_normal  \n",
       "148   more_than_normal  \n",
       "149   more_than_normal  \n",
       "\n",
       "[150 rows x 6 columns]"
      ]
     },
     "execution_count": 84,
     "metadata": {},
     "output_type": "execute_result"
    }
   ],
   "source": [
    "selected_df"
   ]
  },
  {
   "cell_type": "code",
   "execution_count": 86,
   "id": "fc37bc05",
   "metadata": {
    "ExecuteTime": {
     "end_time": "2023-11-14T08:58:11.476749Z",
     "start_time": "2023-11-14T08:58:04.657290Z"
    }
   },
   "outputs": [
    {
     "data": {
      "image/png": "[encoded data removed]",
      "text/plain": [
       "<Figure size 1180.38x1000 with 14 Axes>"
      ]
     },
     "metadata": {},
     "output_type": "display_data"
    }
   ],
   "source": [
    "import matplotlib.pyplot as plt\n",
    "import seaborn as sb\n",
    "\n",
    "sb.pairplot(selected_df, corner = True, palette = 'tab10', hue = 'PetalLengthCm_info')\n",
    "plt.show()"
   ]
  },
  {
   "cell_type": "code",
   "execution_count": null,
   "id": "012715ad",
   "metadata": {},
   "outputs": [],
   "source": []
  }
 ],
 "metadata": {
  "kernelspec": {
   "display_name": "Python 3 (ipykernel)",
   "language": "python",
   "name": "python3"
  },
  "language_info": {
   "codemirror_mode": {
    "name": "ipython",
    "version": 3
   },
   "file_extension": ".py",
   "mimetype": "text/x-python",
   "name": "python",
   "nbconvert_exporter": "python",
   "pygments_lexer": "ipython3",
   "version": "3.8.17"
  },
  "toc": {
   "base_numbering": 1,
   "nav_menu": {},
   "number_sections": true,
   "sideBar": true,
   "skip_h1_title": false,
   "title_cell": "Table of Contents",
   "title_sidebar": "Contents",
   "toc_cell": false,
   "toc_position": {
    "height": "calc(100% - 180px)",
    "left": "10px",
    "top": "150px",
    "width": "384px"
   },
   "toc_section_display": true,
   "toc_window_display": true
  }
 },
 "nbformat": 4,
 "nbformat_minor": 5
}
