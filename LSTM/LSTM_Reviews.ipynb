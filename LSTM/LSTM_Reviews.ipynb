{
 "cells": [
  {
   "cell_type": "markdown",
   "id": "52eaf7dc",
   "metadata": {
    "id": "52eaf7dc"
   },
   "source": [
    "# Set up"
   ]
  },
  {
   "cell_type": "code",
   "execution_count": 1,
   "id": "SsU9uiSJz95m",
   "metadata": {
    "colab": {
     "base_uri": "https://localhost:8080/"
    },
    "id": "SsU9uiSJz95m",
    "outputId": "08a57a02-3b0d-4b17-ee3a-f002d72a2eb4"
   },
   "outputs": [
    {
     "name": "stdout",
     "output_type": "stream",
     "text": [
      "Drive already mounted at /content/drive; to attempt to forcibly remount, call drive.mount(\"/content/drive\", force_remount=True).\n"
     ]
    }
   ],
   "source": [
    "from google.colab import drive\n",
    "\n",
    "drive.mount('/content/drive')\n",
    "drive_path = 'drive/MyDrive'"
   ]
  },
  {
   "cell_type": "code",
   "execution_count": 1,
   "id": "79e51b5d",
   "metadata": {
    "ExecuteTime": {
     "end_time": "2023-09-16T02:00:03.848076Z",
     "start_time": "2023-09-16T02:00:00.692588Z"
    },
    "id": "79e51b5d"
   },
   "outputs": [],
   "source": [
    "import numpy as np\n",
    "import pandas as pd\n",
    "pd.set_option('display.max_rows', 50)\n",
    "pd.set_option('display.max_columns', 10)\n",
    "import matplotlib.pyplot as plt\n",
    "import seaborn as sb\n",
    "import re"
   ]
  },
  {
   "cell_type": "code",
   "execution_count": 2,
   "id": "37adf4aa",
   "metadata": {
    "ExecuteTime": {
     "end_time": "2023-09-16T02:00:04.233165Z",
     "start_time": "2023-09-16T02:00:03.848076Z"
    },
    "id": "37adf4aa"
   },
   "outputs": [],
   "source": [
    "from sklearn.metrics import confusion_matrix, classification_report\n",
    "from sklearn.preprocessing import LabelEncoder\n",
    "from sklearn.model_selection import train_test_split"
   ]
  },
  {
   "cell_type": "code",
   "execution_count": 3,
   "id": "487c0548",
   "metadata": {
    "ExecuteTime": {
     "end_time": "2023-09-16T02:00:09.685080Z",
     "start_time": "2023-09-16T02:00:04.355128Z"
    },
    "colab": {
     "base_uri": "https://localhost:8080/"
    },
    "id": "487c0548",
    "outputId": "2456c861-f181-4f29-b44b-946eedff3192"
   },
   "outputs": [
    {
     "data": {
      "text/plain": [
       "[PhysicalDevice(name='/physical_device:CPU:0', device_type='CPU'),\n",
       " PhysicalDevice(name='/physical_device:GPU:0', device_type='GPU')]"
      ]
     },
     "execution_count": 3,
     "metadata": {},
     "output_type": "execute_result"
    }
   ],
   "source": [
    "import tensorflow as tf\n",
    "from tensorflow import keras\n",
    "from keras.models import Sequential\n",
    "from keras.layers import Dense, SpatialDropout1D, LSTM, Embedding\n",
    "\n",
    "# List of devices\n",
    "tf.config.list_physical_devices()\n",
    "\n",
    "# Plot model function\n",
    "# keras.utils.plot_model(model, show_shapes = True)\n",
    "\n",
    "# Model loading function\n",
    "# model = keras.models.load_model('model.keras', compile = False)\n",
    "# model.compile(loss = 'sparse_categorical_crossentropy', optimizer = 'adam', metrics = ['accuracy'])\n",
    "# model.summary()"
   ]
  },
  {
   "cell_type": "markdown",
   "id": "3eac3d7d",
   "metadata": {
    "id": "3eac3d7d"
   },
   "source": [
    "# Load and analysis of dataset"
   ]
  },
  {
   "cell_type": "code",
   "execution_count": 4,
   "id": "baf6f651",
   "metadata": {
    "ExecuteTime": {
     "end_time": "2023-09-16T02:00:17.482236Z",
     "start_time": "2023-09-16T02:00:16.385930Z"
    },
    "colab": {
     "base_uri": "https://localhost:8080/",
     "height": 424
    },
    "id": "baf6f651",
    "outputId": "c071c050-cfa0-4bf6-e238-c31da9e628c5"
   },
   "outputs": [
    {
     "data": {
      "text/html": [
       "<div>\n",
       "<style scoped>\n",
       "    .dataframe tbody tr th:only-of-type {\n",
       "        vertical-align: middle;\n",
       "    }\n",
       "\n",
       "    .dataframe tbody tr th {\n",
       "        vertical-align: top;\n",
       "    }\n",
       "\n",
       "    .dataframe thead th {\n",
       "        text-align: right;\n",
       "    }\n",
       "</style>\n",
       "<table border=\"1\" class=\"dataframe\">\n",
       "  <thead>\n",
       "    <tr style=\"text-align: right;\">\n",
       "      <th></th>\n",
       "      <th>review</th>\n",
       "      <th>sentiment</th>\n",
       "    </tr>\n",
       "  </thead>\n",
       "  <tbody>\n",
       "    <tr>\n",
       "      <th>0</th>\n",
       "      <td>One of the other reviewers has mentioned that ...</td>\n",
       "      <td>positive</td>\n",
       "    </tr>\n",
       "    <tr>\n",
       "      <th>1</th>\n",
       "      <td>A wonderful little production.  The filming te...</td>\n",
       "      <td>positive</td>\n",
       "    </tr>\n",
       "    <tr>\n",
       "      <th>2</th>\n",
       "      <td>I thought this was a wonderful way to spend ti...</td>\n",
       "      <td>positive</td>\n",
       "    </tr>\n",
       "    <tr>\n",
       "      <th>3</th>\n",
       "      <td>Basically there's a family where a little boy ...</td>\n",
       "      <td>negative</td>\n",
       "    </tr>\n",
       "    <tr>\n",
       "      <th>4</th>\n",
       "      <td>Petter Mattei's \"Love in the Time of Money\" is...</td>\n",
       "      <td>positive</td>\n",
       "    </tr>\n",
       "    <tr>\n",
       "      <th>...</th>\n",
       "      <td>...</td>\n",
       "      <td>...</td>\n",
       "    </tr>\n",
       "    <tr>\n",
       "      <th>49995</th>\n",
       "      <td>I thought this movie did a down right good job...</td>\n",
       "      <td>positive</td>\n",
       "    </tr>\n",
       "    <tr>\n",
       "      <th>49996</th>\n",
       "      <td>Bad plot, bad dialogue, bad acting, idiotic di...</td>\n",
       "      <td>negative</td>\n",
       "    </tr>\n",
       "    <tr>\n",
       "      <th>49997</th>\n",
       "      <td>I am a Catholic taught in parochial elementary...</td>\n",
       "      <td>negative</td>\n",
       "    </tr>\n",
       "    <tr>\n",
       "      <th>49998</th>\n",
       "      <td>I'm going to have to disagree with the previou...</td>\n",
       "      <td>negative</td>\n",
       "    </tr>\n",
       "    <tr>\n",
       "      <th>49999</th>\n",
       "      <td>No one expects the Star Trek movies to be high...</td>\n",
       "      <td>negative</td>\n",
       "    </tr>\n",
       "  </tbody>\n",
       "</table>\n",
       "<p>50000 rows × 2 columns</p>\n",
       "</div>"
      ],
      "text/plain": [
       "                                                  review sentiment\n",
       "0      One of the other reviewers has mentioned that ...  positive\n",
       "1      A wonderful little production.  The filming te...  positive\n",
       "2      I thought this was a wonderful way to spend ti...  positive\n",
       "3      Basically there's a family where a little boy ...  negative\n",
       "4      Petter Mattei's \"Love in the Time of Money\" is...  positive\n",
       "...                                                  ...       ...\n",
       "49995  I thought this movie did a down right good job...  positive\n",
       "49996  Bad plot, bad dialogue, bad acting, idiotic di...  negative\n",
       "49997  I am a Catholic taught in parochial elementary...  negative\n",
       "49998  I'm going to have to disagree with the previou...  negative\n",
       "49999  No one expects the Star Trek movies to be high...  negative\n",
       "\n",
       "[50000 rows x 2 columns]"
      ]
     },
     "execution_count": 4,
     "metadata": {},
     "output_type": "execute_result"
    }
   ],
   "source": [
    "#df = pd.read_csv(f'{drive_path}/IMDB_Dataset.csv')\n",
    "df = pd.read_csv('IMDB_Dataset.csv')\n",
    "df"
   ]
  },
  {
   "cell_type": "code",
   "execution_count": null,
   "id": "1f2661fc",
   "metadata": {
    "ExecuteTime": {
     "end_time": "2023-09-15T15:48:38.539041Z",
     "start_time": "2023-09-15T15:48:37.911550Z"
    },
    "id": "1f2661fc",
    "outputId": "b1896044-1999-445a-81ca-dbebe8590d4e"
   },
   "outputs": [
    {
     "name": "stdout",
     "output_type": "stream",
     "text": [
      "Dataset info:\n",
      "<class 'pandas.core.frame.DataFrame'>\n",
      "RangeIndex: 50000 entries, 0 to 49999\n",
      "Data columns (total 2 columns):\n",
      " #   Column     Non-Null Count  Dtype \n",
      "---  ------     --------------  ----- \n",
      " 0   review     50000 non-null  object\n",
      " 1   sentiment  50000 non-null  object\n",
      "dtypes: object(2)\n",
      "memory usage: 781.4+ KB\n",
      "None\n",
      "\n",
      "Dataset description:\n",
      "                                                   review sentiment\n",
      "count                                               50000     50000\n",
      "unique                                              49581         2\n",
      "top     Loved today's show!!! It was a variety and not...  positive\n",
      "freq                                                    5     25000\n",
      "\n",
      "Amount of duplicates:\n",
      "419\n",
      "Duplicates:\n",
      "                                                  review sentiment\n",
      "3537   Quite what the producers of this appalling ada...  negative\n",
      "3769   My favourite police series of all time turns t...  positive\n",
      "4391   Beautiful film, pure Cassavetes style. Gena Ro...  positive\n",
      "6352   If you liked the Grinch movie... go watch that...  negative\n",
      "6479   I want very much to believe that the above quo...  negative\n",
      "...                                                  ...       ...\n",
      "49912  This is an incredible piece of drama and power...  positive\n",
      "49950  This was a very brief episode that appeared in...  negative\n",
      "49984  Hello it is I Derrick Cannon and I welcome you...  negative\n",
      "49986  This movie is a disgrace to the Major League F...  negative\n",
      "49991  Les Visiteurs, the first movie about the medie...  negative\n",
      "\n",
      "[419 rows x 2 columns]\n",
      "\n",
      "Amount of missing values:\n",
      "review       0\n",
      "sentiment    0\n",
      "dtype: int64\n"
     ]
    }
   ],
   "source": [
    "def dataset_lookup(df):\n",
    "    print('Dataset info:')\n",
    "    print(df.info())\n",
    "    print()\n",
    "    print('Dataset description:')\n",
    "    print(df.describe())\n",
    "    print()\n",
    "    print('Amount of duplicates:')\n",
    "    duplicates_amount = df.duplicated().sum()\n",
    "    print(duplicates_amount)\n",
    "    if (duplicates_amount > 0):\n",
    "        print('Duplicates:')\n",
    "        print(df[df.duplicated()])\n",
    "    print()\n",
    "    print('Amount of missing values:')\n",
    "    print(df.isna().sum(axis = 0))\n",
    "\n",
    "dataset_lookup(df)"
   ]
  },
  {
   "cell_type": "code",
   "execution_count": 5,
   "id": "4ef69b00",
   "metadata": {
    "ExecuteTime": {
     "end_time": "2023-09-16T02:00:23.154792Z",
     "start_time": "2023-09-16T02:00:22.666790Z"
    },
    "colab": {
     "base_uri": "https://localhost:8080/",
     "height": 442
    },
    "id": "4ef69b00",
    "outputId": "bf55f914-8b77-4cf1-fcb7-e1e0f984a81e"
   },
   "outputs": [
    {
     "name": "stdout",
     "output_type": "stream",
     "text": [
      "Duplicates: 0\n"
     ]
    },
    {
     "data": {
      "text/html": [
       "<div>\n",
       "<style scoped>\n",
       "    .dataframe tbody tr th:only-of-type {\n",
       "        vertical-align: middle;\n",
       "    }\n",
       "\n",
       "    .dataframe tbody tr th {\n",
       "        vertical-align: top;\n",
       "    }\n",
       "\n",
       "    .dataframe thead th {\n",
       "        text-align: right;\n",
       "    }\n",
       "</style>\n",
       "<table border=\"1\" class=\"dataframe\">\n",
       "  <thead>\n",
       "    <tr style=\"text-align: right;\">\n",
       "      <th></th>\n",
       "      <th>review</th>\n",
       "      <th>sentiment</th>\n",
       "    </tr>\n",
       "  </thead>\n",
       "  <tbody>\n",
       "    <tr>\n",
       "      <th>0</th>\n",
       "      <td>One of the other reviewers has mentioned that ...</td>\n",
       "      <td>positive</td>\n",
       "    </tr>\n",
       "    <tr>\n",
       "      <th>1</th>\n",
       "      <td>A wonderful little production.  The filming te...</td>\n",
       "      <td>positive</td>\n",
       "    </tr>\n",
       "    <tr>\n",
       "      <th>2</th>\n",
       "      <td>I thought this was a wonderful way to spend ti...</td>\n",
       "      <td>positive</td>\n",
       "    </tr>\n",
       "    <tr>\n",
       "      <th>3</th>\n",
       "      <td>Basically there's a family where a little boy ...</td>\n",
       "      <td>negative</td>\n",
       "    </tr>\n",
       "    <tr>\n",
       "      <th>4</th>\n",
       "      <td>Petter Mattei's \"Love in the Time of Money\" is...</td>\n",
       "      <td>positive</td>\n",
       "    </tr>\n",
       "    <tr>\n",
       "      <th>...</th>\n",
       "      <td>...</td>\n",
       "      <td>...</td>\n",
       "    </tr>\n",
       "    <tr>\n",
       "      <th>49576</th>\n",
       "      <td>I thought this movie did a down right good job...</td>\n",
       "      <td>positive</td>\n",
       "    </tr>\n",
       "    <tr>\n",
       "      <th>49577</th>\n",
       "      <td>Bad plot, bad dialogue, bad acting, idiotic di...</td>\n",
       "      <td>negative</td>\n",
       "    </tr>\n",
       "    <tr>\n",
       "      <th>49578</th>\n",
       "      <td>I am a Catholic taught in parochial elementary...</td>\n",
       "      <td>negative</td>\n",
       "    </tr>\n",
       "    <tr>\n",
       "      <th>49579</th>\n",
       "      <td>I'm going to have to disagree with the previou...</td>\n",
       "      <td>negative</td>\n",
       "    </tr>\n",
       "    <tr>\n",
       "      <th>49580</th>\n",
       "      <td>No one expects the Star Trek movies to be high...</td>\n",
       "      <td>negative</td>\n",
       "    </tr>\n",
       "  </tbody>\n",
       "</table>\n",
       "<p>49581 rows × 2 columns</p>\n",
       "</div>"
      ],
      "text/plain": [
       "                                                  review sentiment\n",
       "0      One of the other reviewers has mentioned that ...  positive\n",
       "1      A wonderful little production.  The filming te...  positive\n",
       "2      I thought this was a wonderful way to spend ti...  positive\n",
       "3      Basically there's a family where a little boy ...  negative\n",
       "4      Petter Mattei's \"Love in the Time of Money\" is...  positive\n",
       "...                                                  ...       ...\n",
       "49576  I thought this movie did a down right good job...  positive\n",
       "49577  Bad plot, bad dialogue, bad acting, idiotic di...  negative\n",
       "49578  I am a Catholic taught in parochial elementary...  negative\n",
       "49579  I'm going to have to disagree with the previou...  negative\n",
       "49580  No one expects the Star Trek movies to be high...  negative\n",
       "\n",
       "[49581 rows x 2 columns]"
      ]
     },
     "execution_count": 5,
     "metadata": {},
     "output_type": "execute_result"
    }
   ],
   "source": [
    "def rebuild_index_in_dataset(df):\n",
    "    return df.reset_index().drop(columns = ['index'])\n",
    "\n",
    "df.drop_duplicates(inplace = True)\n",
    "df = rebuild_index_in_dataset(df)\n",
    "print(f'Duplicates: {df.duplicated().sum()}')\n",
    "df"
   ]
  },
  {
   "cell_type": "code",
   "execution_count": 6,
   "id": "9bdb25fd",
   "metadata": {
    "ExecuteTime": {
     "end_time": "2023-09-16T02:00:25.698918Z",
     "start_time": "2023-09-16T02:00:25.683281Z"
    },
    "colab": {
     "base_uri": "https://localhost:8080/"
    },
    "id": "9bdb25fd",
    "outputId": "4e129f5f-4211-4b46-b4db-9eb2d62be6e8"
   },
   "outputs": [
    {
     "name": "stdout",
     "output_type": "stream",
     "text": [
      "Number of classes: 2\n"
     ]
    }
   ],
   "source": [
    "num_of_classes = len(df['sentiment'].unique())\n",
    "print(f'Number of classes: {num_of_classes}')"
   ]
  },
  {
   "cell_type": "code",
   "execution_count": null,
   "id": "23c4b0ff",
   "metadata": {
    "ExecuteTime": {
     "end_time": "2023-09-15T15:24:41.268063Z",
     "start_time": "2023-09-15T15:24:40.904422Z"
    },
    "id": "23c4b0ff",
    "outputId": "fefdd41f-3862-495a-eb48-5d18cf95686a"
   },
   "outputs": [
    {
     "data": {
      "image/png": "[encoded data removed]",
      "text/plain": [
       "<Figure size 1000x400 with 1 Axes>"
      ]
     },
     "metadata": {},
     "output_type": "display_data"
    }
   ],
   "source": [
    "def show_class_distribution(y, encoder = None):\n",
    "    plt.figure(figsize = (10, 4))\n",
    "    plt.title('Class distribution')\n",
    "    if encoder != None:\n",
    "        sb.histplot(encoder.inverse_transform(y), discrete = True)\n",
    "    else:\n",
    "        sb.histplot(y, discrete = True)\n",
    "    plt.show()\n",
    "\n",
    "show_class_distribution(df.sentiment)"
   ]
  },
  {
   "cell_type": "code",
   "execution_count": null,
   "id": "28e08262",
   "metadata": {
    "ExecuteTime": {
     "end_time": "2023-09-15T16:48:18.030725Z",
     "start_time": "2023-09-15T16:48:11.681924Z"
    },
    "id": "28e08262",
    "outputId": "e8a30263-94b5-4612-c89d-90df21d52877"
   },
   "outputs": [
    {
     "name": "stdout",
     "output_type": "stream",
     "text": [
      "Min. length: 4\n",
      "Max. length: 2459\n",
      "Avg. length: 229.05988180956416\n"
     ]
    },
    {
     "data": {
      "image/png": "[encoded data removed]",
      "text/plain": [
       "<Figure size 1000x400 with 1 Axes>"
      ]
     },
     "metadata": {},
     "output_type": "display_data"
    }
   ],
   "source": [
    "min_review_length = len(df.review[0].split())\n",
    "max_review_length = len(df.review[0].split())\n",
    "lengths = []\n",
    "\n",
    "for review in df.review:\n",
    "    review_length = len(review.split())\n",
    "    lengths.append(review_length)\n",
    "    if review_length < min_review_length:\n",
    "        min_review_length = review_length\n",
    "    if review_length > max_review_length:\n",
    "        max_review_length = review_length\n",
    "\n",
    "print(f'Min. length: {min_review_length}')\n",
    "print(f'Max. length: {max_review_length}')\n",
    "print(f'Avg. length: {np.average(lengths)}')\n",
    "plt.figure(figsize = (10, 4))\n",
    "plt.title('Review length distribution')\n",
    "sb.histplot(lengths, discrete = True)\n",
    "plt.show()"
   ]
  },
  {
   "cell_type": "markdown",
   "id": "498fb5dd",
   "metadata": {
    "id": "498fb5dd"
   },
   "source": [
    "# Preprocessing"
   ]
  },
  {
   "cell_type": "markdown",
   "id": "735127e2",
   "metadata": {
    "id": "735127e2"
   },
   "source": [
    "## Label encoding"
   ]
  },
  {
   "cell_type": "code",
   "execution_count": 7,
   "id": "2e725fce",
   "metadata": {
    "ExecuteTime": {
     "end_time": "2023-09-16T02:00:32.751375Z",
     "start_time": "2023-09-16T02:00:30.915454Z"
    },
    "colab": {
     "base_uri": "https://localhost:8080/",
     "height": 424
    },
    "id": "2e725fce",
    "outputId": "88061bb5-6fe6-4fa3-b84c-b8bd466d9062"
   },
   "outputs": [
    {
     "data": {
      "text/html": [
       "<div>\n",
       "<style scoped>\n",
       "    .dataframe tbody tr th:only-of-type {\n",
       "        vertical-align: middle;\n",
       "    }\n",
       "\n",
       "    .dataframe tbody tr th {\n",
       "        vertical-align: top;\n",
       "    }\n",
       "\n",
       "    .dataframe thead th {\n",
       "        text-align: right;\n",
       "    }\n",
       "</style>\n",
       "<table border=\"1\" class=\"dataframe\">\n",
       "  <thead>\n",
       "    <tr style=\"text-align: right;\">\n",
       "      <th></th>\n",
       "      <th>review</th>\n",
       "      <th>sentiment</th>\n",
       "    </tr>\n",
       "  </thead>\n",
       "  <tbody>\n",
       "    <tr>\n",
       "      <th>0</th>\n",
       "      <td>one of the other reviewers has mentioned that ...</td>\n",
       "      <td>1</td>\n",
       "    </tr>\n",
       "    <tr>\n",
       "      <th>1</th>\n",
       "      <td>a wonderful little production  the filming tec...</td>\n",
       "      <td>1</td>\n",
       "    </tr>\n",
       "    <tr>\n",
       "      <th>2</th>\n",
       "      <td>i thought this was a wonderful way to spend ti...</td>\n",
       "      <td>1</td>\n",
       "    </tr>\n",
       "    <tr>\n",
       "      <th>3</th>\n",
       "      <td>basically theres a family where a little boy j...</td>\n",
       "      <td>0</td>\n",
       "    </tr>\n",
       "    <tr>\n",
       "      <th>4</th>\n",
       "      <td>petter matteis love in the time of money is a ...</td>\n",
       "      <td>1</td>\n",
       "    </tr>\n",
       "    <tr>\n",
       "      <th>...</th>\n",
       "      <td>...</td>\n",
       "      <td>...</td>\n",
       "    </tr>\n",
       "    <tr>\n",
       "      <th>49576</th>\n",
       "      <td>i thought this movie did a down right good job...</td>\n",
       "      <td>1</td>\n",
       "    </tr>\n",
       "    <tr>\n",
       "      <th>49577</th>\n",
       "      <td>bad plot bad dialogue bad acting idiotic direc...</td>\n",
       "      <td>0</td>\n",
       "    </tr>\n",
       "    <tr>\n",
       "      <th>49578</th>\n",
       "      <td>i am a catholic taught in parochial elementary...</td>\n",
       "      <td>0</td>\n",
       "    </tr>\n",
       "    <tr>\n",
       "      <th>49579</th>\n",
       "      <td>im going to have to disagree with the previous...</td>\n",
       "      <td>0</td>\n",
       "    </tr>\n",
       "    <tr>\n",
       "      <th>49580</th>\n",
       "      <td>no one expects the star trek movies to be high...</td>\n",
       "      <td>0</td>\n",
       "    </tr>\n",
       "  </tbody>\n",
       "</table>\n",
       "<p>49581 rows × 2 columns</p>\n",
       "</div>"
      ],
      "text/plain": [
       "                                                  review  sentiment\n",
       "0      one of the other reviewers has mentioned that ...          1\n",
       "1      a wonderful little production  the filming tec...          1\n",
       "2      i thought this was a wonderful way to spend ti...          1\n",
       "3      basically theres a family where a little boy j...          0\n",
       "4      petter matteis love in the time of money is a ...          1\n",
       "...                                                  ...        ...\n",
       "49576  i thought this movie did a down right good job...          1\n",
       "49577  bad plot bad dialogue bad acting idiotic direc...          0\n",
       "49578  i am a catholic taught in parochial elementary...          0\n",
       "49579  im going to have to disagree with the previous...          0\n",
       "49580  no one expects the star trek movies to be high...          0\n",
       "\n",
       "[49581 rows x 2 columns]"
      ]
     },
     "execution_count": 7,
     "metadata": {},
     "output_type": "execute_result"
    }
   ],
   "source": [
    "df_enc = df.copy()\n",
    "label_encoder = LabelEncoder()\n",
    "df_enc['sentiment'] = label_encoder.fit_transform(df_enc['sentiment'])\n",
    "df_enc['review'] = df_enc['review'].apply(lambda x: x.lower())\n",
    "df_enc['review'] = df_enc['review'].apply((lambda x: re.sub('[^a-zA-z0-9\\s]', '', x)))\n",
    "df_enc"
   ]
  },
  {
   "cell_type": "markdown",
   "id": "182ef303",
   "metadata": {
    "id": "182ef303"
   },
   "source": [
    "## String vectorization"
   ]
  },
  {
   "cell_type": "code",
   "execution_count": 8,
   "id": "QJZ_cvr5-lqO",
   "metadata": {
    "ExecuteTime": {
     "end_time": "2023-09-16T02:01:08.242527Z",
     "start_time": "2023-09-16T02:01:06.228098Z"
    },
    "colab": {
     "base_uri": "https://localhost:8080/"
    },
    "id": "QJZ_cvr5-lqO",
    "outputId": "b4a86d55-798f-454b-b05b-3e2902ecc7b9"
   },
   "outputs": [
    {
     "data": {
      "text/plain": [
       "0        [one, of, the, other, reviewers, has, mentione...\n",
       "1        [a, wonderful, little, production, the, filmin...\n",
       "2        [i, thought, this, was, a, wonderful, way, to,...\n",
       "3        [basically, theres, a, family, where, a, littl...\n",
       "4        [petter, matteis, love, in, the, time, of, mon...\n",
       "                               ...                        \n",
       "49576    [i, thought, this, movie, did, a, down, right,...\n",
       "49577    [bad, plot, bad, dialogue, bad, acting, idioti...\n",
       "49578    [i, am, a, catholic, taught, in, parochial, el...\n",
       "49579    [im, going, to, have, to, disagree, with, the,...\n",
       "49580    [no, one, expects, the, star, trek, movies, to...\n",
       "Name: review, Length: 49581, dtype: object"
      ]
     },
     "execution_count": 8,
     "metadata": {},
     "output_type": "execute_result"
    }
   ],
   "source": [
    "reviews_splitted = df_enc['review'].str.split()\n",
    "reviews_splitted"
   ]
  },
  {
   "cell_type": "code",
   "execution_count": 9,
   "id": "0347a45c",
   "metadata": {
    "ExecuteTime": {
     "end_time": "2023-09-16T02:01:25.456517Z",
     "start_time": "2023-09-16T02:01:08.244557Z"
    }
   },
   "outputs": [
    {
     "name": "stdout",
     "output_type": "stream",
     "text": [
      "Vocabulary size: 168063\n",
      "Padded sequences shape: (49581, 100)\n"
     ]
    },
    {
     "data": {
      "text/plain": [
       "array([[   13,    36,  1578, ...,   121,  4006,   500],\n",
       "       [13370,   787,  9977, ...,  1911,    69,   221],\n",
       "       [    9,   192,     8, ...,    63,    14,   331],\n",
       "       ...,\n",
       "       [ 1030,   226,    25, ..., 22785,     2,  5900],\n",
       "       [    5,    68,   133, ...,    67,   711,    41],\n",
       "       [    1,   113,   678, ...,   786,    10,    16]])"
      ]
     },
     "execution_count": 9,
     "metadata": {},
     "output_type": "execute_result"
    }
   ],
   "source": [
    "from keras.preprocessing.text import Tokenizer\n",
    "from keras.preprocessing.sequence import pad_sequences\n",
    "\n",
    "tokenizer = Tokenizer()\n",
    "tokenizer.fit_on_texts(reviews_splitted)\n",
    "encoded_reviews = tokenizer.texts_to_sequences(reviews_splitted)\n",
    "max_length = 100\n",
    "padded_reviews = pad_sequences(encoded_reviews, padding = 'post', maxlen = max_length)\n",
    "\n",
    "vocab_size = len(tokenizer.word_index) + 1\n",
    "print(f'Vocabulary size: {vocab_size}')\n",
    "print(f'Padded sequences shape: {padded_reviews.shape}')\n",
    "padded_reviews"
   ]
  },
  {
   "cell_type": "markdown",
   "id": "40fbe69b",
   "metadata": {
    "id": "40fbe69b"
   },
   "source": [
    "# Dataset split"
   ]
  },
  {
   "cell_type": "code",
   "execution_count": 12,
   "id": "0228a84f",
   "metadata": {
    "ExecuteTime": {
     "end_time": "2023-09-16T02:10:15.541432Z",
     "start_time": "2023-09-16T02:10:15.472356Z"
    },
    "colab": {
     "base_uri": "https://localhost:8080/"
    },
    "id": "0228a84f",
    "outputId": "bce9ba2f-8936-4b99-fb80-973f79262c56"
   },
   "outputs": [
    {
     "name": "stdout",
     "output_type": "stream",
     "text": [
      "x train: (33466, 100)\n",
      "y train: (33466, 2)\n",
      "\n",
      "x test: (12396, 100)\n",
      "y test: (12396, 2)\n",
      "\n",
      "x validation: (3719, 100)\n",
      "y validation: (3719, 2)\n"
     ]
    }
   ],
   "source": [
    "from sklearn.model_selection import train_test_split\n",
    "\n",
    "x = padded_reviews\n",
    "y = pd.get_dummies(df_enc['sentiment']).to_numpy()\n",
    "\n",
    "x_train_, x_test, y_train_, y_test = train_test_split(x, y, test_size = 0.25, random_state = 42)\n",
    "x_train, x_validation, y_train, y_validation = train_test_split(x_train_, y_train_, test_size = 0.1, random_state = 42)\n",
    "\n",
    "print(f'x train: {x_train.shape}')\n",
    "print(f'y train: {y_train.shape}')\n",
    "print()\n",
    "print(f'x test: {x_test.shape}')\n",
    "print(f'y test: {y_test.shape}')\n",
    "print()\n",
    "print(f'x validation: {x_validation.shape}')\n",
    "print(f'y validation: {y_validation.shape}')"
   ]
  },
  {
   "cell_type": "markdown",
   "id": "d69347c3",
   "metadata": {
    "id": "d69347c3"
   },
   "source": [
    "# NN with LSTM layers"
   ]
  },
  {
   "cell_type": "code",
   "execution_count": 13,
   "id": "b278013b",
   "metadata": {
    "ExecuteTime": {
     "end_time": "2023-09-16T02:10:19.485586Z",
     "start_time": "2023-09-16T02:10:19.454282Z"
    },
    "id": "b278013b"
   },
   "outputs": [],
   "source": [
    "def show_training_history(history, metrics, metric_names, figure_size = (7, 6), last_epoch = None):\n",
    "    if len(metrics) == 1 and len(metric_names) == 1:\n",
    "        plt.figure(figsize = figure_size)\n",
    "        fig, ax = plt.subplots()\n",
    "        metric = metrics[0]\n",
    "        metric_name = metric_names[0]\n",
    "        ax.plot(history[metric], color = 'b', label = f'Training {metric_name}')\n",
    "        if f'val_{metric}' in history:\n",
    "            ax.plot(history[f'val_{metric}'], color = 'r', label = f'Validation {metric_name}')\n",
    "        if last_epoch is not None:\n",
    "            ax.axvline(x = last_epoch, color = 'g', label = 'Start of fine tuning')\n",
    "        legend = ax.legend(loc = 'best', shadow = True)\n",
    "        plt.show()\n",
    "    elif len(metrics) > 1 and len(metrics) == len(metric_names):\n",
    "        plt.figure(figsize = figure_size)\n",
    "        fig, ax = plt.subplots(len(metrics), 1)\n",
    "        for i in range(len(metrics)):\n",
    "            metric = metrics[i]\n",
    "            metric_name = metric_names[i]\n",
    "            ax[i].plot(history[metric], color = 'b', label = f'Training {metric_name}')\n",
    "            if f'val_{metric}' in history:\n",
    "                ax[i].plot(history[f'val_{metric}'], color = 'r', label = f'Validation {metric_name}', axes = ax[i])\n",
    "            if last_epoch is not None:\n",
    "                ax[i].axvline(x = last_epoch, color = 'g', label = 'Start of fine tuning')\n",
    "            legend = ax[i].legend(loc = 'best', shadow = True)\n",
    "        plt.show()\n",
    "    else:\n",
    "        raise Exception('Invalid metrics/metric names amount')\n",
    "\n",
    "def show_confusion_matrix(labels_test, labels_predicted, labels = None):\n",
    "    plt.figure(figsize = (10, 7))\n",
    "    cm = confusion_matrix(labels_test, labels_predicted)\n",
    "    if labels != None:\n",
    "        sb.heatmap(\n",
    "            cm,\n",
    "            annot = True,\n",
    "            fmt = 'd',\n",
    "            cbar = False,\n",
    "            xticklabels = labels,\n",
    "            yticklabels = labels)\n",
    "    else:\n",
    "        sb.heatmap(\n",
    "            cm,\n",
    "            annot = True,\n",
    "            fmt = 'd',\n",
    "            cbar = False)\n",
    "    plt.xlabel('Predicted')\n",
    "    plt.ylabel('Truth')\n",
    "    plt.show()"
   ]
  },
  {
   "cell_type": "code",
   "execution_count": 26,
   "id": "20def60a",
   "metadata": {
    "ExecuteTime": {
     "end_time": "2023-09-16T02:25:52.181786Z",
     "start_time": "2023-09-16T02:25:51.571890Z"
    },
    "colab": {
     "base_uri": "https://localhost:8080/"
    },
    "id": "20def60a",
    "outputId": "9e054629-4fa4-4399-99da-4bdca2d4eaeb"
   },
   "outputs": [
    {
     "name": "stdout",
     "output_type": "stream",
     "text": [
      "Model: \"sequential_3\"\n",
      "_________________________________________________________________\n",
      " Layer (type)                Output Shape              Param #   \n",
      "=================================================================\n",
      " embedding_3 (Embedding)     (None, 100, 32)           5378016   \n",
      "                                                                 \n",
      " spatial_dropout1d_3 (Spatia  (None, 100, 32)          0         \n",
      " lDropout1D)                                                     \n",
      "                                                                 \n",
      " lstm_6 (LSTM)               (None, 100, 64)           24832     \n",
      "                                                                 \n",
      " lstm_7 (LSTM)               (None, 32)                12416     \n",
      "                                                                 \n",
      " dense_6 (Dense)             (None, 16)                528       \n",
      "                                                                 \n",
      " dense_7 (Dense)             (None, 2)                 34        \n",
      "                                                                 \n",
      "=================================================================\n",
      "Total params: 5,415,826\n",
      "Trainable params: 5,415,826\n",
      "Non-trainable params: 0\n",
      "_________________________________________________________________\n"
     ]
    }
   ],
   "source": [
    "dimension = 32\n",
    "LSTM\n",
    "model = Sequential(\n",
    "[\n",
    "    Embedding(vocab_size, dimension, input_length = x.shape[1]),\n",
    "    SpatialDropout1D(0.5),\n",
    "    LSTM(64, return_sequences = True, dropout = 0.5),\n",
    "    LSTM(32, dropout = 0.5),\n",
    "    Dense(16, activation = 'relu'),\n",
    "    Dense(num_of_classes, activation = 'softmax')\n",
    "])\n",
    "model.compile(loss = 'categorical_crossentropy', optimizer = 'adam', metrics = ['accuracy'])\n",
    "model.summary()"
   ]
  },
  {
   "cell_type": "code",
   "execution_count": 27,
   "id": "542270ad",
   "metadata": {
    "ExecuteTime": {
     "end_time": "2023-09-16T02:33:48.887795Z",
     "start_time": "2023-09-16T02:25:57.676516Z"
    },
    "colab": {
     "base_uri": "https://localhost:8080/",
     "height": 614
    },
    "id": "542270ad",
    "outputId": "96b38bc4-6abf-4ec0-cafc-0e2bf22b205f"
   },
   "outputs": [
    {
     "name": "stdout",
     "output_type": "stream",
     "text": [
      "Epoch 1/15\n",
      "1046/1046 [==============================] - 36s 30ms/step - loss: 0.4841 - accuracy: 0.7487 - val_loss: 0.3298 - val_accuracy: 0.8613\n",
      "Epoch 2/15\n",
      "1046/1046 [==============================] - 31s 30ms/step - loss: 0.3047 - accuracy: 0.8747 - val_loss: 0.3244 - val_accuracy: 0.8602\n",
      "Epoch 3/15\n",
      "1046/1046 [==============================] - 31s 30ms/step - loss: 0.2445 - accuracy: 0.9027 - val_loss: 0.3342 - val_accuracy: 0.8543\n",
      "Epoch 4/15\n",
      "1046/1046 [==============================] - 31s 30ms/step - loss: 0.2000 - accuracy: 0.9242 - val_loss: 0.3332 - val_accuracy: 0.8526\n",
      "Epoch 5/15\n",
      "1046/1046 [==============================] - 31s 30ms/step - loss: 0.1741 - accuracy: 0.9366 - val_loss: 0.3767 - val_accuracy: 0.8537\n",
      "Epoch 6/15\n",
      "1046/1046 [==============================] - 32s 30ms/step - loss: 0.1500 - accuracy: 0.9443 - val_loss: 0.3564 - val_accuracy: 0.8561\n",
      "Epoch 7/15\n",
      "1046/1046 [==============================] - 31s 30ms/step - loss: 0.1345 - accuracy: 0.9500 - val_loss: 0.3754 - val_accuracy: 0.8513\n",
      "Epoch 8/15\n",
      "1046/1046 [==============================] - 31s 30ms/step - loss: 0.1212 - accuracy: 0.9563 - val_loss: 0.4704 - val_accuracy: 0.8473\n",
      "Epoch 9/15\n",
      "1046/1046 [==============================] - 30s 28ms/step - loss: 0.1094 - accuracy: 0.9597 - val_loss: 0.4267 - val_accuracy: 0.8502\n",
      "Epoch 10/15\n",
      "1046/1046 [==============================] - 30s 28ms/step - loss: 0.0988 - accuracy: 0.9647 - val_loss: 0.4797 - val_accuracy: 0.8510\n",
      "Epoch 11/15\n",
      "1046/1046 [==============================] - 31s 29ms/step - loss: 0.0877 - accuracy: 0.9677 - val_loss: 0.5230 - val_accuracy: 0.8443\n",
      "Epoch 12/15\n",
      "1046/1046 [==============================] - 30s 28ms/step - loss: 0.0889 - accuracy: 0.9689 - val_loss: 0.5595 - val_accuracy: 0.8411\n",
      "Epoch 13/15\n",
      "1046/1046 [==============================] - 31s 29ms/step - loss: 0.0775 - accuracy: 0.9721 - val_loss: 0.5025 - val_accuracy: 0.8470\n",
      "Epoch 14/15\n",
      "1046/1046 [==============================] - 30s 28ms/step - loss: 0.0722 - accuracy: 0.9745 - val_loss: 0.5618 - val_accuracy: 0.8397\n",
      "Epoch 15/15\n",
      "1046/1046 [==============================] - 31s 30ms/step - loss: 0.0697 - accuracy: 0.9754 - val_loss: 0.5657 - val_accuracy: 0.8414\n",
      "Scores: loss of 0.544; accuracy of 0.845\n"
     ]
    }
   ],
   "source": [
    "epochs = 15\n",
    "batch_size = 32\n",
    "history = model.fit(\n",
    "    x = x_train,\n",
    "    y = y_train,\n",
    "    validation_data = (x_validation, y_validation),\n",
    "    epochs = epochs,\n",
    "    batch_size = batch_size)\n",
    "\n",
    "scores = model.evaluate(x_test, y_test, verbose = 0)\n",
    "print(f'Scores: {model.metrics_names[0]} of {scores[0]:.3f}; {model.metrics_names[1]} of {scores[1]:.3f}')"
   ]
  },
  {
   "cell_type": "code",
   "execution_count": 28,
   "id": "6d691ffe",
   "metadata": {
    "ExecuteTime": {
     "end_time": "2023-09-16T02:33:54.305826Z",
     "start_time": "2023-09-16T02:33:48.892789Z"
    },
    "id": "6d691ffe"
   },
   "outputs": [
    {
     "data": {
      "text/plain": [
       "<Figure size 700x600 with 0 Axes>"
      ]
     },
     "metadata": {},
     "output_type": "display_data"
    },
    {
     "data": {
      "image/png": "[encoded data removed]",
      "text/plain": [
       "<Figure size 640x480 with 2 Axes>"
      ]
     },
     "metadata": {},
     "output_type": "display_data"
    },
    {
     "name": "stdout",
     "output_type": "stream",
     "text": [
      "              precision    recall  f1-score   support\n",
      "\n",
      "    negative       0.85      0.83      0.84      6164\n",
      "    positive       0.84      0.86      0.85      6232\n",
      "\n",
      "    accuracy                           0.84     12396\n",
      "   macro avg       0.85      0.84      0.84     12396\n",
      "weighted avg       0.85      0.84      0.84     12396\n",
      "\n"
     ]
    },
    {
     "data": {
      "image/png": "[encoded data removed]",
      "text/plain": [
       "<Figure size 1000x700 with 1 Axes>"
      ]
     },
     "metadata": {},
     "output_type": "display_data"
    }
   ],
   "source": [
    "show_training_history(history.history, metrics = ['loss', 'accuracy'], metric_names = ['loss', 'accuracy'])\n",
    "y_pred = np.argmax(model.predict(x_test), axis = 1)\n",
    "y_test_argmax = np.argmax(y_test, axis = 1)\n",
    "print(classification_report(\n",
    "    label_encoder.inverse_transform(y_test_argmax),\n",
    "    label_encoder.inverse_transform(y_pred)))\n",
    "show_confusion_matrix(y_test_argmax, y_pred, list(label_encoder.classes_))"
   ]
  },
  {
   "cell_type": "markdown",
   "id": "c1cfbcce",
   "metadata": {
    "id": "c1cfbcce"
   },
   "source": [
    "# Test"
   ]
  },
  {
   "cell_type": "markdown",
   "id": "pKUu1MSt4SZu",
   "metadata": {
    "id": "pKUu1MSt4SZu"
   },
   "source": [
    "## Test of predictions"
   ]
  },
  {
   "cell_type": "code",
   "execution_count": 70,
   "id": "27b5e084",
   "metadata": {
    "ExecuteTime": {
     "end_time": "2023-09-16T04:26:13.294446Z",
     "start_time": "2023-09-16T04:26:13.247570Z"
    }
   },
   "outputs": [
    {
     "name": "stdout",
     "output_type": "stream",
     "text": [
      "Phil the Alien is one of those quirky films where the humour is based around the oddness of everything rather than actual punchlines. At first it was very odd and pretty funny but as the movie progressed I didn't find the jokes or oddness funny anymore. Its a low budget film (thats never a problem in itself), there were some pretty interesting characters, but eventually I just lost interest. I imagine this film would appeal to a stoner who is currently partaking. For something similar but better try \"Brother from another planet\"\n",
      "Original sentiment: negative\n",
      "Predicted sentiment: negative\n"
     ]
    }
   ],
   "source": [
    "def test_review(model, review_text, tokenizer, max_length, label_encoder):\n",
    "    review_text = re.sub('[^a-zA-z0-9\\s]', '', review_text.lower())\n",
    "    review_df = pd.DataFrame([review_text], columns = ['review'])\n",
    "    review_split = review_df['review'].str.split()\n",
    "    review_seq = tokenizer.texts_to_sequences(review_split)\n",
    "    review_pad = pad_sequences(review_seq, padding = 'post', maxlen = max_length)\n",
    "    prediction = np.argmax(model.predict_on_batch(review_pad), axis = 1)\n",
    "    return label_encoder.inverse_transform(prediction)[0]\n",
    "\n",
    "n = 10\n",
    "review_text = df.review.iloc[n]\n",
    "review_sentiment = df.sentiment.iloc[n]\n",
    "print(review_text)\n",
    "print(f'Original sentiment: {review_sentiment}')\n",
    "print(f'Predicted sentiment: {test_review(model, review_text, tokenizer, max_length, label_encoder)}')"
   ]
  },
  {
   "cell_type": "code",
   "execution_count": 72,
   "id": "4629e63b",
   "metadata": {
    "ExecuteTime": {
     "end_time": "2023-09-16T04:26:54.848921Z",
     "start_time": "2023-09-16T04:26:54.363076Z"
    },
    "id": "4629e63b",
    "outputId": "9c6b85db-2f3f-4366-8f6f-dfcb5ad60cb4"
   },
   "outputs": [
    {
     "name": "stdout",
     "output_type": "stream",
     "text": [
      "(30770) ---------------\n",
      "Original review text: \"I realize why people hate this film. And, I hated Blair Witch Project,so go figure? This is about as staged as it gets & yes they do insult your intelligence by trying to make it seem real.I really liked the madame lalaurie storyline though it's more than likely made up. But, the main reason I like this film, is fake or not when the ghosts start attacking & kidnapping them,I get chill-bumps every time & have to look behind me as it feels like something's there with me.i know it's my imagination, but hey more than half of the drivel that is horror in today's cinemas & DVD's doesn't give me goosebumps,so that makes this a creepy delight.Not for everyone, as skeptics will hate it & not for gorehounds as with a PG-13 rating there is no gore. And, the females are very annoying!You'll wish the ghosts would take them off & experiment on them before it's all said & done. ** out of *****.\"\n",
      "Original sentiment: negative\n",
      "Predicted sentiment: negative\n",
      "✅ Right\n",
      "\n",
      "(32092) ---------------\n",
      "Original review text: \"My brother is an avid DVD collector. He took one look at the cover (two models on toilets) and had to add it to his collection. I stayed up with him to watch what turned out to be likely the most cringeable movie (I use that term loosely) I've felt obligated to sit through. I dared not make eye contact with my brother, quite certain he must have been cursing the receipt in his clenched fist. The biggest name in the whole movie is Michael Clark Duncan who appears in one scene, which the \"filmmaker\" decided to show every take of (about four total) throughout the movie. In fact, the whole movie pretty much follows this suit. The fact that the DVD contained deleted footage was a shock. (I went to bed without viewing it, however). To no surprise at all, I found this disc without its case behind the TV about a week later.\"\n",
      "Original sentiment: negative\n",
      "Predicted sentiment: negative\n",
      "✅ Right\n",
      "\n",
      "(31794) ---------------\n",
      "Original review text: \"There are plenty of reviews that describe this movie as the worst ever made. For sure there are plenty of mistakes: lackluster acting, rather boring and cliched and at times paradoxical script, and the stock B-movie sound and \"special\" effects. As noted, there are plenty of glosses of plot, making _Cave Dwellers_ a tissue of fantasy film, especially in comparison with the Lord of the Rings trilogy. However, this movie is not the worst movie ever. Most, if not all, (including this review) of these reviews are written by fans of MSTK3. Therefore, many of these reviews are pretty much summaries of the MSTK3 episode of _Cave Dwellers_. In the episode, Joel, Tom Servo, and Crow remark to the Mad Scientists that this is the worst movie ever sent to them. Of course, loyal fans have taken this quote and ran with it. I have found this movie endearing-not in a way that one finds _Forrest Gump_ endearing-but in the effort put into this movie by some the cast. Also, this movie is laughable without its MSTK3 treatment. That is because _Cave Dwellers_ does not take itself seriously, and it is not trying to import into its viewers some sort of righteous theme. For all of the monster puppets, medieval hang gliding, and continuity lapses-this movie does not advertise to be any more that what it is, a shallow depiction of a rather shallow genre. Likewise, I can't bring myself to hate Miles O'Keeffe or Lisa Foster. Instead this hatred is for Coleman Francis, Tony Cardoza, Jennifer Lopez, Arch Hall, Jr., and so on. \"\n",
      "Original sentiment: negative\n",
      "Predicted sentiment: negative\n",
      "✅ Right\n",
      "\n",
      "(44828) ---------------\n",
      "Original review text: \"SPOILER ALERT! Don't read on unless you're prepared for some spoilers. I think this film had a lot beneath its shell. Besides the apparent connections with \"Oldboy\" (and Park-wook's other films), an incestuous relation in this one really disturbed me, and also the subtle erotic theme that hung around all the vampiric, physical action. The main actor, Kang-ho Song, is terrific in the rôle of the priest Sang-hyeon - coincidentally, \"sang\" means \"blood\" in some languages - who truly loved Tae-ju, played by OK-bin Kim. Their relationship reminds me a lot of that between Martin Sheen and Sissy Spacek in \"Badlands\", where the girl appears psychopathic and the man is basically wrapped around her finger. Their relationship is one thing, but the girl's mother is entirely different. While moving, she is stiff, one-dimensional and taut, but paralysed, she says all through not moving, or through the wink of an eye. Park-wook has really, really mastered his cinematography in this film, and owes a lot to Stanley Kubrick; there are a whole lot of beautiful shots strewn throughout the film, some for simple effects and some that require several glances and probably repeated views to fully catch. The music is quite stock, using mostly strings to accompany the main thespian's monoreaction; it's a very good thing that the character is as withdrawn as he is. While he does very little and loses at that, he seems to instead be a person who thinks a lot. While his love-interest says and does a lot, her actions display very little thought behind it. In my humble opinion. All in all, a very disturbing film that is not made for action, which isn't even in the same dimension as most things that are about vampires these days; it's magnificent, and repellant at the same time.\"\n",
      "Original sentiment: positive\n",
      "Predicted sentiment: positive\n",
      "✅ Right\n",
      "\n",
      "(34483) ---------------\n",
      "Original review text: \"This film is absolutely awful, but nevertheless, it can be hilarious at times, although this humor is entirely unintentional. The plot was beyond ridiculous. I don't even think a 2 year-old would be convinced by the ludicrous idiocy that the film-makers tried to slap together into a story. However, on the positive side, some of the horrifically inane plot twists provide a great deal of humor. For example, \"Wow, Lady Hogbottom has a giant missile hidden in her back yard!\" It gets worse (and even funnier), but I'll spare you. The acting is generally laughable. Most of the kids' roles are sort of cute, but not very believable. On the other hand, Annie is pretty awful all-around. The adults don't take their roles seriously at all, but this is largely a good thing. If they'd tried to be believable, the film would've been even worse. Which is difficult to imagine. Once you get past the overall crappiness of the movie, there are actually a few standout moments of almost-not-crappiness. The scene where Lady Hogbottom's son runs away with the maid is surprisingly hilarious, though it's an annoying letdown when they get caught by the police. The butler character, while very minor, is a ray of sunlight that almost, but never quite pierces through the gloom. Watching this movie actually caused me physical pain. Nevertheless, there were a few redeeming parts that made it almost watchable without beginning to hemorrhage internally. Judged on its good parts alone, the movie would be about a 5; unfortunately, the rest of the movie hardly deserves a 1. Thus, I give it a 3. That's being pretty generous, I'd say.\"\n",
      "Original sentiment: negative\n",
      "Predicted sentiment: negative\n",
      "✅ Right\n",
      "\n",
      "(12094) ---------------\n",
      "Original review text: \"This is so bad I don't know where to begin. The lead role is a good starting point. It is a supreme Mary Sue character that has few things in common with the original one from the book, who was (a bit) more credible. No, this one is invincible, infallible, indomitable, and insipid even beyond the overinflated standards that this \"chicks with swords\" era that our medias are spinning out of late. She is a twenty-something top-model, thin as a match yet rich, already a leader in her academic field, a kung-fu master, a natural sniper and seems to have enough authority to naturally trump anyone official like puny FBI agents. She is God. To balance it out, she is supposed to be socially awkward (due to her typically harsh upbringing that transformed her into a \"Spock\") which gives us some delighted moments where she wonders what is \"Star Wars\", or \"American Idol\", but yet when it's really important she can conveniently reveal herself as a top negotiator and diplomat, because she is so superior, ya know. To top it out, she is played by a wooden actress. The more talented Boreanaz serves as a faire-valoir token for this construct, acting as a bumbling comic-relief and house \"Watson\". In fact, everything in there is a pop-parody of better works like Sherlock Holmes, CSI and X-Files, from which it tries to emulate the sexual tension between main protagonists. It is however cheaper, as this is delivered with all the subtlety of an elbow poke in the ribs, but a million million poor factory girls will doubtlessly buy into it, hence the crazy rating this turkey gets. In fact, the lowest common denominator goes a long way in this sad puppy, resulting in titillating sex details from the legion of sidekicks that aim to pass it out as daring and trendy, while the overall tone of the show carries an obvious neo-conservative view on things. Story-wise, there's not much here to feast upon, as crimes (that always start out with some gruesome remains) are resolved using non-existent technology while the \"squints\", lovable but so wrong (the women less than the guys) goes on varied theories, all of them futile as the main character has it all from the start, and once it is established she goes out and then punch the guy, typically a real tough hombre, with a spin kick here and a slapper there. The end.\"\n",
      "Original sentiment: negative\n",
      "Predicted sentiment: positive\n",
      "❌ Wrong\n",
      "\n",
      "(47579) ---------------\n",
      "Original review text: \"The best film about marriage and family. This is a very interesting reflections to the couples that will be come to the dangerous and paradoxical fascinating world of marriage and family. This decision could be the better or the worst in our lives and the life of our kids. The real intrusion or help of 'friends' -or executioner if we leave-. The real role of families: they can help or they can destroy us. The mad priest who possibly is not much mad telling what could happen according the statistics and the reality. A couple who thinks in a 'special' marriage, live a painful story in their future own history. Who likes contract marriage? Nobody, after the priest tells their own history",
      " if they leave the future in another hands, if they don't know WHAT is the marriage. That the problems are true, that the life demand a real engage, guaranties, from each one. That the real victims of the divorce are kids, with real name Andrea in the film- or names. That the abortion is only an easy exit: sadness, regrets and unhappiness will be there after abortion. That the state and social security thinks every time less in a real problems of the families. The gossip of the 'friends', the infidelity because of weakness and desperation of Steffania because Tomasso lives his life as if he were alone. Maybe someone could think that this film is a pessimistic film, but not. Steffania and Tomasso, in the deep of their hearts, they like a beautiful marriage and family, if not, Why they like marriage? A truly and beautiful marriage depends only of the couple: of each one of their decisions, of each one actions in their lives. The family could be a place where each one feel loved because being his or her, only by existing. The screenplay is wonderful. The performances are great: Steffania and Tomasso, ¡the almost cynical priest! An excellent direction and script. The colors and the management of the cameras, superb.\"\n",
      "Original sentiment: positive\n"
     ]
    },
    {
     "name": "stdout",
     "output_type": "stream",
     "text": [
      "Predicted sentiment: positive\n",
      "✅ Right\n",
      "\n",
      "(16230) ---------------\n",
      "Original review text: \"Six for the price of one! So it is a bonanza time for Cinegoers. Isn't it? Here it is not one, not two but all SIX-love stories, an ensemble cast of top stars of bollywood, plus all stories in the genre of your favorite top directors Johar, Bhansali, Chopra et al. You will get to see every damn type of love story that you enjoyed or rather tolerated for years now. So no big deal for you. Do you need anything more than this? No sir, thank you. Why sir? Enough is enough. Please spare us. They signed every top star that they manage to sign, whether required or not, so they end up making a circus of stars, believe it or not. Too crowded Every thing depicted here is exactly how it is prescribed in bollywood textbook of romances. Plus you have to justify the length given to each story, as each has stars. Therefore, it is too long-three hours plus. The gags are filmy. Characters are filmy. Problems, Barriers, situations, resolution ",
      " yes you guessed it right, again",
      ". filmy-tried and tested. Same hundreds of dancers dancing in colorful costumes in background. Why they have no other work to do? All couples are sugary-sweet, fairy tale type, Picture perfect. All are good looking. Each story beginning in a perfect way and therefore should ends also in that impossible perfect manner? Too haphazard. You can't connect to a single story. Here you have everything that you already seen a million times. Bloody fake, unreal, escapist abnormal stories considered normal for more than hundred years since evolution of this Indian cinema. What a mockery of sensibilities of today's audience? Yes it could have worked as a parody if he just paid tribute to love-stories of yesteryear but alas even that thing is not explored. At least, Director Nikhil Advani should have attempted one unconventional, offbeat love story but then what will happen to the tradition of living up to the mark of commercial bollwood potboiler brigade? Oh! Somebody has to carry on, no. Imagine on one hand audience finds it difficult to sit through one such love story and here we have six times the pain. I mean six damn stories. I mean double the fun of chopra's Mohabbatein (Year 2000) In this age and time, get something real, guys. We are now desperate to see some not so colorful people and not so bright stories Oh, What have you said just now- come on, that is entertainment. My advice, please don't waste your time henceforth reading such reviews. Go instead, have some more such entertainment! Thank you.\"\n",
      "Original sentiment: negative\n",
      "Predicted sentiment: negative\n",
      "✅ Right\n",
      "\n",
      "(49364) ---------------\n",
      "Original review text: \"First things first, I am by no means a picky movie watcher. I'm not one of those people who gets movies just to pick apart the flaws and criticize, I, like most other people, watch to be entertained. I'll basically watch any type of movie of, no matter how bad anyone says it is (sometimes a movie's so terribly made and written that it invokes a sort of pity humor which i get a kick out of). With all that aside, lil pimp was simply pathetic. I saw it on TV and just didn't know what I was watching. It was too poorly written and cheesy to be an adult movie, and had way too much sex, innuendo and swearing to be a kid's movie, in fact, I doubt even kids would be amused by it. The humor (pretty generous even calling it that) was so pretentious and campy, I couldn't see how anyone with half a mind could even find it funny. The only thing that made me laugh was how people like Bernie mac and ludicrous could put their name and time onto/into something so hurting. Luda's character was such a cheap ploy for laughs, which fell extremely short of its goal. The plot didn't make any sense whatsoever, the storyline has got to be the worst sequence of events ever put together on screen. I could keep going on, but I want to see what people think of my reaction before I start discussing specific instances of pathetic scenes. All I have to say is it really has to make ya wonder how much time these writers spent on their knees trying ta get it made. J\"\n",
      "Original sentiment: negative\n",
      "Predicted sentiment: negative\n",
      "✅ Right\n",
      "\n",
      "(13265) ---------------\n",
      "Original review text: \"It took me a while to find this movie since they don't have it yet on DVD (and my VCR is not worth hooking up again). I guess all the referencing to drug use is too much for some folks. But I found a decent bootleg on Ebay and I must say that anyone who takes this movie too seriously is just retarded. It is a slap stick spoof in the vein of \"Airplane.\" I must say that when I watched it on Showtime or Spotlight growing up in the 80s, I enjoyed the humor a whole lot more then, than I do now. But it's definitely worth watching just to see what they(i.e., movie makers) were able to get away with before the \"Just Say No\" hypocrites unleashed their propaganda. sing...\"We are all on drugs\" hahaha It's a silly film and worth the $10 I paid off of Ebay to get it on DVD just don't even think about comparing it to the original - that's just plain stupid. What are you high?\"\n",
      "Original sentiment: positive\n",
      "Predicted sentiment: negative\n",
      "❌ Wrong\n",
      "\n",
      "(18285) ---------------\n",
      "Original review text: \"Story about four teenage girls growing up in California. Jeanie (Jodie Foster) is the most level-headed of the bunch--but wants to move out of her house where she lives with her divorced mother (Sally Kellerman). Annie (Cherie Currie) is addicted to drugs, alcohol and bad boys and is beaten up by her father. Madge (Marilyn Kagan) has overprotective parents. Deirde (Kandice Stroh) thinks she's more mature than the rest of them. This is nothing new from what we've seen plenty of times before--but this one has one big difference--it's accurate. I graduated from high school in 1980 (when I first saw the film) and I was surprised at how realistic it was. They got the dialogue, clothes and attitudes down completely right. Even the main song of the movie (\"On the Radio\" by Donna Summer) was a big hit before this came out. This film hit me harder than any other teen film of the time because I could understand and relate to the characters. I knew girls in high school who were just like this! The film is (of course) dated but it captures a time we will never see again. The acting is good on all counts with Foster giving the best performance. The relationship between her and Kellerman (who was excellent) was realistic and well-done. Even Scott Baio (who has a small role as a friend of the girls) more or less realistically played a teen boy. A very good movie--essential viewing if you came of age in 1980. The film has a deserved R rating (plenty of drug use and swearing) but should be seen by all teens. I give it a 8.\"\n",
      "Original sentiment: positive\n",
      "Predicted sentiment: positive\n",
      "✅ Right\n",
      "\n",
      "(35784) ---------------\n",
      "Original review text: \"Swinging bachelor Matthau, a successful dentist, is stringing along his blond mistress Hawn, having told her that he's a married man with three kids. After she attempts suicide Matthau decides to get responsible and marry the girl. Worried that she's going to be a \"homebreaker\", bright eyed Hawn wants to meet his wife and explain everything to her. Matthau employs his faithful nurse Bergman to act his wife and that's when things really get complicated. A farcical comedy with irresistible leads quite often hits the mark but isn't for one second believable. The script asks us to believe that us men are such one-dimensional turds that it's truly beyond belief. But maybe this comedy doesn't need to be analyzed too deeply, just sit back and enjoy the ever so funny Matthau, the ever so charming Bergman and débutant Hawn, who here basically created the dumb-blond girl role.\"\n",
      "Original sentiment: positive\n",
      "Predicted sentiment: positive\n",
      "✅ Right\n",
      "\n",
      "(3675) ---------------\n",
      "Original review text: \"I think the comments regarding the show being cheesy are a bit too exaggerated. When a person comes to watch a TV show, what does he look out for? It is to enjoy that he watches a show, unless he/she is a critic or a person who analyzes story. But most of us are not so and watch the shows to relax and enjoy. FULL HOUSE is an ideal show to watch after having a heavy day in the office/school. It makes you laugh and it is not just humor. Yes, the Tanner family is a perfect family, a perfectly hypothetical family. If any such family existed in real world, it would be a role model for us to follow. But this is a TV show, and not a real family, and there is nothing wrong in depicting a hypothetical family on television. The very fact that the show could run so long shows us that people enjoyed watching it, whatever be the comments later on. Another good point about the show is that any person of any age would not only enjoy watching it, but would take back a message however childish that message be. Those Jesse's talks with Michelle are extremely touching, if one doesn't think of it as childish. Overall I would say after watching every show of Full House, there is a contentment in your heart that is rarely present after many other shows.\"\n",
      "Original sentiment: positive\n",
      "Predicted sentiment: positive\n",
      "✅ Right\n",
      "\n",
      "(16027) ---------------\n",
      "Original review text: \"I noticed that this film has taken the brunt of a lot of insults. It probably earned some of them, but it wasn't that bad. Well, I'll be honest: I never want to see this film again. It was a bad film. But I don't hate this film, it tried to tell a story. As a drama, this film could work very well actually. I just think the filmmakers misgauged which road to take when they made this (they should have added more funny bits if they wanted it to be a comedy). With a rewrite, it could have been a great film. But as a satire, it didn't work in its current form -- many scenes did not fit within the context of the plot: for example, the robbery scene makes little sense in the story. Still, it wasn't the worst independent film ever made -- is it in the Top 10 Worst? That's debatable.\"\n",
      "Original sentiment: negative\n",
      "Predicted sentiment: negative\n",
      "✅ Right\n",
      "\n",
      "(38395) ---------------\n",
      "Original review text: \"New York, I Love You, or rather should-be-titled Manhattan, I Love Looking At Your People In Sometimes Love, is a precise example of the difference between telling a story and telling a situation. Case in point, look at two of the segments in the film, one where Ethan Hawke lights a cigarette for a woman on a street and proceeds to chat her up with obnoxious sexy-talk, and another with Orlando Bloom trying to score a movie with an incredulous demand from his director to read two Dostoyevsky books. While the latter isn't a great story by any stretch, it's at least something that has a beginning, middle and end, as the composer tries to score, gets Dostoyevky dumped in his lap, and in the end gets some help (and maybe something more) from a girl he's been talking to as a liaison between him and the director. The Ethan Hawke scene, however, is like nothing, and feels like it, like a fluke added in or directed by a filmmaker phoning it in (or, for that matter, Hawke with a combo of Before Sunrise and Reality Bites). What's irksome about the film overall is seeing the few stories that do work really well go up against the one or two possible 'stories' and then the rest of the situations that unfold that are made to connect or overlap with one another (i.e. bits involving Bradley Cooper, Drea DeMatteo, Hayden Christensen, Andy Garcia, James Caan, Natalie Portman, etc). It's not even so much that the film- set practically always in *Manhattan* and not the New York of Queens or Staten Island or the Bronx (not even, say, Harlem or Washington Heights)- lacks a good deal of diversity, since there is some. It's the lack of imagination that one found in spades, for better or worse, in Paris J'taime. It's mostly got little to do with New York, except for passing references, and at its worst (the Julie Christie/Shia LaBeouf segment) it's incomprehensible on a level that is appalling. So, basically, wait for TV, and do your best to dip in and out of the film - in, that is, for three scenes: the aforementioned Bloom/Christina Ricci segment which is charming; the Brett Ratner directed segment (yes, X-Men 3 Brett Ratner) with a very funny story of a teen taking a girl in a wheelchair to the prom only to come upon a great big twist; and Eli Wallach and Cloris Leachman as an adorable quite old couple walking along in Brooklyn on their 67th wedding anniversary. Everything else can be missed, even Natalie Portman's directorial debut, and the return of a Hughes brother (only one, Allan) to the screen. A mixed bag is putting it lightly: it's like having to search through a bag of mixed nuts full of crappy peanuts to find the few almonds left.\"\n",
      "Original sentiment: negative\n",
      "Predicted sentiment: positive\n",
      "❌ Wrong\n",
      "\n",
      "(10828) ---------------\n",
      "Original review text: \"I saw this movie on TV late one night years ago, but it was a disturbing experience that has stayed with me to this day. The premise may seem a bit unoriginal - due to an earthquake, a hidden underground store of a toxic nerve agent in the hills above a small town is breached, and a microscopic amount of the substance finds its way into their food supply. The inhabitants of the town begin to lose their ability to exercise restraint over every whim and base desire that floats through all of our minds from time to time, and that normally we know we simply must not act upon. The pace of the movie is slow, but for me that only added to the creeping unease as the townspeople's behaviour slowly starts to unravel. There are several surreal and very unsettling scenes that have remained etched in my memory all this time. It raises interesting questions about what we could all be capable of if we gave in to our most feral instincts. Did I enjoy it? I'm not sure 'enjoy' is the right word. Did it make me think? Definitely. I'm still thinking about it. Scary stuff.\"\n",
      "Original sentiment: positive\n",
      "Predicted sentiment: positive\n",
      "✅ Right\n",
      "\n",
      "(42561) ---------------\n",
      "Original review text: \"The most misogynistic movie of all time? Not to mention by '68 shouldn't they have moved beyond white people in brown face playing the \"Indians\"? My favorite parts though have to be when the girls giggle and blush as the bikers drag them off to gang rape them. Rape is fun! Who knew? Let's see, then there's the blatant rip-offs of \"The Hustler\" (fat boss character actually plays pool while scheming to destroy the Indians with the lead rebel dude), the horrific acting, the so-on-the-nose-they-might-as-well-have-just-told-you-what-to-think music cues, the lack of ANYONE WHO'S ACTUALLY Indian in this movie. And who are we supposed to be rooting for? I have to say it figures that Quentin Tarantino loves this movie. Even though his movies tend to champion strong women, I've heard from at least one source that in real life he's a misogynistic idiot. Why did I watch it, you ask? Don't ask.\"\n",
      "Original sentiment: negative\n"
     ]
    },
    {
     "name": "stdout",
     "output_type": "stream",
     "text": [
      "Predicted sentiment: negative\n",
      "✅ Right\n",
      "\n",
      "(10702) ---------------\n",
      "Original review text: \"I'm a huge fan of Ivan Reitman-I loved Evolution and who didn't like Ghostbusters? From the trailer you already know that Uma's character will get dumped by Luke's.So the build-up is obviously towards the moment when she unleashes her superpowers on him.But the pay-off is just not there.The shark tossing did manage to get a (slight) giggle but once again, it was all in the trailer. No one does breathless quite like Uma and Luke is diet Owen on his good days.If not for Riann Wilson you would sit there with a constipated smile until your cheeks start to cramp.This is a comedy,right?  It's not awful-it just sits there like a stale cracker behind the fridge.This could have been such a brilliant send-up of Superhero movies and Feminism but fails on both counts.Let's see if Jason Reitman can salvage the family name.\"\n",
      "Original sentiment: negative\n",
      "Predicted sentiment: negative\n",
      "✅ Right\n",
      "\n",
      "(2740) ---------------\n",
      "Original review text: \"James Cameron's 'Titanic' is essentially a romantic adventure with visual grandeur and magnificence, a timeless tragic love story set against the background of this major historical event... It's an astonishing movie that exemplifies hope, love and humanity...  Leonardo DiCaprio is terrific on screen with big charisma... Conveying passion, trust, insouciance and ingenuity, he's a free-spirited wanderer with artistic pretensions, and a zest for life...  Kate Winslet is absolutely lovely as the confused upper-class teen engaged to a nasty rich guy who finds herself, one night, plunged to the depths of despair... Billy Zane is an arrogant racist, abusive and ultra rich who would lie, cheat, steal, bribe with money or even use an innocent young child to escape defeat... He keeps a 56 carat blue diamond worn by Louis XVI... Kathy Bates is the legendary unsinkable Molly Brown, the richest woman in Denver, who is a lot less uptight than the other rich folk on the ship... Frances Fisheris is the impecunious cold snobbish mother who, deathly afraid of losing her social stature, forces her daughter to become engaged to marry a rich, supercilious snob... Victor Garber is the master shipbuilder, the real-life character who attempts to fix time, to measure it, in a sense, to make it into history...  Jonathan Hyde is the White Star Chairman who wants the Titanic to break the Trans-Atlantic speed record, in spite of warnings that icebergs may have floated into the hazardous northern crossing... Bill Paxton is the opportunistic undersea explorer in search for a very rare diamond called the \"Heart of the Ocean.\"  Gloria Stuart is the 101-year old woman who reveals a never-before told love story... The nightmare, the horror and the shock are imprinted upon her deeply lined face...  'Titanic' is loaded with luminous photography and sweeping visuals as the footage of the shipwrecked Ocean liner lying motionless on the ocean floor; the incredible transformation of the bow of the sunken 'Titanic' that takes the viewer back to 1912, revealing the meticulously re-created interiors; the first sight of the Titanic steamed steadily toward her date with destiny; the Titanic, leaving the Southampton dock, and some dolphins appear jumping, racing along in front of the luxurious ship; DeCaprio and Winslet flying at the ship's front rail in a gorgeous magic moment; the intertwining of past and present as Jack was drawing Rose on his paper, the camera zooms closely on young Rose's eye, only to transform its shape into Gloria Stuart's aged eye... Chilling scenes: Titanic's inevitable collision with destiny; James Cameronin one of the most terrifying sequences ever put on film takes us down with the Titanic, finally leaving us floundering in the icy water, screaming for help that never comes... Winner of 11 Academy Awards, including Best Picture, James Cameron's \"Titanic\" is a gigantic epic where you don't just watch the film, you experience it! The visual effects are amazing, like no other film's... The decor is overwhelming... James Horner's music intensifies the emotions... The whole movie is hunting and involving, filled with a wide range of deep feelings...  It's truly a moving tribute to those who lost their lives on that unfortunate ship...\"\n",
      "Original sentiment: positive\n",
      "Predicted sentiment: positive\n",
      "✅ Right\n",
      "\n",
      "(12626) ---------------\n",
      "Original review text: \"I loved This Movie. When I saw it on Febuary 3rd I knew I had to buy It!!! It comes out to buy on July 24th!!! It has cool deaths scenes, Hot girls, great cast, good story , good acting. Great Slasher Film. the Movies is about some serial killer killing off four girls. SEE this movies\"\n",
      "Original sentiment: positive\n",
      "Predicted sentiment: positive\n",
      "✅ Right\n",
      "\n",
      "Percentage of right answers: 85.00\n"
     ]
    }
   ],
   "source": [
    "num_of_tests = 20\n",
    "right_answers = 0\n",
    "for i in range(0, num_of_tests):\n",
    "    n = np.random.randint(0, df.shape[0])\n",
    "    print(f'({n}) ---------------')\n",
    "    review_text = df.review.iloc[n]\n",
    "    review_sentiment = df.sentiment.iloc[n]\n",
    "    print(f'Original review text: \"{review_text}\"')\n",
    "    print(f'Original sentiment: {review_sentiment}')\n",
    "    predicted_sentiment = test_review(model, review_text, tokenizer, max_length, label_encoder)\n",
    "    print(f'Predicted sentiment: {predicted_sentiment}')\n",
    "    if predicted_sentiment == review_sentiment:\n",
    "        right_answers += 1\n",
    "        print('✅ Right')\n",
    "    else:\n",
    "        print('❌ Wrong')\n",
    "    print()\n",
    "\n",
    "print(f'Percentage of right answers: {(right_answers / num_of_tests * 100):0.2f}')"
   ]
  },
  {
   "cell_type": "markdown",
   "id": "iNdkLZh-6hey",
   "metadata": {
    "id": "iNdkLZh-6hey"
   },
   "source": [
    "## Showcase of wrong predictions"
   ]
  },
  {
   "cell_type": "code",
   "execution_count": 73,
   "id": "1d139e20",
   "metadata": {
    "ExecuteTime": {
     "end_time": "2023-09-16T04:29:58.157398Z",
     "start_time": "2023-09-16T04:29:53.450521Z"
    }
   },
   "outputs": [
    {
     "name": "stdout",
     "output_type": "stream",
     "text": [
      "(4) ---------------\n",
      "Original review text: \"Petter Mattei's \"Love in the Time of Money\" is a visually stunning film to watch. Mr. Mattei offers us a vivid portrait about human relations. This is a movie that seems to be telling us what money, power and success do to people in the different situations we encounter.  This being a variation on the Arthur Schnitzler's play about the same theme, the director transfers the action to the present time New York where all these different characters meet and connect. Each one is connected in one way, or another to the next person, but no one seems to know the previous point of contact. Stylishly, the film has a sophisticated luxurious look. We are taken to see how these people live and the world they live in their own habitat. The only thing one gets out of all these souls in the picture is the different stages of loneliness each one inhabits. A big city is not exactly the best place in which human relations find sincere fulfillment, as one discerns is the case with most of the people we encounter. The acting is good under Mr. Mattei's direction. Steve Buscemi, Rosario Dawson, Carol Kane, Michael Imperioli, Adrian Grenier, and the rest of the talented cast, make these characters come alive. We wish Mr. Mattei good luck and await anxiously for his next work.\"\n",
      "Original sentiment: positive\n",
      "Predicted sentiment: negative\n",
      "❌ Wrong\n",
      "\n",
      "(6) ---------------\n",
      "Original review text: \"I sure would like to see a resurrection of a up dated Seahunt series with the tech they have today it would bring back the kid excitement in me.I grew up on black and white TV and Seahunt with Gunsmoke were my hero's every week.You have my vote for a comeback of a new sea hunt.We need a change of pace in TV and this would work for a world of under water adventure.Oh by the way thank you for an outlet like this to view many viewpoints about TV and the many movies.So any ole way I believe I've got what I wanna say.Would be nice to read some more plus points about sea hunt.If my rhymes would be 10 lines would you let me submit,or leave me out to be in doubt and have me to quit,If this is so then I must go so lets do it.\"\n",
      "Original sentiment: positive\n",
      "Predicted sentiment: negative\n",
      "❌ Wrong\n",
      "\n",
      "(60) ---------------\n",
      "Original review text: \"What happened? What we have here is basically a solid and plausible premise and with a decent and talented cast, but somewhere the movie loses it. Actually, it never really got going. There was a little excitement when we find out that Angie is not really pregnant, then find out that she is after all, but that was it. Steve Martin, who is a very talented person and usually brings a lot to a movie, was dreadful and his entire character was not even close to being important to this movie, other than to make it longer. I really would have liked to see more interactions between the main characters, Kate and Angie, and maybe try not for a pure comedy, which unfortunately it was not, but maybe a drama with comedic elements. I think if the movie did this it could have been very funny since both actresses are quite funny in their own ways and sitting here I can think of numerous scenarios that would have been a riot.\"\n",
      "Original sentiment: negative\n",
      "Predicted sentiment: positive\n",
      "❌ Wrong\n",
      "\n",
      "(71) ---------------\n",
      "Original review text: \"Honestly - this short film sucks. the dummy used in the necro scene is pretty well made but still phony enough looking to ruin the viewing experience. the Unearthed DVD is crisp and clear and I haven't made up my mind if this helps or hinders it. If the film was a little grainy it might have added some \"creepiness factor\" to what was going on. I have no idea why this film has so much hype surrounding it other than the subject matter - but to be honest the necrophilia scenes in films like NEKROMANTIK and VISITOR Q among others, are more shocking than in AFTERMATH. All this talk about the film being about loneliness and all other manner of deep philosophy is bull****. This is an expensive, beautifully filmed turd. It's not that shocking, it's not that disgusting. if you insist on viewing it - rent it. I give it a 3 for the fact that not many people make explicit movies about necrophilia (there should definitely be a bigger selection for us sickos ;) - the filming is good and it does have some \"gore\" (if watching a rubbery looking doll get cut open is considered gore...) but other than that - absolutely nothing going for this over-hyped mess. On the other hand - GENESIS - Cerda's \"sequel\" to AFTERMATH (now available as a \"double feature\" released by Unearthed films) is an absolute masterpiece of a short film, really showing what a good director Cerda really is when given the right material. Although I don't care for AFTERMATH at all, GENESIS is so well made that I will forgive Cerda and Definitely keep an eye out for him in the future...\"\n",
      "Original sentiment: negative\n",
      "Predicted sentiment: positive\n",
      "❌ Wrong\n",
      "\n",
      "(103) ---------------\n",
      "Original review text: \"No, this hilariously horrible 70's made-for-TV horror clinker isn't about a deadly demonically possessed dessert cake. Still, this exceptionally awful, yet undeniably amusing and thus enjoyable cathode ray refuse reaches a breathtaking apex of absolute, unremitting silliness and atrociousness that's quite tasty in a so-execrable-it's-downright-awesome sort of way. Richard Crenna, looking haggard and possibly inebriated, and Yvette Mimieux, who acts as if she never got over the brutal rape she endured in \"Jackson County Jail,\" sluggishly portray a disgustingly nice and respectable suburbanite couple whose quaint, dull, sleepy small town existence gets ripped asunder when the cute German Shepard they take in as the family pet turns out to be some ancient lethal evil spirit. Pretty soon Mimieux and her two repellently cutesy kids Kim Richards and Ike Eisenmann (the psychic alien moppets from the Disney \"Witch Mountain\" pictures) are worshiping a crude crayon drawing of the nasty, ugly canine entity in the den. Boy, now doesn't that sound really scary and disturbing? Well, scary and disturbing this laughably ludicrous claptrap sure ain't, but it sure is funny, thanks to Curtis (\"Night Tide\") Harrington's hopelessly weak direction, cartoonish (not so) special effects, an almost painfully risible'n'ridiculous plot, and a game cast that struggles valiantly with the absurd story (besides the leads, both Martine Beswicke and R.G. Armstrong briefly pop up as members of a Satanic cult and Victor Jory has a nice cameo as a helpful Native American shaman). Favorite scene: the malicious Mephestophelion mutt puts the whammy on Crenna, practically forcing him to stick his hand into a wildly spinning lawnmower blade. While stuck-up snobby fright film fans may hold their noses at the perfectly putrid stench of this admittedly smelly schlock, devout TV trash lovers should deem this endearingly abominable offal the boob tube equivalent to Alpo.\"\n",
      "Original sentiment: positive\n",
      "Predicted sentiment: negative\n",
      "❌ Wrong\n",
      "\n",
      "(119) ---------------\n",
      "Original review text: \"I greatly enjoyed Margaret Atwood's novel 'The Robber Bride', and I was thrilled to see there was a movie version. A woman frames a cop boyfriend for her own murder, and his buddy, an ex-cop journalist, tries to clear his name by checking up on the dead woman's crazy female friends. It's fortunate that the movie script fixes Ms. Atwood's clumsy plotting by focusing on the story of these two men, victims of scheming women... Heh. Okay, you got me. If these guys are mentioned in the book, and I'm pretty sure they're entirely made up for the movie, I'll eat the dust cover of my hardback copy. Apparently, the three main female characters of the novel aren't enough to carry the movie. Zenia's manipulations aren't interesting unless we see them happen to a man, and a man's life is screwed up. Roz, Charis, and Toni tell their stories -- to a man. Because it's not important if a man doesn't hear them. I liked the characters in the book. It hurts to see them pushed off to the side for a man's story. I normally do not look for feminist angles on media, and I tried to enjoy the movie as is. If I hadn't read the book, I might have enjoyed the movie a lot more. So if you like the cop and the ex-cop, and you want to read more about them, you're out of luck. Read the novel, if you want to enjoy luscious prose and characterization subtly layered through a plot. It's the same plot: the movie excavated it, ironed it, and sprinkled it with male angst. It's like Zenia's revenge on Margaret Atwood.\"\n",
      "Original sentiment: negative\n",
      "Predicted sentiment: positive\n",
      "❌ Wrong\n",
      "\n",
      "(120) ---------------\n",
      "Original review text: \"this movie gets a 10 because there is a lot of gore in it.who cares about the plot or the acting.this is an Italian horror movie people so you know you can't expect much from the acting or the plot.everybody knows fulci took footage from other movies and added it to this one.since i never seen any of the movies that he took footage from it didn't matter to me.the Italian godfather of gore out done himself with this movie.this is one of the goriest Italian movies you will ever see.no gore hound should be without this movie in their horror movie collection.buy this movie no matter what it is a horehounds dream come true.\"\n",
      "Original sentiment: positive\n",
      "Predicted sentiment: negative\n",
      "❌ Wrong\n",
      "\n"
     ]
    },
    {
     "name": "stdout",
     "output_type": "stream",
     "text": [
      "(147) ---------------\n",
      "Original review text: \"Francis Ford Coppola wrote and directed this stunningly personal story of a married woman's flight from her husband--and the reality that perhaps the youthful glee and excitement of her younger years are behind her. We learn little about this woman's marriage except that she has been feeling her independence slipping away as of late; she's also recently learned she's pregnant, which has further complicated her heart (she doesn't want to be a complacent wifey, despite the maternal way she speaks to her husband over the phone). She meets two men on her journey: a former college football hero who--after an accident during a game--has been left with permanent brain damage, and a sexy, strutting motorcycle cop who has a great deal of trouble in his own life. The clear, clean landscapes (as photographed by the very talented Wilmer Butler) are astutely realized, as are the characters. Shirley Knight, James Caan, and Robert Duvall each deliver strong, gripping performances, most especially since these are not very likable people in conventional terms. Some scenes (such as Knight's first call home from a pay-phone, or her first night alone with Caan where they play 'Simon Says') are almost too intimate to watch. Coppola toys with reality, turning the jagged memories of his characters into scrapbooks we've been made privy to. He allows scenes to play out, yet the editing is quite nimble and the film is never allowed to get too heavy (there are at least two or three very frisky moments). It's a heady endeavor--so much so that the picture was still being shown at festivals nearly five years later. Some may shun Coppola's unapologetic twisting of events in order to underline the finale with bitter irony, however the forcefulness and drive behind the picture nearly obliterate its shortcomings. *** from ****\"\n",
      "Original sentiment: positive\n",
      "Predicted sentiment: negative\n",
      "❌ Wrong\n",
      "\n",
      "(170) ---------------\n",
      "Original review text: \"I can't emphasize it enough, do *NOT* get this movie for the kids. For that matter, you'd best spare the adults from it as well. All right, perhaps I'm overexaggerating a little. This isn't the worst kids' movie... no, let me rephrase that. This isn't the worst movie made by dissilusioned adults FOR dissilusioned adults and somehow marketed towards kids (that would be \"Jack\", which I've been meaning to review / gut like a fish). Adults won't learn anything surprising (well, if you must, fast-forward to just before the end credits for a Educational Bit about an Interesting Cosmic Phenominon). We don't usually end up doing as adults what we wanted to do as kids as reality tends to get in the way. Well, duh, I could have told you that (so can four years of college at an art school, but I degress). I have no idea what the heck kids could possibly get out of this movie. Most likely it will only upset them (we get to watch the moment when Russ was traumatized at eight years old). There's a better movie, \"Kiki's Delivery Service\", that has essentially the same message but handles it litely instead of drilling it into your head. And the adults will like it too! By the way, there is a moment in the movie made with amature MST3K-ers in mind, if they think of that OTHER Bruce Willis movie with a sad little kid in it.\"\n",
      "Original sentiment: negative\n",
      "Predicted sentiment: positive\n",
      "❌ Wrong\n",
      "\n",
      "(171) ---------------\n",
      "Original review text: \"Is nothing else on TV? Are you really bored? Well, then watch Phat Beach. However, don't rent it and definitely DO NOT buy it. That would be a big mistake. I watched this on TV and found myself laughing at certain points. I did not laugh long and I did not laugh hard. However, there were subtle jokes and comments I laughed at. If you are looking for an extremely funny \"hood\" movie then watch Friday. If you are looking for a powerful emotional movie (something that this movie tries at..kind of) watch something like hoop dreams or Jason's Lyric. If you are lookin for some good black \"booty\" go watch a Dominique Simone porn flick, because the nudity in this movie is nearly non-existent. However, if you have nothing better to do and this is on cable, go ahead and watch it. You will be slightly amused. ***3 out of 10***\"\n",
      "Original sentiment: negative\n",
      "Predicted sentiment: positive\n",
      "❌ Wrong\n",
      "\n",
      "(180) ---------------\n",
      "Original review text: \"It is so gratifying to see one great piece of art converted into another without distortion or contrivance. I had no guess as to how such an extraordinary piece of literature could be recreated as a film worth seeing. If you loved Bulgakov's book you would be, understandably, afraid of seeing some misguided interpretation done more for the sake of an art-film project than for actually bringing the story's deeper meaning to the screen. There are a couple examples of this with the Master and Margarita. As complex and far-fetched as the story is, the movie leaves out nothing. It is as if the filmmaker read Bulgakov's work the same way an orchestral conductor reads a score--with not a note missed. Why can't we find such talent here in the U.S. ? So now my favorite book and movie have the same title.\"\n",
      "Original sentiment: positive\n",
      "Predicted sentiment: negative\n",
      "❌ Wrong\n",
      "\n",
      "(182) ---------------\n",
      "Original review text: \"The day has finally come for me to witness the perpetuation of Azumi's fate as an assassin, fruition of her character and the ultimate attempt to draw me deeper into the world she rampaged through so mercilessly during the first saga. That's as poetical as I'll get when talking about Azumi 2: Death or Love, because when I cringed over the heavy sentimentality of House of Flying Daggers and complained about the credibility of Aya Ueto portraying a blood-driven assassin, after watching Azumi 2 I started to appreciate the previously mentioned shortcomings more than ever before. Not only does the determination of each assassin feels sluggish and uninspiring but also many important elements are omitted from the entire experience. In Azumi 1 we saw the assassins use various stealth tactics (which is their number one priority) as well as logic to make easy work of their marks with swift executions and quicker abilities to escape. But I won't hold that against this movie too much since the story is slightly tweaked this time around and many more obstacles are planted in Azumi's way to prevent her from reaching the warlord and displaying any signs of charisma. By the way, Chiaki is foolishly shelved for the most part of the film and is basically playing a toned down version of Go Go, minus the cool weapon and sense of menace. This brings me to the final blow which is the action, simply disguised in the title as the 'Death' side of the epic. In the first half of the film we see the debut of many promising adversaries with flashy looks and even flashier weapons. To no one's surprise they meet their end one way or another but the film falls short when each of them start dying too fast and too easily. In Azumi 1, the young assassins were mostly overpowering the opposition with quick but somewhat satisfying battles and the final showdown between Azumi and Bijomaru in comparison to the fights in Azumi 2 was at least climaxed and worthwhile. Some interesting effects were introduced but they were unable to achieve innovation due to the shortness of each encounter. I am in no way knocking down the conventional style of samurai films with their quick and realistic battles but characters in both Azumi films were so imaginative and straight out of anime that the rules could have been broken and the action should have been further enriched. The romance side of Azumi is there to fill in time between the fight scenes and unfortunately at the end it serves no purpose nor provides a much needed resolution. As a fan with an open mind for wide variety of movies and animation, I won't lie and I'll admit to my neutrality and unimpressiveness towards the first Azumi film, but I'll step right up and say that after watching Azumi 2, the original was made to look like a flawless masterpiece. For what it's worth, Azumi 2: Death or Love could have gone straight to video, with its invisibly richer budget and a failed potential to add or even expand on the bumpy journey of desperate assassins, doing their best to restore the peace, with an unwavering courage to die trying.\"\n",
      "Original sentiment: negative\n",
      "Predicted sentiment: positive\n",
      "❌ Wrong\n",
      "\n"
     ]
    },
    {
     "name": "stdout",
     "output_type": "stream",
     "text": [
      "(186) ---------------\n",
      "Original review text: \"I haven't read the Anne Rice novel that this movie was based on, but who knows, maybe reading the book is cheaper than renting QUEEN OF THE DAMNED and is probably better for your health. It isn't that this movie is necessarily bad for your health, but a book can be very relaxing and certainly exercises the active part of your brain more so than this movie. You can count the number of pages by Anne Rice that I've read on one hand, but after seeing this movie and Interview with a Vampire, I get the feeling that she writes really good novels. The plots for both movies hint at a whole sea of deep and interwoven vampire history. Still, Stuart Townsend's voice-over narration gets a heck of a lot more annoying than Brad Pitt's vampire narrative ever did, and you can tell that QUEEN OF THE DAMNED's limited production resources barely give enough flesh to the Anne Rice storyline. While Interview decided to go with lace and elegance, QUEEN relies on low budget special effects that try really hard to be taken seriously. One can see that the original novel had potential as a movie and that the production team focused its attention in the wrong places. The costumes and rock & roll stage could have been replaced with more blood and an eerier soundtrack. However, I'll give credit where credit is due. The soundtrack is excellent. Korn and Disturbed had me down with the sickness bobbing my noggin like Butthead. The film opens with a very cool Goth-rock zoom & splice montage, but after the first ten minutes or so, the directing degenerates quickly. It's as if the movie was so long that the director realized that there wasn't enough time and enough money to do an Anne Rice novel justice. What results are some mediocre vampire scenes and plenty of cheesy special effects. Unfortunately, QUEEN OF THE DAMNED fails to do the genre justice just as its John Carpenter counterparts fail to impress. Where are the yellow contacts? Where's the pale blue make-up? Scene after scene, I shook my head reminiscing about the days of Salem's Lot and Fright Night when low budget was done right. There are redeeming qualities though that save this movie from being garbage. Props to Aaliyah, and may her soul forever rest in peace. She might have become a renowned actress, had her life not been taken from us so prematurely, for she did give this movie a decent performance with plenty of nice belly dancing. Did I mention that the soundtrack was good? Let's see, what else can I say? It wasn't too long. The Anne Rice novel could have easily been a three hour movie if an ambitious director like Francis Ford Coppola got his hands on it. There are a few twists and turns here and there in the plot. But all in all it was a legitimate rock and roll addition to the slew of second-rate vampire movies out there. The director of this movie went on to direct a new Battlestar Galactica mini series if that tells you anything. JY Jimboduck-dot-com\"\n",
      "Original sentiment: positive\n",
      "Predicted sentiment: negative\n",
      "❌ Wrong\n",
      "\n",
      "(200) ---------------\n",
      "Original review text: \"Interesting and short television movie describes some of the machinations surrounding Jay Leno's replacing Carson as host of the Tonight Show. Film is currently very topical given the public drama surrounding Conan O'Brien and Jay Leno. The film does a good job of sparking viewers' interest in the events and showing some of the concerns of the stakeholders, particularly of the NBC executives. The portrayal of Ovitz was particularly compelling and interesting, I thought. Still, many of the characters were only very briefly limned or touched upon, and some of the acting seemed perfunctory. Nevertheless, an interesting story.\"\n",
      "Original sentiment: negative\n",
      "Predicted sentiment: positive\n",
      "❌ Wrong\n",
      "\n",
      "(226) ---------------\n",
      "Original review text: \"One of Starewicz's longest and strangest short films follows a toy dog in search of an orange after becoming animated by the tear of the mother of a girl who longs for an orange. The dog comes upon an orange after falling out of the back of a car on his way to be sold, but at night must protect the orange when he comes enters a devilish nightclub featuring many bizarre and scary characters. With the help of a stuffed cat, the dog gets the orange back to the little girl and she is saved from a terrible scurvy death. The Mascot features new techniques I have not yet seen in Starewicz's films. The addition of sync sound and a mixture of live action with the stop-motion animation makes for a new twist on Starewicz's old style of puppetry. Live scenes of moving cars and people's feet walking by as a puppet sits on the concrete sidewalk is impressive and fresh. The honking of cars and cries of street vendors is noteworthy due to the fact that small studio shifts to sound were costly and Starewicz's utilization of the new technology seems like old hat. New puppet characters in this film are frightening contributions to the devil's club scene. Twigss and newspaper shreds come to life. Skeletons of dead birds lay eggs which hatch skeleton chicks. Characters come flying in from all over on pats and pans and rocking horses. A new editing technique uses quick zooms which are accomplished through editing to speed up the pace of what before might have been a slow scene. Overall, Starewicz is able to update his style of film-making to meet the demands of a new audience making this film one of the best examples of his work.\"\n",
      "Original sentiment: positive\n",
      "Predicted sentiment: negative\n",
      "❌ Wrong\n",
      "\n",
      "(231) ---------------\n",
      "Original review text: \"I think this is one hell of a movie...........We can see Steven fighting around with his martial art stuff again and like in all Segal movies there's a message in it, without the message it would be one of many action/fighting movies but the message is what makes segal movies great and special.\"\n",
      "Original sentiment: positive\n",
      "Predicted sentiment: negative\n",
      "❌ Wrong\n",
      "\n",
      "(263) ---------------\n",
      "Original review text: \"There is a difference between a \"film,\" and a \"movie.\" A film, regardless of quality, is ready for public consumption. A movie is what a group of friends gets together to make over the course of a weekend with a camcorder. In my time as a viewer, I have seen may examples of both. On September 19, I attended a screening of writer/director Jon Satejowski's \"Donnybrook.\" Now having read the script and having seen two different cuts (a rough cut and the \"finished\" product) of this piece, I can safely say it is a movie. And a student movie, at that. It is, for lack of a better word, competent, which is to say, the director knew how to push record on a camera and capture moving images. The visuals are, for the most part, static and unimpressive, and dialog scenes are reduced to mostly long shots, with little to no close up shots to allow the audience to establish a relationship with the characters. I understand that this is a modestly budgeted film, but some visual flair would have been appreciated, and it would have gone a long way toward keeping the audience interested. Granted, there have been independent pictures that have shown that limited camera work can be over come with well a well written, engrossing story and some sharp dialog. Steven Soderbergh's \"sex, lies, and videotape\" comes immediately to mind. This movie, however, has neither. The main story is weak and unfocused. If the main plot is Davie trying to mend his relationship with his father, then I feel this movie misses the point. What I got out of it is that Davie's main aspiration is to \"change the face of rock 'n' roll.\" However, we see very little activity on his part to show this. While there is one dream sequence at the beginning, and an impromptu performance of his at the end, all we seem to get are scenes of Davie listening to music or casually strumming a guitar. We are simply told that Davie has played a lot of gigs, but we never see him in full rock out mode. Next time, SHOW don't TELL the audience. Anyone who has taken a creative writing class knows this. Also, Davie doesn't look like someone that would have been big in the glam rock era of the 1970's; he looks like he'd be more comfortable in the early days of rock 'n' roll, posing as James Dean's less talented brother. In the meantime, the rest of the movies events seem to happen at random to rather cliché characters, and story threads, that have little or nothing to do with the slim main story, are brought up and abandoned with alarming frequency (i.e. the subplot involving Terry's father). If I want to see a film with this kind of haphazard construction, I will consider watching \"Napolean Dynamite\" again, a film I could barely make it through the first time. As for the above mentioned dialog scenes, I guess I should mention that they are few and extremely far between. Is it too much to ask for characters who do speak? I don't think it is. When the characters do speak, it is in short, choppy sentences; collections of oh so insightful questions, angered grunts or wildly over-the-top outbursts. These characters simply do not behave like normal, rational people. Working with material like this, it is easy to understand why there is only one good performance in the film, Al Hudson's, and that's just because he's doing a poor imitation of Sam Elliott for his time on screen. A good director, or at least one who is ready for the challenge of a feature director, would have been able to spot these problems and get the writer and camera people to correct them. However, with Satejowski being so close to the material, he simply doesn't see them, or, if he does, he is unwilling to take the necessary steps to fix them because it'll hurt his creative vision. Being unable or unwilling to deal with criticism in a constructive manner, is the mark of a self-indulgent, misguided fool. Just ask Rob Schneider.  In the end, we are left with a poor, high-school-set, knock-off of Zach Braff's amazing \"Garden State\" combined with the equally amazing \"Velvet Goldmine,\" two films far more worthy of your time. Now before any of the cast or crew come out of the word work to take me to task for this review, allow me to offer this. The best I can do is compliment Mr. Satejowski for having the ambition to make a film of his own and to put it out there for an audience to see. However, the hopes that this movie will be picked up and distributed are simply deluded visions of grandeur. This is a student movie, nothing more, nothing less. If the movie holds any promise (and let's face it, at this point, it isn't going to come from the acting, writing, or directing), it is this: If, IF, the people associated with this film are willing, then, please, learn from this movie, file it away, and use the lessons learned on your next attempt; don't attack your critics, or have friend or family do it for you. If you are able to do this, maybe the next one will be worthy of distribution, worthy of being called a \"film.\" I am your audience, and I am willing to watch.\"\n",
      "Original sentiment: negative\n",
      "Predicted sentiment: positive\n",
      "❌ Wrong\n",
      "\n",
      "(268) ---------------\n",
      "Original review text: \"(When will I ever learn-?) The ecstatic reviewer on NPR made me think this turkey was another Citizen Kane. Please allow me to vent my spleen... I will admit: the setting, presumably New York City, has never been so downright ugly and unappealing. I am reminded that the 70's was a bad decade for men's fashion and automobiles. And all the smoking-! If the plan was to cheapen the characters, it succeeded. For a film to work (at least, in my simple estimation), there has to be at least ONE sympathetic character. Only Ned Beaty came close, and I could not wait for him to finish off Nicky. If a stray shot had struck Mikey, well, it may have elicited a shrug of indifference at the most. I can't remember when I detested a film as strongly. I suppose I'm a rube who doesn't dig \"art\" flicks. Oh, well.\"\n",
      "Original sentiment: negative\n",
      "Predicted sentiment: positive\n",
      "❌ Wrong\n",
      "\n",
      "(270) ---------------\n",
      "Original review text: \"Clifton Webb is one of my favorites. However, Mister Scoutmaster is not one of his best. His patented curmudgeon role seems forced and even unpleasant rather than funny. The film itself is overflowing with mawkish sentimentality. In addition, the viewer is presented with numerous ham-handed references to religious faith and U.S. patriotism that come off as over-reverent rather than genuine. Clifton Webb does his best with a poor script. Edmund Gwenn plays yet another jovial clergyman and is given nothing to do. The child actor lead is played by a talentless child who displays a flat affect throughout the entire film. His sole claim to fame as a performer evidently is a bullfrog-like low voice unusual for someone of his age. However, once you've heard it, you've heard it and you don't need to hear it again. Unfortunately, he is in the majority of the film's scenes. I find this child so irritating that I fast forward whenever he shows up. Since he has a lot of scenes in this film, this means that I fast forward through a lot of the film. There were and are so many talented child actors; it's a pity this film doesn't have any of them in it. Still, Clifton Webb in the traditional broad-brimmed hat and shorts is a sight worth seeing.\"\n",
      "Original sentiment: negative\n",
      "Predicted sentiment: positive\n",
      "❌ Wrong\n",
      "\n",
      "(273) ---------------\n",
      "Original review text: \"Fulci... Does this man brings one of the goriest and weirdest movies ever made? Answer: yes! Cat in the Brain, also known as Nightmare Concert is Fulci's last masterpiece. Yes it is, no matter what some people will say about it. There are few facts why this movie is one of the best Fulci's movies. Fulci make a fun of himself and his movies with this one. Lead roll in this movie is no other then Fulci himself, who plays... well horror-splatter-gore director, who thinks he is slowly going insane. It's filled with black humor which unlike in the most of the modern horror movies works here. Being Fulci flick, you need to know it's gory. How much? Well pretty much. I always loved gore in the movies and I never get enough of it, but Cat in the Brain actually stopped my thirst for gore, and believe me, it's a hard to archive. Even the Braindead didn't stop it. CITB is all about gore. Almost every scene revolves about Fulci, who after being hypnotized by *khmmm* evil psychiatrists is seeing all kinds of horrors for everything that happens to him or everything he sees. Some of the scenes involves him accidentally dropping the whiskey, and instead of that he sees rotten corpse lying on the floor, which starts to spit some ooze from it's wounds. Forget the Beyond or Zombie 2, this IS the goriest Fulci movie! Now I like how Fulci manage to apply all those comic parts in the gorefest movie. He is such a brilliant director. Some funny moments and lines happens from time to time, like one where Fulci says \"making gore movies is kind of a sickness\" Ending is very good considering that Fulci (and most of the Italian horror masters) is know for making ending with no sense or many plot holes. If you are fun of the Fulci, make sure you check it out. If you have a weak stomach, avoid this and repeat \"Its only a movie\" ps. some of the gore scenes within this movie: Chainsaw dismemberment (full), tongue torn out, eyeballs torn out, maggot infested corpses, zombies, decapitations, face being putted in boiling water, stabs in the shower (to head), throat slit, many parts of the body and organs being toast aside, hammer smashed face...\"\n",
      "Original sentiment: positive\n",
      "Predicted sentiment: negative\n",
      "❌ Wrong\n",
      "\n"
     ]
    }
   ],
   "source": [
    "wrong_answers = 0\n",
    "max_wrong_answers = 20\n",
    "n = 0\n",
    "while wrong_answers < max_wrong_answers:\n",
    "    if n == df.shape[0]:\n",
    "        break\n",
    "    review_text = df.review.iloc[n]\n",
    "    review_sentiment = df.sentiment.iloc[n]\n",
    "    predicted_sentiment = test_review(model, review_text, tokenizer, max_length, label_encoder)\n",
    "    if predicted_sentiment != review_sentiment:\n",
    "        wrong_answers += 1\n",
    "        print(f'({n}) ---------------')\n",
    "        print(f'Original review text: \"{review_text}\"')\n",
    "        print(f'Original sentiment: {review_sentiment}')\n",
    "        print(f'Predicted sentiment: {predicted_sentiment}')\n",
    "        print('❌ Wrong')\n",
    "        print()\n",
    "    n += 1\n",
    "    \n",
    "if wrong_answers == 0:\n",
    "    print('No wrong predictions')"
   ]
  },
  {
   "cell_type": "code",
   "execution_count": 75,
   "id": "8766b3fb",
   "metadata": {
    "ExecuteTime": {
     "end_time": "2023-09-16T04:47:18.858346Z",
     "start_time": "2023-09-16T04:33:46.407171Z"
    }
   },
   "outputs": [
    {
     "name": "stdout",
     "output_type": "stream",
     "text": [
      "Reviews count: 49581\n",
      "Reviews with wrong predictions: 2667\n"
     ]
    }
   ],
   "source": [
    "wrong_predictions = 0\n",
    "n = 0\n",
    "while n != df.shape[0]:\n",
    "    review_text = df.review.iloc[n]\n",
    "    review_sentiment = df.sentiment.iloc[n]\n",
    "    predicted_sentiment = test_review(model, review_text, tokenizer, max_length, label_encoder)\n",
    "    if predicted_sentiment != review_sentiment:\n",
    "        wrong_predictions += 1\n",
    "    n += 1\n",
    "print(f'Reviews count: {df.shape[0]}')\n",
    "print(f'Reviews with wrong predictions: {wrong_predictions}')"
   ]
  },
  {
   "cell_type": "code",
   "execution_count": 76,
   "id": "16e24591",
   "metadata": {
    "ExecuteTime": {
     "end_time": "2023-09-16T05:02:23.626095Z",
     "start_time": "2023-09-16T05:02:23.596238Z"
    }
   },
   "outputs": [
    {
     "name": "stdout",
     "output_type": "stream",
     "text": [
      "Percentage of wrong predictions: 5.38\n"
     ]
    }
   ],
   "source": [
    "print(f'Percentage of wrong predictions: {(wrong_predictions / df.shape[0] * 100):0.2f}')"
   ]
  },
  {
   "cell_type": "code",
   "execution_count": null,
   "id": "5fb18b4d",
   "metadata": {},
   "outputs": [],
   "source": []
  }
 ],
 "metadata": {
  "accelerator": "GPU",
  "colab": {
   "gpuType": "T4",
   "provenance": [],
   "toc_visible": true
  },
  "kernelspec": {
   "display_name": "Python 3 (ipykernel)",
   "language": "python",
   "name": "python3"
  },
  "language_info": {
   "codemirror_mode": {
    "name": "ipython",
    "version": 3
   },
   "file_extension": ".py",
   "mimetype": "text/x-python",
   "name": "python",
   "nbconvert_exporter": "python",
   "pygments_lexer": "ipython3",
   "version": "3.8.17"
  },
  "toc": {
   "base_numbering": 1,
   "nav_menu": {},
   "number_sections": true,
   "sideBar": true,
   "skip_h1_title": false,
   "title_cell": "Table of Contents",
   "title_sidebar": "Contents",
   "toc_cell": false,
   "toc_position": {
    "height": "calc(100% - 180px)",
    "left": "10px",
    "top": "150px",
    "width": "384px"
   },
   "toc_section_display": true,
   "toc_window_display": true
  }
 },
 "nbformat": 4,
 "nbformat_minor": 5
}
