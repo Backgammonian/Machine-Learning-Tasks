{
 "cells": [
  {
   "cell_type": "code",
   "execution_count": null,
   "id": "c81687a8",
   "metadata": {},
   "outputs": [],
   "source": [
    "# List of available devices"
   ]
  },
  {
   "cell_type": "code",
   "execution_count": 1,
   "id": "2e5f8ed5",
   "metadata": {},
   "outputs": [
    {
     "data": {
      "text/plain": [
       "[PhysicalDevice(name='/physical_device:CPU:0', device_type='CPU'),\n",
       " PhysicalDevice(name='/physical_device:GPU:0', device_type='GPU')]"
      ]
     },
     "execution_count": 1,
     "metadata": {},
     "output_type": "execute_result"
    }
   ],
   "source": [
    "import tensorflow as tf\n",
    "\n",
    "tf.config.list_physical_devices()"
   ]
  },
  {
   "cell_type": "code",
   "execution_count": 52,
   "id": "c7d0d562",
   "metadata": {},
   "outputs": [],
   "source": [
    "# Load and analysis of dataset"
   ]
  },
  {
   "cell_type": "code",
   "execution_count": 2,
   "id": "baf6f651",
   "metadata": {},
   "outputs": [
    {
     "data": {
      "text/html": [
       "<div>\n",
       "<style scoped>\n",
       "    .dataframe tbody tr th:only-of-type {\n",
       "        vertical-align: middle;\n",
       "    }\n",
       "\n",
       "    .dataframe tbody tr th {\n",
       "        vertical-align: top;\n",
       "    }\n",
       "\n",
       "    .dataframe thead th {\n",
       "        text-align: right;\n",
       "    }\n",
       "</style>\n",
       "<table border=\"1\" class=\"dataframe\">\n",
       "  <thead>\n",
       "    <tr style=\"text-align: right;\">\n",
       "      <th></th>\n",
       "      <th>review</th>\n",
       "      <th>sentiment</th>\n",
       "    </tr>\n",
       "  </thead>\n",
       "  <tbody>\n",
       "    <tr>\n",
       "      <th>0</th>\n",
       "      <td>One of the other reviewers has mentioned that ...</td>\n",
       "      <td>positive</td>\n",
       "    </tr>\n",
       "    <tr>\n",
       "      <th>1</th>\n",
       "      <td>A wonderful little production.  The filming te...</td>\n",
       "      <td>positive</td>\n",
       "    </tr>\n",
       "    <tr>\n",
       "      <th>2</th>\n",
       "      <td>I thought this was a wonderful way to spend ti...</td>\n",
       "      <td>positive</td>\n",
       "    </tr>\n",
       "    <tr>\n",
       "      <th>3</th>\n",
       "      <td>Basically there's a family where a little boy ...</td>\n",
       "      <td>negative</td>\n",
       "    </tr>\n",
       "    <tr>\n",
       "      <th>4</th>\n",
       "      <td>Petter Mattei's \"Love in the Time of Money\" is...</td>\n",
       "      <td>positive</td>\n",
       "    </tr>\n",
       "    <tr>\n",
       "      <th>...</th>\n",
       "      <td>...</td>\n",
       "      <td>...</td>\n",
       "    </tr>\n",
       "    <tr>\n",
       "      <th>49995</th>\n",
       "      <td>I thought this movie did a down right good job...</td>\n",
       "      <td>positive</td>\n",
       "    </tr>\n",
       "    <tr>\n",
       "      <th>49996</th>\n",
       "      <td>Bad plot, bad dialogue, bad acting, idiotic di...</td>\n",
       "      <td>negative</td>\n",
       "    </tr>\n",
       "    <tr>\n",
       "      <th>49997</th>\n",
       "      <td>I am a Catholic taught in parochial elementary...</td>\n",
       "      <td>negative</td>\n",
       "    </tr>\n",
       "    <tr>\n",
       "      <th>49998</th>\n",
       "      <td>I'm going to have to disagree with the previou...</td>\n",
       "      <td>negative</td>\n",
       "    </tr>\n",
       "    <tr>\n",
       "      <th>49999</th>\n",
       "      <td>No one expects the Star Trek movies to be high...</td>\n",
       "      <td>negative</td>\n",
       "    </tr>\n",
       "  </tbody>\n",
       "</table>\n",
       "<p>50000 rows × 2 columns</p>\n",
       "</div>"
      ],
      "text/plain": [
       "                                                  review sentiment\n",
       "0      One of the other reviewers has mentioned that ...  positive\n",
       "1      A wonderful little production.  The filming te...  positive\n",
       "2      I thought this was a wonderful way to spend ti...  positive\n",
       "3      Basically there's a family where a little boy ...  negative\n",
       "4      Petter Mattei's \"Love in the Time of Money\" is...  positive\n",
       "...                                                  ...       ...\n",
       "49995  I thought this movie did a down right good job...  positive\n",
       "49996  Bad plot, bad dialogue, bad acting, idiotic di...  negative\n",
       "49997  I am a Catholic taught in parochial elementary...  negative\n",
       "49998  I'm going to have to disagree with the previou...  negative\n",
       "49999  No one expects the Star Trek movies to be high...  negative\n",
       "\n",
       "[50000 rows x 2 columns]"
      ]
     },
     "execution_count": 2,
     "metadata": {},
     "output_type": "execute_result"
    }
   ],
   "source": [
    "import pandas as pd\n",
    "\n",
    "load_path = r\"C:\\Users\\Dexp\\Desktop\\Интеллектуальные системы\\ML lab1 LS TM\\IMDB_Dataset_fixed.csv\"\n",
    "dataset = pd.read_csv(path)\n",
    "dataset"
   ]
  },
  {
   "cell_type": "code",
   "execution_count": 3,
   "id": "5f8fb248",
   "metadata": {},
   "outputs": [
    {
     "name": "stdout",
     "output_type": "stream",
     "text": [
      "<class 'pandas.core.frame.DataFrame'>\n",
      "RangeIndex: 50000 entries, 0 to 49999\n",
      "Data columns (total 2 columns):\n",
      " #   Column     Non-Null Count  Dtype \n",
      "---  ------     --------------  ----- \n",
      " 0   review     50000 non-null  object\n",
      " 1   sentiment  50000 non-null  object\n",
      "dtypes: object(2)\n",
      "memory usage: 781.4+ KB\n"
     ]
    }
   ],
   "source": [
    "dataset.info()"
   ]
  },
  {
   "cell_type": "code",
   "execution_count": 4,
   "id": "390ed940",
   "metadata": {},
   "outputs": [
    {
     "data": {
      "text/html": [
       "<div>\n",
       "<style scoped>\n",
       "    .dataframe tbody tr th:only-of-type {\n",
       "        vertical-align: middle;\n",
       "    }\n",
       "\n",
       "    .dataframe tbody tr th {\n",
       "        vertical-align: top;\n",
       "    }\n",
       "\n",
       "    .dataframe thead th {\n",
       "        text-align: right;\n",
       "    }\n",
       "</style>\n",
       "<table border=\"1\" class=\"dataframe\">\n",
       "  <thead>\n",
       "    <tr style=\"text-align: right;\">\n",
       "      <th></th>\n",
       "      <th>review</th>\n",
       "      <th>sentiment</th>\n",
       "    </tr>\n",
       "  </thead>\n",
       "  <tbody>\n",
       "    <tr>\n",
       "      <th>count</th>\n",
       "      <td>50000</td>\n",
       "      <td>50000</td>\n",
       "    </tr>\n",
       "    <tr>\n",
       "      <th>unique</th>\n",
       "      <td>49581</td>\n",
       "      <td>2</td>\n",
       "    </tr>\n",
       "    <tr>\n",
       "      <th>top</th>\n",
       "      <td>Loved today's show!!! It was a variety and not...</td>\n",
       "      <td>positive</td>\n",
       "    </tr>\n",
       "    <tr>\n",
       "      <th>freq</th>\n",
       "      <td>5</td>\n",
       "      <td>25000</td>\n",
       "    </tr>\n",
       "  </tbody>\n",
       "</table>\n",
       "</div>"
      ],
      "text/plain": [
       "                                                   review sentiment\n",
       "count                                               50000     50000\n",
       "unique                                              49581         2\n",
       "top     Loved today's show!!! It was a variety and not...  positive\n",
       "freq                                                    5     25000"
      ]
     },
     "execution_count": 4,
     "metadata": {},
     "output_type": "execute_result"
    }
   ],
   "source": [
    "dataset.describe()"
   ]
  },
  {
   "cell_type": "code",
   "execution_count": 5,
   "id": "0361b3e8",
   "metadata": {},
   "outputs": [
    {
     "data": {
      "text/plain": [
       "419"
      ]
     },
     "execution_count": 5,
     "metadata": {},
     "output_type": "execute_result"
    }
   ],
   "source": [
    "dataset.duplicated().sum()"
   ]
  },
  {
   "cell_type": "code",
   "execution_count": 6,
   "id": "4ef69b00",
   "metadata": {},
   "outputs": [
    {
     "data": {
      "text/plain": [
       "0"
      ]
     },
     "execution_count": 6,
     "metadata": {},
     "output_type": "execute_result"
    }
   ],
   "source": [
    "dataset = dataset.drop_duplicates()\n",
    "dataset.duplicated().sum()"
   ]
  },
  {
   "cell_type": "code",
   "execution_count": 7,
   "id": "d92c420c",
   "metadata": {},
   "outputs": [
    {
     "data": {
      "text/html": [
       "<div>\n",
       "<style scoped>\n",
       "    .dataframe tbody tr th:only-of-type {\n",
       "        vertical-align: middle;\n",
       "    }\n",
       "\n",
       "    .dataframe tbody tr th {\n",
       "        vertical-align: top;\n",
       "    }\n",
       "\n",
       "    .dataframe thead th {\n",
       "        text-align: right;\n",
       "    }\n",
       "</style>\n",
       "<table border=\"1\" class=\"dataframe\">\n",
       "  <thead>\n",
       "    <tr style=\"text-align: right;\">\n",
       "      <th></th>\n",
       "      <th>review</th>\n",
       "      <th>sentiment</th>\n",
       "    </tr>\n",
       "  </thead>\n",
       "  <tbody>\n",
       "    <tr>\n",
       "      <th>count</th>\n",
       "      <td>49581</td>\n",
       "      <td>49581</td>\n",
       "    </tr>\n",
       "    <tr>\n",
       "      <th>unique</th>\n",
       "      <td>49581</td>\n",
       "      <td>2</td>\n",
       "    </tr>\n",
       "    <tr>\n",
       "      <th>top</th>\n",
       "      <td>One of the other reviewers has mentioned that ...</td>\n",
       "      <td>positive</td>\n",
       "    </tr>\n",
       "    <tr>\n",
       "      <th>freq</th>\n",
       "      <td>1</td>\n",
       "      <td>24884</td>\n",
       "    </tr>\n",
       "  </tbody>\n",
       "</table>\n",
       "</div>"
      ],
      "text/plain": [
       "                                                   review sentiment\n",
       "count                                               49581     49581\n",
       "unique                                              49581         2\n",
       "top     One of the other reviewers has mentioned that ...  positive\n",
       "freq                                                    1     24884"
      ]
     },
     "execution_count": 7,
     "metadata": {},
     "output_type": "execute_result"
    }
   ],
   "source": [
    "dataset.describe()"
   ]
  },
  {
   "cell_type": "code",
   "execution_count": 8,
   "id": "eac98ec3",
   "metadata": {},
   "outputs": [
    {
     "data": {
      "text/plain": [
       "review       0\n",
       "sentiment    0\n",
       "dtype: int64"
      ]
     },
     "execution_count": 8,
     "metadata": {},
     "output_type": "execute_result"
    }
   ],
   "source": [
    "dataset.isna().sum(axis = 0)  "
   ]
  },
  {
   "cell_type": "code",
   "execution_count": 9,
   "id": "9bdb25fd",
   "metadata": {},
   "outputs": [
    {
     "data": {
      "text/plain": [
       "2"
      ]
     },
     "execution_count": 9,
     "metadata": {},
     "output_type": "execute_result"
    }
   ],
   "source": [
    "num_of_review_classes = dataset['sentiment'].nunique()\n",
    "num_of_review_classes"
   ]
  },
  {
   "cell_type": "code",
   "execution_count": 10,
   "id": "55592d4c",
   "metadata": {},
   "outputs": [
    {
     "data": {
      "text/plain": [
       "<AxesSubplot:xlabel='sentiment', ylabel='Count'>"
      ]
     },
     "execution_count": 10,
     "metadata": {},
     "output_type": "execute_result"
    },
    {
     "data": {
      "image/png": "[encoded data removed]",
      "text/plain": [
       "<Figure size 504x288 with 1 Axes>"
      ]
     },
     "metadata": {
      "needs_background": "light"
     },
     "output_type": "display_data"
    }
   ],
   "source": [
    "import matplotlib.pyplot as plt\n",
    "import seaborn\n",
    "\n",
    "plt.figure(figsize = (7, 4))\n",
    "seaborn.histplot(dataset['sentiment'])"
   ]
  },
  {
   "cell_type": "code",
   "execution_count": 78,
   "id": "58d2bb38",
   "metadata": {},
   "outputs": [],
   "source": [
    "# Encoding non-numerical features"
   ]
  },
  {
   "cell_type": "code",
   "execution_count": 11,
   "id": "2e725fce",
   "metadata": {},
   "outputs": [
    {
     "data": {
      "text/html": [
       "<div>\n",
       "<style scoped>\n",
       "    .dataframe tbody tr th:only-of-type {\n",
       "        vertical-align: middle;\n",
       "    }\n",
       "\n",
       "    .dataframe tbody tr th {\n",
       "        vertical-align: top;\n",
       "    }\n",
       "\n",
       "    .dataframe thead th {\n",
       "        text-align: right;\n",
       "    }\n",
       "</style>\n",
       "<table border=\"1\" class=\"dataframe\">\n",
       "  <thead>\n",
       "    <tr style=\"text-align: right;\">\n",
       "      <th></th>\n",
       "      <th>review</th>\n",
       "      <th>sentiment</th>\n",
       "    </tr>\n",
       "  </thead>\n",
       "  <tbody>\n",
       "    <tr>\n",
       "      <th>0</th>\n",
       "      <td>One of the other reviewers has mentioned that ...</td>\n",
       "      <td>1</td>\n",
       "    </tr>\n",
       "    <tr>\n",
       "      <th>1</th>\n",
       "      <td>A wonderful little production.  The filming te...</td>\n",
       "      <td>1</td>\n",
       "    </tr>\n",
       "    <tr>\n",
       "      <th>2</th>\n",
       "      <td>I thought this was a wonderful way to spend ti...</td>\n",
       "      <td>1</td>\n",
       "    </tr>\n",
       "    <tr>\n",
       "      <th>3</th>\n",
       "      <td>Basically there's a family where a little boy ...</td>\n",
       "      <td>0</td>\n",
       "    </tr>\n",
       "    <tr>\n",
       "      <th>4</th>\n",
       "      <td>Petter Mattei's \"Love in the Time of Money\" is...</td>\n",
       "      <td>1</td>\n",
       "    </tr>\n",
       "    <tr>\n",
       "      <th>...</th>\n",
       "      <td>...</td>\n",
       "      <td>...</td>\n",
       "    </tr>\n",
       "    <tr>\n",
       "      <th>49995</th>\n",
       "      <td>I thought this movie did a down right good job...</td>\n",
       "      <td>1</td>\n",
       "    </tr>\n",
       "    <tr>\n",
       "      <th>49996</th>\n",
       "      <td>Bad plot, bad dialogue, bad acting, idiotic di...</td>\n",
       "      <td>0</td>\n",
       "    </tr>\n",
       "    <tr>\n",
       "      <th>49997</th>\n",
       "      <td>I am a Catholic taught in parochial elementary...</td>\n",
       "      <td>0</td>\n",
       "    </tr>\n",
       "    <tr>\n",
       "      <th>49998</th>\n",
       "      <td>I'm going to have to disagree with the previou...</td>\n",
       "      <td>0</td>\n",
       "    </tr>\n",
       "    <tr>\n",
       "      <th>49999</th>\n",
       "      <td>No one expects the Star Trek movies to be high...</td>\n",
       "      <td>0</td>\n",
       "    </tr>\n",
       "  </tbody>\n",
       "</table>\n",
       "<p>49581 rows × 2 columns</p>\n",
       "</div>"
      ],
      "text/plain": [
       "                                                  review  sentiment\n",
       "0      One of the other reviewers has mentioned that ...          1\n",
       "1      A wonderful little production.  The filming te...          1\n",
       "2      I thought this was a wonderful way to spend ti...          1\n",
       "3      Basically there's a family where a little boy ...          0\n",
       "4      Petter Mattei's \"Love in the Time of Money\" is...          1\n",
       "...                                                  ...        ...\n",
       "49995  I thought this movie did a down right good job...          1\n",
       "49996  Bad plot, bad dialogue, bad acting, idiotic di...          0\n",
       "49997  I am a Catholic taught in parochial elementary...          0\n",
       "49998  I'm going to have to disagree with the previou...          0\n",
       "49999  No one expects the Star Trek movies to be high...          0\n",
       "\n",
       "[49581 rows x 2 columns]"
      ]
     },
     "execution_count": 11,
     "metadata": {},
     "output_type": "execute_result"
    }
   ],
   "source": [
    "from sklearn.preprocessing import LabelEncoder\n",
    "\n",
    "dataset_encoded = dataset.copy()\n",
    "\n",
    "label_encoder = LabelEncoder()\n",
    "dataset_encoded['sentiment'] = label_encoder.fit_transform(dataset_encoded['sentiment'])\n",
    "\n",
    "dataset_encoded"
   ]
  },
  {
   "cell_type": "code",
   "execution_count": 13,
   "id": "c03fa320",
   "metadata": {},
   "outputs": [],
   "source": [
    "reviews = dataset_encoded.drop(columns = 'sentiment')\n",
    "sentiment = dataset_encoded['sentiment']"
   ]
  },
  {
   "cell_type": "code",
   "execution_count": 14,
   "id": "5030dee9",
   "metadata": {},
   "outputs": [
    {
     "data": {
      "text/html": [
       "<div>\n",
       "<style scoped>\n",
       "    .dataframe tbody tr th:only-of-type {\n",
       "        vertical-align: middle;\n",
       "    }\n",
       "\n",
       "    .dataframe tbody tr th {\n",
       "        vertical-align: top;\n",
       "    }\n",
       "\n",
       "    .dataframe thead th {\n",
       "        text-align: right;\n",
       "    }\n",
       "</style>\n",
       "<table border=\"1\" class=\"dataframe\">\n",
       "  <thead>\n",
       "    <tr style=\"text-align: right;\">\n",
       "      <th></th>\n",
       "      <th>review</th>\n",
       "    </tr>\n",
       "  </thead>\n",
       "  <tbody>\n",
       "    <tr>\n",
       "      <th>0</th>\n",
       "      <td>One of the other reviewers has mentioned that ...</td>\n",
       "    </tr>\n",
       "    <tr>\n",
       "      <th>1</th>\n",
       "      <td>A wonderful little production.  The filming te...</td>\n",
       "    </tr>\n",
       "    <tr>\n",
       "      <th>2</th>\n",
       "      <td>I thought this was a wonderful way to spend ti...</td>\n",
       "    </tr>\n",
       "    <tr>\n",
       "      <th>3</th>\n",
       "      <td>Basically there's a family where a little boy ...</td>\n",
       "    </tr>\n",
       "    <tr>\n",
       "      <th>4</th>\n",
       "      <td>Petter Mattei's \"Love in the Time of Money\" is...</td>\n",
       "    </tr>\n",
       "    <tr>\n",
       "      <th>...</th>\n",
       "      <td>...</td>\n",
       "    </tr>\n",
       "    <tr>\n",
       "      <th>49995</th>\n",
       "      <td>I thought this movie did a down right good job...</td>\n",
       "    </tr>\n",
       "    <tr>\n",
       "      <th>49996</th>\n",
       "      <td>Bad plot, bad dialogue, bad acting, idiotic di...</td>\n",
       "    </tr>\n",
       "    <tr>\n",
       "      <th>49997</th>\n",
       "      <td>I am a Catholic taught in parochial elementary...</td>\n",
       "    </tr>\n",
       "    <tr>\n",
       "      <th>49998</th>\n",
       "      <td>I'm going to have to disagree with the previou...</td>\n",
       "    </tr>\n",
       "    <tr>\n",
       "      <th>49999</th>\n",
       "      <td>No one expects the Star Trek movies to be high...</td>\n",
       "    </tr>\n",
       "  </tbody>\n",
       "</table>\n",
       "<p>49581 rows × 1 columns</p>\n",
       "</div>"
      ],
      "text/plain": [
       "                                                  review\n",
       "0      One of the other reviewers has mentioned that ...\n",
       "1      A wonderful little production.  The filming te...\n",
       "2      I thought this was a wonderful way to spend ti...\n",
       "3      Basically there's a family where a little boy ...\n",
       "4      Petter Mattei's \"Love in the Time of Money\" is...\n",
       "...                                                  ...\n",
       "49995  I thought this movie did a down right good job...\n",
       "49996  Bad plot, bad dialogue, bad acting, idiotic di...\n",
       "49997  I am a Catholic taught in parochial elementary...\n",
       "49998  I'm going to have to disagree with the previou...\n",
       "49999  No one expects the Star Trek movies to be high...\n",
       "\n",
       "[49581 rows x 1 columns]"
      ]
     },
     "execution_count": 14,
     "metadata": {},
     "output_type": "execute_result"
    }
   ],
   "source": [
    "reviews"
   ]
  },
  {
   "cell_type": "code",
   "execution_count": 15,
   "id": "87bdcd1d",
   "metadata": {},
   "outputs": [
    {
     "data": {
      "text/plain": [
       "0        [One, of, the, other, reviewers, has, mentione...\n",
       "1        [A, wonderful, little, production., The, filmi...\n",
       "2        [I, thought, this, was, a, wonderful, way, to,...\n",
       "3        [Basically, there's, a, family, where, a, litt...\n",
       "4        [Petter, Mattei's, \"Love, in, the, Time, of, M...\n",
       "                               ...                        \n",
       "49995    [I, thought, this, movie, did, a, down, right,...\n",
       "49996    [Bad, plot,, bad, dialogue,, bad, acting,, idi...\n",
       "49997    [I, am, a, Catholic, taught, in, parochial, el...\n",
       "49998    [I'm, going, to, have, to, disagree, with, the...\n",
       "49999    [No, one, expects, the, Star, Trek, movies, to...\n",
       "Name: review, Length: 49581, dtype: object"
      ]
     },
     "execution_count": 15,
     "metadata": {},
     "output_type": "execute_result"
    }
   ],
   "source": [
    "reviews_splitted = reviews[\"review\"].str.split()\n",
    "reviews_splitted"
   ]
  },
  {
   "cell_type": "code",
   "execution_count": 16,
   "id": "3576bbd2",
   "metadata": {},
   "outputs": [
    {
     "data": {
      "text/plain": [
       "0        1\n",
       "1        1\n",
       "2        1\n",
       "3        0\n",
       "4        1\n",
       "        ..\n",
       "49995    1\n",
       "49996    0\n",
       "49997    0\n",
       "49998    0\n",
       "49999    0\n",
       "Name: sentiment, Length: 49581, dtype: int32"
      ]
     },
     "execution_count": 16,
     "metadata": {},
     "output_type": "execute_result"
    }
   ],
   "source": [
    "sentiment"
   ]
  },
  {
   "cell_type": "code",
   "execution_count": 17,
   "id": "c4bbb15f",
   "metadata": {},
   "outputs": [],
   "source": [
    "# String vectorization"
   ]
  },
  {
   "cell_type": "code",
   "execution_count": 18,
   "id": "4cd70767",
   "metadata": {},
   "outputs": [],
   "source": [
    "from keras.preprocessing.text import Tokenizer\n",
    "from keras_preprocessing.sequence import pad_sequences\n",
    "\n",
    "tokenizer = Tokenizer()\n",
    "tokenizer.fit_on_texts(reviews_splitted)\n",
    "vocab_size = len(tokenizer.word_index) + 1\n",
    "encoded_reviews = tokenizer.texts_to_sequences(reviews_splitted)\n",
    "max_length = 200\n",
    "padded_reviews = pad_sequences(encoded_reviews, maxlen = max_length, padding = 'post')"
   ]
  },
  {
   "cell_type": "code",
   "execution_count": 19,
   "id": "90900b8f",
   "metadata": {},
   "outputs": [
    {
     "data": {
      "text/plain": [
       "(49581, 200)"
      ]
     },
     "execution_count": 19,
     "metadata": {},
     "output_type": "execute_result"
    }
   ],
   "source": [
    "padded_reviews.shape"
   ]
  },
  {
   "cell_type": "code",
   "execution_count": 88,
   "id": "45a9297c",
   "metadata": {},
   "outputs": [],
   "source": [
    "# Train and test sets"
   ]
  },
  {
   "cell_type": "code",
   "execution_count": 20,
   "id": "937077bd",
   "metadata": {},
   "outputs": [
    {
     "name": "stdout",
     "output_type": "stream",
     "text": [
      "X train: (39664, 200)\n",
      "Y train: (39664,)\n",
      "\n",
      "X test: (9917, 200)\n",
      "Y test: (9917,)\n",
      "\n",
      "X validation: (1984, 200)\n",
      "Y validation: (1984,)\n"
     ]
    }
   ],
   "source": [
    "from sklearn.model_selection import train_test_split\n",
    "\n",
    "x_train, x_test, y_train, y_test = train_test_split(padded_reviews, sentiment, test_size = 0.2, random_state = 42, shuffle = True)\n",
    "x_train_2, x_validation, y_train_2, y_validation = train_test_split(x_train, y_train, test_size = 0.05, random_state = 42)         \n",
    "\n",
    "print(f'X train: {x_train.shape}')\n",
    "print(f'Y train: {y_train.shape}')\n",
    "print()\n",
    "print(f'X test: {x_test.shape}')\n",
    "print(f'Y test: {y_test.shape}')\n",
    "print()\n",
    "print(f'X validation: {x_validation.shape}')\n",
    "print(f'Y validation: {y_validation.shape}')"
   ]
  },
  {
   "cell_type": "code",
   "execution_count": 21,
   "id": "bdceed27",
   "metadata": {},
   "outputs": [
    {
     "name": "stdout",
     "output_type": "stream",
     "text": [
      "Y train (categorical): (39664, 2)\n",
      "Y test (categorical): (9917, 2)\n",
      "Y validation (categorical): (1984, 2)\n"
     ]
    }
   ],
   "source": [
    "from tensorflow.keras.utils import to_categorical\n",
    "\n",
    "y_train_categorical = to_categorical(y_train)\n",
    "y_test_categorical  = to_categorical(y_test)\n",
    "y_validation_categorical  = to_categorical(y_validation)\n",
    "\n",
    "print(f'Y train (categorical): {y_train_categorical.shape}')\n",
    "print(f'Y test (categorical): {y_test_categorical.shape}')\n",
    "print(f'Y validation (categorical): {y_validation_categorical.shape}')"
   ]
  },
  {
   "cell_type": "code",
   "execution_count": 91,
   "id": "27153231",
   "metadata": {},
   "outputs": [],
   "source": [
    "# Model build"
   ]
  },
  {
   "cell_type": "code",
   "execution_count": 22,
   "id": "20def60a",
   "metadata": {},
   "outputs": [
    {
     "name": "stdout",
     "output_type": "stream",
     "text": [
      "Model: \"sequential\"\n",
      "_________________________________________________________________\n",
      " Layer (type)                Output Shape              Param #   \n",
      "=================================================================\n",
      " embedding (Embedding)       (None, 200, 32)           11694016  \n",
      "                                                                 \n",
      " lstm (LSTM)                 (None, 200, 128)          82432     \n",
      "                                                                 \n",
      " dropout (Dropout)           (None, 200, 128)          0         \n",
      "                                                                 \n",
      " lstm_1 (LSTM)               (None, 128)               131584    \n",
      "                                                                 \n",
      " dropout_1 (Dropout)         (None, 128)               0         \n",
      "                                                                 \n",
      " dense (Dense)               (None, 64)                8256      \n",
      "                                                                 \n",
      " dense_1 (Dense)             (None, 2)                 130       \n",
      "                                                                 \n",
      "=================================================================\n",
      "Total params: 11,916,418\n",
      "Trainable params: 11,916,418\n",
      "Non-trainable params: 0\n",
      "_________________________________________________________________\n"
     ]
    }
   ],
   "source": [
    "import keras\n",
    "from keras.models import Sequential\n",
    "from keras.layers import LSTM, Dense, Dropout\n",
    "from tensorflow.keras.layers import Embedding\n",
    "\n",
    "dimension = 32\n",
    "model1 = Sequential()\n",
    "model1.add(Embedding(vocab_size, dimension, input_length = max_length))\n",
    "# return_sequences = True, because one of the next layers is reccurent\n",
    "model1.add(LSTM(128, return_sequences = True))\n",
    "model1.add(Dropout(0.2))\n",
    "model1.add(LSTM(128))\n",
    "model1.add(Dropout(0.2))\n",
    "model1.add(Dense(64, activation = 'relu'))\n",
    "model1.add(Dense(num_of_review_classes, activation = 'softmax'))\n",
    "model1.compile(loss = 'categorical_crossentropy', optimizer = 'adam', metrics = ['accuracy'])\n",
    "\n",
    "model1.summary()"
   ]
  },
  {
   "cell_type": "code",
   "execution_count": 24,
   "id": "542270ad",
   "metadata": {},
   "outputs": [
    {
     "name": "stdout",
     "output_type": "stream",
     "text": [
      "Epoch 1/10\n",
      "1240/1240 [==============================] - 85s 69ms/step - loss: 0.6375 - accuracy: 0.6270 - val_loss: 0.4736 - val_accuracy: 0.7823\n",
      "Epoch 2/10\n",
      "1240/1240 [==============================] - 84s 68ms/step - loss: 0.6231 - accuracy: 0.6442 - val_loss: 0.4693 - val_accuracy: 0.8392\n",
      "Epoch 3/10\n",
      "1240/1240 [==============================] - 85s 68ms/step - loss: 0.3568 - accuracy: 0.8484 - val_loss: 0.1462 - val_accuracy: 0.9511\n",
      "Epoch 4/10\n",
      "1240/1240 [==============================] - 82s 66ms/step - loss: 0.1310 - accuracy: 0.9546 - val_loss: 0.0557 - val_accuracy: 0.9864\n",
      "Epoch 5/10\n",
      "1240/1240 [==============================] - 83s 67ms/step - loss: 0.0485 - accuracy: 0.9852 - val_loss: 0.0291 - val_accuracy: 0.9945\n",
      "Epoch 6/10\n",
      "1240/1240 [==============================] - 83s 67ms/step - loss: 0.0193 - accuracy: 0.9953 - val_loss: 0.0150 - val_accuracy: 0.9960\n",
      "Epoch 7/10\n",
      "1240/1240 [==============================] - 84s 68ms/step - loss: 0.0080 - accuracy: 0.9983 - val_loss: 0.0063 - val_accuracy: 0.9980\n",
      "Epoch 8/10\n",
      "1240/1240 [==============================] - 83s 67ms/step - loss: 0.0035 - accuracy: 0.9993 - val_loss: 3.2178e-04 - val_accuracy: 1.0000\n",
      "Epoch 9/10\n",
      "1240/1240 [==============================] - 83s 67ms/step - loss: 0.0031 - accuracy: 0.9991 - val_loss: 5.9049e-05 - val_accuracy: 1.0000\n",
      "Epoch 10/10\n",
      "1240/1240 [==============================] - 85s 68ms/step - loss: 0.0024 - accuracy: 0.9994 - val_loss: 3.8766e-05 - val_accuracy: 1.0000\n",
      "\n",
      "model.fit operation took 13.96 minutes\n",
      "310/310 [==============================] - 9s 25ms/step - loss: 1.0920 - accuracy: 0.8596\n",
      "\n",
      "Accuracy: 85.96\n"
     ]
    }
   ],
   "source": [
    "import time\n",
    "from keras.callbacks import EarlyStopping\n",
    "\n",
    "es = EarlyStopping(monitor = 'val_loss', mode = 'min', verbose = 5, patience = 4)\n",
    "tic = time.perf_counter()\n",
    "model1.fit(x_train, y_train_categorical, epochs = 10, validation_data = (x_validation, y_validation_categorical), callbacks = [es])\n",
    "toc = time.perf_counter()\n",
    "print()\n",
    "print(f\"model.fit operation took {((toc - tic) / 60):0.2f} minutes\")\n",
    "\n",
    "_, accuracy = model1.evaluate(x_test, y_test_categorical)  \n",
    "\n",
    "print()\n",
    "print(f'Accuracy: {accuracy * 100:.2f}')"
   ]
  },
  {
   "cell_type": "code",
   "execution_count": 94,
   "id": "7b1d6881",
   "metadata": {},
   "outputs": [],
   "source": [
    "# Test"
   ]
  },
  {
   "cell_type": "code",
   "execution_count": 25,
   "id": "4629e63b",
   "metadata": {},
   "outputs": [
    {
     "name": "stdout",
     "output_type": "stream",
     "text": [
      "1/1 [==============================] - 1s 1s/step\n",
      "5517) Original - negative; Predicted - negative\n",
      "RIGHT\n",
      "1/1 [==============================] - 0s 49ms/step\n",
      "3799) Original - positive; Predicted - negative\n",
      "WRONG\n",
      "1/1 [==============================] - 0s 52ms/step\n",
      "5982) Original - positive; Predicted - positive\n",
      "RIGHT\n",
      "1/1 [==============================] - 0s 48ms/step\n",
      "5418) Original - positive; Predicted - positive\n",
      "RIGHT\n",
      "1/1 [==============================] - 0s 46ms/step\n",
      "8685) Original - positive; Predicted - positive\n",
      "RIGHT\n",
      "1/1 [==============================] - 0s 57ms/step\n",
      "1734) Original - positive; Predicted - positive\n",
      "RIGHT\n",
      "1/1 [==============================] - 0s 51ms/step\n",
      "5831) Original - negative; Predicted - negative\n",
      "RIGHT\n",
      "1/1 [==============================] - 0s 42ms/step\n",
      "9560) Original - positive; Predicted - positive\n",
      "RIGHT\n",
      "1/1 [==============================] - 0s 43ms/step\n",
      "2993) Original - negative; Predicted - negative\n",
      "RIGHT\n",
      "1/1 [==============================] - 0s 43ms/step\n",
      "9005) Original - negative; Predicted - positive\n",
      "WRONG\n",
      "1/1 [==============================] - 0s 45ms/step\n",
      "6118) Original - positive; Predicted - negative\n",
      "WRONG\n",
      "1/1 [==============================] - 0s 41ms/step\n",
      "8317) Original - positive; Predicted - positive\n",
      "RIGHT\n",
      "1/1 [==============================] - 0s 42ms/step\n",
      "3380) Original - negative; Predicted - negative\n",
      "RIGHT\n",
      "1/1 [==============================] - 0s 43ms/step\n",
      "4947) Original - negative; Predicted - negative\n",
      "RIGHT\n",
      "1/1 [==============================] - 0s 45ms/step\n",
      "4658) Original - negative; Predicted - negative\n",
      "RIGHT\n",
      "1/1 [==============================] - 0s 42ms/step\n",
      "5195) Original - negative; Predicted - negative\n",
      "RIGHT\n",
      "1/1 [==============================] - 0s 43ms/step\n",
      "8525) Original - positive; Predicted - positive\n",
      "RIGHT\n",
      "1/1 [==============================] - 0s 44ms/step\n",
      "1739) Original - negative; Predicted - negative\n",
      "RIGHT\n",
      "1/1 [==============================] - 0s 43ms/step\n",
      "435) Original - negative; Predicted - negative\n",
      "RIGHT\n",
      "1/1 [==============================] - 0s 43ms/step\n",
      "4606) Original - negative; Predicted - negative\n",
      "RIGHT\n",
      "\n",
      "Percentage of right answers: 85.00\n"
     ]
    }
   ],
   "source": [
    "import numpy as np\n",
    "\n",
    "keys = dataset_encoded['sentiment'].unique()\n",
    "values = dataset['sentiment'].unique()\n",
    "classes_dictionary = dict(zip(keys, values))\n",
    "rights = 0\n",
    "tests = 20\n",
    "y_test_numpy = y_test.to_numpy()\n",
    "\n",
    "for i in range(0, tests):\n",
    "    n = np.random.randint(0, x_test.shape[0])\n",
    "    argument = np.reshape(x_test[n], (1, x_test.shape[1]))\n",
    "    value = y_test_numpy[n]\n",
    "    prediction = np.argmax(model1.predict(argument), axis = 1)\n",
    "    prediction_value = prediction[0]\n",
    "    print(f\"{n}) Original - {classes_dictionary[value]}; Predicted - {classes_dictionary[prediction_value]}\")\n",
    "    if (prediction_value == value):\n",
    "        rights += 1\n",
    "        print(\"RIGHT\")\n",
    "    else:\n",
    "        print(\"WRONG\")\n",
    "    \n",
    "print()\n",
    "print(f\"Percentage of right answers: {(rights / tests * 100):0.2f}\")"
   ]
  },
  {
   "cell_type": "code",
   "execution_count": 42,
   "id": "6a92f22e",
   "metadata": {},
   "outputs": [
    {
     "data": {
      "text/plain": [
       "'started out as. whoever plays the surviving secret service agent aboard the cruise ship was probably picked for the part because he looked most like johnny depp, not because of any display of talent. the chinese villains, representing both taiwan and mainland china, hiss and grin as they threaten the heroes. the script is pretty awful, recycled from other, better films. there is a lot of shooting aboard the ship and practically everyone winds up mincemeat. two thirds of the way through, the ship explodes into the expected series of fireballs. then the movie splits into two related parts. part one, another shootout, this time in a waterfront warehouse. part two, an exchange between the vice president, now acting president, and the oily chinese premiere, lifted out of both \"dr. strangelove\" and \"fail safe.\" we unwittingly launch our missiles. they launch theirs in retaliation. we cannot convince them that our launch was accidental, even though we offer to help them destroy our own missiles. there is even the george c. scott/ walter matthau general who argues that their \"nucular\" armory can\\'t match ours so we should hit them with everything we\\'ve got. more fireballs. the end comes none too soon.'"
      ]
     },
     "execution_count": 42,
     "metadata": {},
     "output_type": "execute_result"
    }
   ],
   "source": [
    "texts = tokenizer.sequences_to_texts(x_test.tolist())\n",
    "texts[0]"
   ]
  },
  {
   "cell_type": "code",
   "execution_count": 46,
   "id": "febc18bd",
   "metadata": {},
   "outputs": [
    {
     "name": "stdout",
     "output_type": "stream",
     "text": [
      "[(7, 1), (8, 0), (10, 0), (15, 0), (36, 0), (40, 1), (45, 1), (49, 1), (53, 0), (57, 0), (59, 1), (78, 0), (83, 1), (85, 1), (86, 1), (87, 1), (95, 1), (98, 1), (102, 0), (112, 1)]\n",
      "Review: want to see a thrilling action movie, don't watch it because you might lose the will to live halfway through. however, if you want a good laugh, please watch it! i even bought the chuck norris 3dvd collection thanks to my enjoyable saturday night. what especially struck me is that évery scene that would be expensive to make was copy-pasted from a discovery documentary or an old tv-special on the us army. furthermore i was amazed by the fact that they didn't put the slightest effort in making the production look real. afghanistan is, as far as i can remember, nowhere near any sea and yet with a single click deke escapes from the terrorists sand-castle with his jet-pack and is taken away by a submarine (probably discovery). later on in the movie, deke throws an islam terrorist against the wall. in the slow motion scene you can beautifully see the long hairs of the korean stuntman flap in the air when smashed against the wall. gotta love it. i recommend you watch it with some friends and a good amount of beer though, only then you'll understand why i've been mad enough to spend 6,99 euro's on the box.;\n",
      "\tOriginal sentiment: 0, predicted sentiment: 1\n",
      "\n",
      "Review: this is a very intriguing short movie by david lynch, and saying the name david lynch is probably enough for a lot of people. this is your typical lynch short. a blonde and a brunette are in a dark room. the blonde has been crying, the brunette is talking in a threatening way to the blonde, and that's about it. with a lot of silent moments, but with the haunting music from angelo badalamenti, there is a strange form of suspense. this short feels a little like 'mulholland dr.', a movie i loved, and therefore i liked this one as well. it is probably especially for lynch fans but there is a chance you like this.;\n",
      "\tOriginal sentiment: 1, predicted sentiment: 0\n",
      "\n",
      "Review: i admire deepa mehta and this movie is a masterpiece. i'd recommend to buy this movie on dvd because it's a movie you might want to watch more often than just once. and trust me, you'd still find little meaningful details after watching it several times. the characters - except for the grandmother perhaps - are all very balanced, no black and white. even though you follow the story from the perspective of the two protagonists, there is also empathy for the other characters. i think the imdb rating for the movie is far too low - probably due to its politically controversial content.;\n",
      "\tOriginal sentiment: 1, predicted sentiment: 0\n",
      "\n",
      "Review: as though responding to backstage cues. even the walking movements themselves are stylised and angular, halfway between a walk and a dance. mankiewicz's new york city is a glittering flurry of art deco colour and movement, a fantasy world so completely removed from reality that even the business of underground gambling and criminal thuggery seems perfectly genial. as i write this review, i've just received word that jean simmons has passed away, age 80. this, unbelievably, was the first time i'd seen her in a film, yet she dazzled me from the beginning. her idealistic and sexually-repressed sarah comes out of her shell following an alcohol binge in havana, letting loose with an adorably playful rendition of \"if i were a bell.\" even though both simmons and brando were non-singers, producer sam goldwyn decided not to dub their vocals, contending that \"maybe you don't sound so good, but at least it's you.\" despite goldwyn's backhanded confidence, the pair both do well to carry entire musical numbers themselves. simmons suggests the same child-like liveliness that audrey hepburn might have brought to the role, and brando exudes such self-assurance and charisma that it doesn't matter that his singing voice isn't quite there.;\n",
      "\tOriginal sentiment: 1, predicted sentiment: 0\n",
      "\n",
      "Review: very funny. ted raimi was also hilarious and extremely goofy. the plot is wacky, an american business man goes to bulgaria and is killed. stacy keach plays a mad scientist who saves/brings bruce campbell back to life by implanting half of the brain of an ex-kgb turned cabbie. bruce campbell spends the rest of the film trying to avenge his death and has many internal arguments between himself and the kgb agent. the movie has all the great bruce campbell slap stick and humor. the movie is somewhat predictable, i knew once the wife was killed that she would be sharing a brain with her killer. however i didn't go to see this movie because i thought it would have an oscar winning script, i went to see it because it was a bruce campbell sci-fi movie and i was not disappointed in the least. i highly recommend that you go see him on his book tour or wait and watch it on the sci-fi channel next month. although before the movie he said the sci-fi channel did cut some of the movie out to make it tv friendly. if you are a fan of bruce, i highly recommend it.;\n",
      "\tOriginal sentiment: 1, predicted sentiment: 0\n",
      "\n",
      "Review: is a very interesting and a very un-equal director. his first movie 'house of games' was the one i liked best, and it set a series of films with characters whose perspective of life changes as they get into complicated situations, and so does the perspective of the viewer. so is 'homicide' which from the title tries to set the mind of the viewer to the usual crime drama. the principal characters are two cops, one jewish and one irish who deal with a racially charged area. the murder of an old jewish shop owner who proves to be an ancient veteran of the israeli independence war triggers the jewish identity in the mind and heart of the jewish detective. this is were the flaws of the film are the more obvious. the process of awakening is theatrical and hard to believe, the group of jewish militants is operatic, and the way the detective eventually walks to the final violent confrontation is pathetic. the end of the film itself is mamet-like smart, but disappoints from a human emotional perspective. joe mantegna and william macy give strong performances, but the flaws of the story are too evident to be easily compensated.;\n",
      "\tOriginal sentiment: 0, predicted sentiment: 1\n",
      "\n",
      "Review: well well, at last a view of this underrated flick. but you can't find a good copy of it, terrible copy full with green drops, the editing isn't syncronized, the sound do has sometimes that terrible hiss and sometimes you even can hear the camera recording. overall it's too dark, a waist of time you should say but it isn't. it's a bit slow, the first half part of the movie it's all talking and making love to each other. it is even still weird that the girls in movies from the 60's never wear any bra's. when they enter the sleeping room it's full glory. anyway, banned in the uk since 84 and still on the video nasties list. the reason is simple, it's gory for their time being. it really has some nasty dismemberement's and it's creepy in some way due the fact that it is filmed handycam way. so every shot the image is moving, things they do these days with the steadycam. the ghastly ones could have been better if the quality of the film was better but still better then other films of the time like schoolgirls in chains.;\n",
      "\tOriginal sentiment: 0, predicted sentiment: 1\n",
      "\n",
      "Review: why on earth does five us keep repeating this one? the title actually says it all: the plot is as clear as a book read in a language you never heard of and that resembles to nothing. you'll see ninety minutes of changing locations, most of them will be blown up later on in the movie. right in the beginning you see a nice little farm typical for the berry, which is in the movie moved close to paris but then it does not survive the \"transport\" to the isle de france very well: it explodes 1 minute later. there are also two gangster who have no tongues, as if that would make sense in the world of sms and internet, let alone pencil and paper. it just goes on like that, nothing makes sense in this story. my only credit goes to the cameraman, the camera is excellent.;\n",
      "\tOriginal sentiment: 0, predicted sentiment: 1\n",
      "\n",
      "Review: though i agree \"london\" is better and i prefer that version, too. the first 30-40 minutes of this movie is strictly played for laughs including a hysterical scene with a \"balloon\" in a restaurant. it also introduces the lead female character, played by julie delpy. i don't see enough of this actress. she doesn't seem to make that many films, or least ones i hear about over here in america. this french actress has a face that is classic beauty, so the film got points for having her in it, and she looks great. when the horror starts, it can get scary and the special effects are good. i also liked the lack of profanity in this film, unlike the first one: no f-words and no lord's name in vain - amazing! however, there are plenty of sexual remarks and there is one scene with a guy running out of bar tied to a cross which was blasphemous to me. the soundtrack is heavy metal which isn't appealing to a middle-aged guy like me, either. this film is geared a lot more toward 20-somethings, if that helps anyone. it's entertaining.....just don't expect it to live up to the first film.;\n",
      "\tOriginal sentiment: 1, predicted sentiment: 0\n",
      "\n",
      "Review: life pod is one of those movies that you just watch and try not to analyze too hard. the acting is rather amateurish, at best. the special effects are obviously low budget, but not too bad. the story line is rather stock, but with an interesting twist. computer run amok, but not exactly a computer and the running amok is very understandable when the truth is revealed. still the movie has its moments and is quite watchable. for me, at least part of the allure of this movie is the prominent role of kristine debell. she may not be the greatest actress in the world, but having been a former playmate of the month, she is cute enough. in all life pod is much like other low-budget sci-fi movies of the 1980s and somewhat predictable. the white star lines bit is cute, if completely inaccurate. the last of the white star lines company stock was purchased by the cunard lines 1947 and the last ship to sail under the white star colors was the britannic (not the sister of titanic) which was sold for scrap in 1960.;\n",
      "\tOriginal sentiment: 1, predicted sentiment: 0\n",
      "\n",
      "Review: this series would have been a lot better if they had just done one simple thing: made ian mcshane code name: diamond head instead of code name: tree. diamond head the character needs someone who could handle the role of the lovable rogue, which mcshane proved he could do with the lovejoy series. roy thinnes, the actual diamond head, is really only so-so in the role. mcshane is not really that good as the bad guy tree. france nuyen's character, tso-tsing, can't seem to make up her mind as to whether she's the hapless victim or the tough-and-ready-to-fight woman. she really earned her pay at the end when she had to play the role of diamond head's lover. after viewing an episode or two, i ended up not caring what happened to anyone. tree gives us a lot to hate him, but diamond head gives us nothing to like him. unfortunately, the spy genre in the 1970s was not quite as it was in the 1960's.;\n",
      "\tOriginal sentiment: 0, predicted sentiment: 1\n",
      "\n",
      "Review: is heavy with pictorial significance and cinematic imagery, `cold heaven' downplays its own cinematic qualities. there are no striking shots, no edgy effects, no attempts to fit the content to the form. it is workmanlike shooting, but subdued. nor does it have dialogue or acting to put it in a class of high drama. it is a simple story that unfolds simply. it may seem odd; but at the end the mystery is revealed. it looks ambiguous; but with a single line the ambiguity vanishes in a puff of catholic dogma. in this regard, `cold heaven' has at its heart exactly the same sort of thing that drives a movie like `the sting,' or `the sixth sense,' or `final descent,' or polanski's `a pure formality.' all of these are films with a trick up their sleeves. they may frustrate you along the way, but they have a point-an obvious one, indeed--but the fun is, at least in part, in having been taken in. still, even if it seems like little more than a shaggy dog story with a punch line, it is worth watching for way it directs-and misdirects-you. try it-especially if you are, or have ever been, a catholic.;\n",
      "\tOriginal sentiment: 1, predicted sentiment: 0\n",
      "\n",
      "Review: alright, i got passed the horrible acting. i got passed the fact that lil kim was blasting some cannons and her arms or hands weren't moving, i got passed the weaves, i got passed the colored contacts. this is what killed it for me: in the scene where the four roses were sitting at the table arguing. lisa-raye and monica calhoun stand up and, and then lil kim gets up to break up any hostilities by saying, \"whoa, whoa, whoa, hold up. let's chill out here for a hot second.\" i am a fan of the western movie genre, and i never heard anyone talk slang like this in any of clint eastwood's movies. if anyone thinks this movie deserves over a 1 rating, please tell me another movie that's worse than gang of roses. i'm through.;\n",
      "\tOriginal sentiment: 0, predicted sentiment: 1\n",
      "\n",
      "Review: i enjoyed the prequels, and found the relationship between tucker and chan previously hilarious. rh3, however, was a re-hash of the first two without the charm or humor. i think i may have laughed once - and it was during the ngs. tucker was exceedingly annoying in this film, and his character didn't seem to have any purpose other than to bungle everything up in the most irritating way possible. chan is always likable, but he seemed tired in this film. i was able to predict everything - who the villain was, who the girl was, (spoiler alert) who the good-guy-turned-bad-guy was, etc. i hope to see more movies from tucker and chan in their separate endeavors, but not in any more rush hour sequels. it's just too tired. i recommend a rental, but not a purchase.;\n",
      "\tOriginal sentiment: 0, predicted sentiment: 1\n",
      "\n",
      "Review: the novelty of hearing clean-cut jay leno spout four-letter words is the only memorable aspect of this formulaic mismatched-police-partners caper. in collision course, the pelican-faced comedian teams up with the late pat morita to track down a stolen prototype turbocharger (think car lover leno played a hand in the plot?). the two leads try hard, they really do, but leno is no actor and morita's fish-out-of-water routine gets old in a hurry. the film carries a bit of cheesy '80s appeal, but its worthy moments become increasingly scarce as it fills out its overlong 100-minute running time. fans of leno's considerable comedic talents will feel let down; everyone else will just be bored.;\n",
      "\tOriginal sentiment: 0, predicted sentiment: 1\n",
      "\n",
      "Review: acclaimed director mervyn leroy puts drama on film that competes with the best of soap operas. high drama is found in the loves and infidelities in new york's social set. oh yes, don't forget jealousy can bring about tainted hearts and murder. the all star cast features: barbara stanwyck, van heflin, james mason, ava gardner, cyd charisse and nancy davis.;\n",
      "\tOriginal sentiment: 0, predicted sentiment: 1\n",
      "\n",
      "Review: on any true historic account-werner's character is then hauled off to die in a anteroom while hitler prepare's his own ending, hitler's farewell to his staff is shown but the suicide is off-screen, the final second's of the movie show hitler's funeral pyre smoke slowly forming into a ghostly image of the face of the dead oskar werner/hauptmann wust-this film is more allegorical than historical and anyone interested in this period would do better to check out more recent film's such as the 1973 remake \"hitler: the last 10 day's\" or the german film \"downfall\" (der untergang) if they wish a more true accounting of this dramatic story, these last two film's are based on first person eyewitness account's, with \"hitler: the last 10 day's\" being compiled from gerhard boldt's autobiography as a staff officer in the fuehrer bunker and \"downfall\" being done from hitler's secretary's recollection's, the screen play for \"der letzte akte\" is taken from american nuremberg war crime's trial judge michael musmanno's book \"ten day's to die\", which is more a compilation of event's (many obviously fanciful) than eyewitness history-it is surprising that hugh trevor roper's account,\"the last day's of hitler\" was never made into a film.;\n",
      "\tOriginal sentiment: 0, predicted sentiment: 1\n",
      "\n",
      "Review: the picture, approximately number eight). her terminal disease brings the two competing young men together as friends, well, at least i think that is what the movie intended to show, that the loss of one loved by two nemeses can bring both together (cliché number nine). klein rehearses his valedictorian speech to demonstrate his character is more than a shallow stereotype, but we have seen this so many times before i would prefer a rich character rather than a deeply sentimental who hides actual feelings (cliché number, um, was it ten)?. the conflicts between kelley and jasper are desperate and inane; a \"your mom\" comment triggers a fist fight while they rebuild the establishment. there is a retread from \"armageddon,\" as samantha and kelley sprawl out in an open field, horny as hell, as he slowly moves his fingers around her body, naming areas after us cities (why not call that number eleven). the movie uses alcohol as a means to increase the romantic tension: an intoxicated kelley makes a fool of himself after getting in a fight with samantha's date, jasper, but the following day he recites desires only to dance (cliché number, oh no, i am losing count).;\n",
      "\tOriginal sentiment: 0, predicted sentiment: 1\n",
      "\n",
      "Review: performance in \"the tenants.\" there are certainly better rapper/actors, like mos def, who could've done more with his role. but the point is snoop did a \"good\" job. he can't seem to shake off some of his trademark body movements and vocal inflections, but that's something even jack nicholson has a problem doing. the point is i found him convincing in the role, and the tension between him and dylan mcdermott's character captivating. mcdermott, by the way, gives the best performance in the film, though his subtle acting will most likely be overshadowed by snoop's not-so-subtle acting. being a big reader and aspiring writer myself, i couldn't help but find the characters and plot somewhat fascinating. it did aggravate me how snoop's character would constantly ask mcdermott to read his work, and berate him for criticizing it. but you know what? i'm sure a lot of writers are like that. his character was supposed to be flawed, as was mcdermott's, in his own way. my only mild criticism of the film would be its ending. for some reason, it just felt too rushed for me, though the resolution certainly made sense and was motivated by the characters, rather than plot.;\n",
      "\tOriginal sentiment: 1, predicted sentiment: 0\n",
      "\n",
      "Review: if you have ever seen a movie by brian avenet-bradley and compares it to the feedbacks it gets on imdb, you know that most of the comments and votes are faked. trust me: you will be bored! people of the production team write their feedback themselves (sometimes they even admit it). but that's not enough: they also click constantly \"no\" whenever there is a negative comment on the movie. that's why negative critics are always placed behind the hyped ones. the movie itself is bad, bad, bad: bad acting, bad lighting, bad script, bad ending. believe me now! if not, you will believe me later! brian avenet-bradley might be quite a good business man. otherwise it cannot be explained that he finds people who still finance his movies. (okay, they are cheap, but nevertheless.) but as a creative person, he is a complete failure.;\n",
      "\tOriginal sentiment: 0, predicted sentiment: 1\n",
      "\n"
     ]
    }
   ],
   "source": [
    "wrongs = 0\n",
    "threshold = 20\n",
    "n = 0\n",
    "indexes_of_reviews_with_wrong_predicted_values = []\n",
    "while wrongs < threshold:\n",
    "    if (n == x_test.shape[0]):\n",
    "        break\n",
    "    print(f\"{n + 1} out of {x_test.shape[0]}\")\n",
    "    argument = np.reshape(x_test[n], (1, x_test.shape[1]))\n",
    "    real_value = y_test_numpy[n]\n",
    "    prediction = np.argmax(model1.predict(argument), axis = 1)\n",
    "    predicted_value = prediction[0]\n",
    "    if (predicted_value != real_value):\n",
    "        indexes_of_reviews_with_wrong_predicted_values.append((n, predicted_value))\n",
    "        wrongs += 1\n",
    "    n += 1\n",
    "\n",
    "\n",
    "print(indexes_of_reviews_with_wrong_predicted_values)\n",
    "for i in range(0, len(indexes_of_reviews_with_wrong_predicted_values)):\n",
    "    index = indexes_of_reviews_with_wrong_predicted_values[i][0]\n",
    "    predicted_value = indexes_of_reviews_with_wrong_predicted_values[i][1]\n",
    "    review = texts[index]\n",
    "    real_value = y_test_numpy[index]\n",
    "    print(f\"Review: {review};\\n\\tOriginal sentiment: {real_value}, predicted sentiment: {predicted_value}\\n\")"
   ]
  },
  {
   "cell_type": "code",
   "execution_count": null,
   "id": "2009562c",
   "metadata": {},
   "outputs": [],
   "source": [
    "# Loading and saving the model from files"
   ]
  },
  {
   "cell_type": "code",
   "execution_count": 26,
   "id": "6ce7b375",
   "metadata": {},
   "outputs": [
    {
     "name": "stderr",
     "output_type": "stream",
     "text": [
      "WARNING:absl:Found untraced functions such as lstm_cell_layer_call_fn, lstm_cell_layer_call_and_return_conditional_losses, lstm_cell_1_layer_call_fn, lstm_cell_1_layer_call_and_return_conditional_losses while saving (showing 4 of 4). These functions will not be directly callable after loading.\n"
     ]
    },
    {
     "name": "stdout",
     "output_type": "stream",
     "text": [
      "INFO:tensorflow:Assets written to: C:\\Users\\Dexp\\Desktop\\LSTM_Reviews_Model\\assets\n"
     ]
    },
    {
     "name": "stderr",
     "output_type": "stream",
     "text": [
      "INFO:tensorflow:Assets written to: C:\\Users\\Dexp\\Desktop\\LSTM_Reviews_Model\\assets\n"
     ]
    }
   ],
   "source": [
    "save_path = r\"C:\\Users\\Dexp\\Desktop\\LSTM_Reviews_Model\"\n",
    "model1.save(path)"
   ]
  },
  {
   "cell_type": "code",
   "execution_count": 31,
   "id": "f727a4da",
   "metadata": {},
   "outputs": [
    {
     "name": "stdout",
     "output_type": "stream",
     "text": [
      "Model: \"sequential\"\n",
      "_________________________________________________________________\n",
      " Layer (type)                Output Shape              Param #   \n",
      "=================================================================\n",
      " embedding (Embedding)       (None, 200, 32)           11694016  \n",
      "                                                                 \n",
      " lstm (LSTM)                 (None, 200, 128)          82432     \n",
      "                                                                 \n",
      " dropout (Dropout)           (None, 200, 128)          0         \n",
      "                                                                 \n",
      " lstm_1 (LSTM)               (None, 128)               131584    \n",
      "                                                                 \n",
      " dropout_1 (Dropout)         (None, 128)               0         \n",
      "                                                                 \n",
      " dense (Dense)               (None, 64)                8256      \n",
      "                                                                 \n",
      " dense_1 (Dense)             (None, 2)                 130       \n",
      "                                                                 \n",
      "=================================================================\n",
      "Total params: 11,916,418\n",
      "Trainable params: 11,916,418\n",
      "Non-trainable params: 0\n",
      "_________________________________________________________________\n"
     ]
    }
   ],
   "source": [
    "from tensorflow import keras\n",
    "\n",
    "model2 = keras.models.load_model(save_path)\n",
    "model2.summary()"
   ]
  },
  {
   "cell_type": "code",
   "execution_count": null,
   "id": "503326a0",
   "metadata": {},
   "outputs": [],
   "source": [
    "# Test of loaded model"
   ]
  },
  {
   "cell_type": "code",
   "execution_count": 33,
   "id": "81e05937",
   "metadata": {},
   "outputs": [
    {
     "name": "stdout",
     "output_type": "stream",
     "text": [
      "1/1 [==============================] - 0s 46ms/step\n",
      "4470) Original - positive; Predicted - positive\n",
      "RIGHT\n",
      "1/1 [==============================] - 0s 46ms/step\n",
      "8087) Original - negative; Predicted - negative\n",
      "RIGHT\n",
      "1/1 [==============================] - 0s 47ms/step\n",
      "4348) Original - positive; Predicted - positive\n",
      "RIGHT\n",
      "1/1 [==============================] - 0s 49ms/step\n",
      "3999) Original - positive; Predicted - positive\n",
      "RIGHT\n",
      "1/1 [==============================] - 0s 46ms/step\n",
      "653) Original - positive; Predicted - negative\n",
      "WRONG\n",
      "1/1 [==============================] - 0s 47ms/step\n",
      "9174) Original - positive; Predicted - positive\n",
      "RIGHT\n",
      "1/1 [==============================] - 0s 51ms/step\n",
      "3511) Original - positive; Predicted - positive\n",
      "RIGHT\n",
      "1/1 [==============================] - 0s 56ms/step\n",
      "4294) Original - positive; Predicted - negative\n",
      "WRONG\n",
      "1/1 [==============================] - 0s 56ms/step\n",
      "8285) Original - negative; Predicted - negative\n",
      "RIGHT\n",
      "1/1 [==============================] - 0s 46ms/step\n",
      "7314) Original - negative; Predicted - negative\n",
      "RIGHT\n",
      "1/1 [==============================] - 0s 51ms/step\n",
      "7627) Original - positive; Predicted - positive\n",
      "RIGHT\n",
      "1/1 [==============================] - 0s 48ms/step\n",
      "8693) Original - positive; Predicted - positive\n",
      "RIGHT\n",
      "1/1 [==============================] - 0s 51ms/step\n",
      "2918) Original - positive; Predicted - positive\n",
      "RIGHT\n",
      "1/1 [==============================] - 0s 50ms/step\n",
      "3337) Original - positive; Predicted - positive\n",
      "RIGHT\n",
      "1/1 [==============================] - 0s 49ms/step\n",
      "7643) Original - negative; Predicted - negative\n",
      "RIGHT\n",
      "1/1 [==============================] - 0s 46ms/step\n",
      "1063) Original - negative; Predicted - negative\n",
      "RIGHT\n",
      "1/1 [==============================] - 0s 47ms/step\n",
      "6248) Original - negative; Predicted - negative\n",
      "RIGHT\n",
      "1/1 [==============================] - 0s 49ms/step\n",
      "6603) Original - negative; Predicted - negative\n",
      "RIGHT\n",
      "1/1 [==============================] - 0s 48ms/step\n",
      "9557) Original - negative; Predicted - negative\n",
      "RIGHT\n",
      "1/1 [==============================] - 0s 55ms/step\n",
      "7759) Original - negative; Predicted - negative\n",
      "RIGHT\n",
      "\n",
      "Percentage of right answers: 90.00\n"
     ]
    }
   ],
   "source": [
    "import numpy as np\n",
    "\n",
    "keys = dataset_encoded['sentiment'].unique()\n",
    "values = dataset['sentiment'].unique()\n",
    "classes_dictionary = dict(zip(keys, values))\n",
    "rights = 0\n",
    "tests = 20\n",
    "y_test_numpy = y_test.to_numpy()\n",
    "\n",
    "for i in range(0, tests):\n",
    "    n = np.random.randint(0, x_test.shape[0])\n",
    "    #n = i\n",
    "    argument = np.reshape(x_test[n], (1, x_test.shape[1]))\n",
    "    value = y_test_numpy[n]\n",
    "    prediction = np.argmax(model2.predict(argument), axis = 1)\n",
    "    prediction_value = prediction[0]\n",
    "    print(f\"{n}) Original - {classes_dictionary[value]}; Predicted - {classes_dictionary[prediction_value]}\")\n",
    "    if (prediction_value == value):\n",
    "        rights += 1\n",
    "        print(\"RIGHT\")\n",
    "    else:\n",
    "        print(\"WRONG\")\n",
    "    \n",
    "print()\n",
    "print(f\"Percentage of right answers: {(rights / tests * 100):0.2f}\")"
   ]
  },
  {
   "cell_type": "code",
   "execution_count": null,
   "id": "b4884060",
   "metadata": {},
   "outputs": [],
   "source": []
  }
 ],
 "metadata": {
  "kernelspec": {
   "display_name": "Python 3 (ipykernel)",
   "language": "python",
   "name": "python3"
  },
  "language_info": {
   "codemirror_mode": {
    "name": "ipython",
    "version": 3
   },
   "file_extension": ".py",
   "mimetype": "text/x-python",
   "name": "python",
   "nbconvert_exporter": "python",
   "pygments_lexer": "ipython3",
   "version": "3.9.6"
  }
 },
 "nbformat": 4,
 "nbformat_minor": 5
}
