{
  "cells": [
    {
      "cell_type": "markdown",
      "id": "KYQGyj3VyaCc",
      "metadata": {
        "id": "KYQGyj3VyaCc"
      },
      "source": [
        "Mostly based on this notebook: https://github.com/jeffheaton/t81_558_deep_learning/blob/master/t81_558_class_10_3_text_generation.ipynb"
      ]
    },
    {
      "cell_type": "markdown",
      "id": "6ced7269",
      "metadata": {
        "id": "6ced7269"
      },
      "source": [
        "# Import libraries"
      ]
    },
    {
      "cell_type": "code",
      "execution_count": 1,
      "id": "nJOmx15llSrY",
      "metadata": {
        "colab": {
          "base_uri": "https://localhost:8080/"
        },
        "id": "nJOmx15llSrY",
        "outputId": "2bbae3ed-e272-4e17-a6f3-63b4bccc4dc3"
      },
      "outputs": [
        {
          "output_type": "stream",
          "name": "stdout",
          "text": [
            "Drive already mounted at /content/drive; to attempt to forcibly remount, call drive.mount(\"/content/drive\", force_remount=True).\n"
          ]
        }
      ],
      "source": [
        "from google.colab import drive\n",
        "\n",
        "drive.mount('/content/drive')\n",
        "drive_path = 'drive/MyDrive'"
      ]
    },
    {
      "cell_type": "code",
      "execution_count": 2,
      "id": "9e2dced3",
      "metadata": {
        "ExecuteTime": {
          "end_time": "2023-12-04T10:13:05.166569Z",
          "start_time": "2023-12-04T10:13:05.156570Z"
        },
        "id": "9e2dced3"
      },
      "outputs": [],
      "source": [
        "import pandas as pd\n",
        "pd.set_option('display.max_rows', 50)\n",
        "pd.set_option('display.max_columns', 10)\n",
        "import numpy as np\n",
        "import random\n",
        "import sys\n",
        "import io\n",
        "import re"
      ]
    },
    {
      "cell_type": "code",
      "execution_count": 3,
      "id": "234b9fbe",
      "metadata": {
        "ExecuteTime": {
          "end_time": "2023-12-04T10:08:53.516534Z",
          "start_time": "2023-12-04T10:08:45.312621Z"
        },
        "colab": {
          "base_uri": "https://localhost:8080/"
        },
        "id": "234b9fbe",
        "outputId": "88162f65-a47d-4b2d-a60d-6090c424ef59"
      },
      "outputs": [
        {
          "output_type": "execute_result",
          "data": {
            "text/plain": [
              "[PhysicalDevice(name='/physical_device:CPU:0', device_type='CPU'),\n",
              " PhysicalDevice(name='/physical_device:GPU:0', device_type='GPU')]"
            ]
          },
          "metadata": {},
          "execution_count": 3
        }
      ],
      "source": [
        "import tensorflow as tf\n",
        "from tensorflow import keras\n",
        "from keras.models import Sequential\n",
        "from keras.layers import Dense, LSTM\n",
        "from keras.callbacks import LambdaCallback\n",
        "\n",
        "# List of devices\n",
        "tf.config.list_physical_devices()"
      ]
    },
    {
      "cell_type": "markdown",
      "id": "2778f912",
      "metadata": {
        "id": "2778f912"
      },
      "source": [
        "# Open quotes text file"
      ]
    },
    {
      "cell_type": "code",
      "execution_count": 4,
      "id": "ac2f5eb0",
      "metadata": {
        "colab": {
          "base_uri": "https://localhost:8080/"
        },
        "id": "ac2f5eb0",
        "outputId": "e8a70954-3041-43aa-e665-1bdebc2edaf7"
      },
      "outputs": [
        {
          "output_type": "stream",
          "name": "stdout",
          "text": [
            "Lines count in the quotes file: 67086\n",
            "Lines count in the shorter version of file: 11181\n"
          ]
        }
      ],
      "source": [
        "f = open(f'{drive_path}/quotes.txt', 'r', encoding = 'utf-8')\n",
        "lines = f.readlines()\n",
        "lines_count = len(lines)\n",
        "f.close()\n",
        "new_lines_count = lines_count // 6\n",
        "\n",
        "print(f'Lines count in the quotes file: {lines_count}')\n",
        "print(f'Lines count in the shorter version of file: {new_lines_count}')\n",
        "\n",
        "f = open(f'{drive_path}/quotes.txt', 'r', encoding = 'utf-8')\n",
        "g = open(f'{drive_path}/quotes_one_sixth_version.txt', 'w', encoding = 'utf-8')\n",
        "for i in range(0, new_lines_count):\n",
        "    line = f.readline()\n",
        "    g.write(line)\n",
        "f.close()\n",
        "g.close()"
      ]
    },
    {
      "cell_type": "code",
      "execution_count": 5,
      "id": "7bb73224",
      "metadata": {
        "ExecuteTime": {
          "end_time": "2023-12-04T10:15:52.027283Z",
          "start_time": "2023-12-04T10:15:51.862283Z"
        },
        "colab": {
          "base_uri": "https://localhost:8080/"
        },
        "id": "7bb73224",
        "outputId": "9eef4784-4a1e-43fb-f902-82bf46c90aa5"
      },
      "outputs": [
        {
          "output_type": "stream",
          "name": "stdout",
          "text": [
            "Quotes count: 11181\n"
          ]
        }
      ],
      "source": [
        "# file_path = f'{drive_path}/quotes.txt'\n",
        "file_path = f'{drive_path}/quotes_one_sixth_version.txt'\n",
        "f = open(file_path, 'r', encoding = 'utf-8')\n",
        "quotes = f.readlines()\n",
        "f.close()\n",
        "\n",
        "print(f'Quotes count: {len(quotes)}')"
      ]
    },
    {
      "cell_type": "code",
      "execution_count": 6,
      "id": "6f55a9a5",
      "metadata": {
        "ExecuteTime": {
          "end_time": "2023-12-04T10:18:48.130820Z",
          "start_time": "2023-12-04T10:18:48.095820Z"
        },
        "colab": {
          "base_uri": "https://localhost:8080/"
        },
        "id": "6f55a9a5",
        "outputId": "d7beeada-0a8b-4a64-95c5-c83413144205"
      },
      "outputs": [
        {
          "output_type": "stream",
          "name": "stdout",
          "text": [
            "Raw text length: 1671104\n"
          ]
        }
      ],
      "source": [
        "raw_text = ''.join(quotes)\n",
        "\n",
        "print(f'Raw text length: {len(raw_text)}')"
      ]
    },
    {
      "cell_type": "markdown",
      "id": "b6f19d66",
      "metadata": {
        "id": "b6f19d66"
      },
      "source": [
        "# Text preprocessing"
      ]
    },
    {
      "cell_type": "code",
      "execution_count": 8,
      "id": "52d633c7",
      "metadata": {
        "ExecuteTime": {
          "end_time": "2023-12-04T10:28:34.630360Z",
          "start_time": "2023-12-04T10:28:34.610307Z"
        },
        "colab": {
          "base_uri": "https://localhost:8080/",
          "height": 142
        },
        "id": "52d633c7",
        "outputId": "0a927078-8287-4740-e382-a81f638baf7a"
      },
      "outputs": [
        {
          "output_type": "execute_result",
          "data": {
            "text/plain": [
              "'— Достаточно, — резко оборвала его Рейна. — Аннабет говорит правду. Она пришла с миром. Кроме того...— Рейна посмотрела на Аннабет с невольным уважением. — Перси высоко о тебе отзывался. Подтекст в голосе Рейны занял у Аннабет мгновение, чтобы понять его. Взгляд Перси был устремлен вниз, внезапно заинтересовавшись лежащим на тарелке чизбургером. Лицо Аннабет запылало. О, Боги... Рейна пыталась сблизиться с Перси. Это объясняло оттенок горечи, возможно даже зависти в её словах. Перси предпочел ей Аннабет. В тот момент, Аннабет простила своему нелепому парню все, что он когда-либо делал неправильно. Она хотела обнять его, но приказала себе оставаться спокойной.\\nРоссия стоит между Азией и Европой. Мы вам сделали теплицу. Вы в теплице. Согреваетесь под теплым солнышком, потому что на ваши головы не падают бомбы. Потому что на Востоке стоит русская армия!\\nМы убьем его добротой, но только вместо доброты используем оружие.\\nДамы, не худейте. Оно вам надо? Уж лучше к старости быть р'"
            ],
            "application/vnd.google.colaboratory.intrinsic+json": {
              "type": "string"
            }
          },
          "metadata": {},
          "execution_count": 8
        }
      ],
      "source": [
        "raw_text[:1000]"
      ]
    },
    {
      "cell_type": "code",
      "execution_count": 9,
      "id": "7728f5a0",
      "metadata": {
        "ExecuteTime": {
          "end_time": "2023-12-04T10:29:50.412132Z",
          "start_time": "2023-12-04T10:29:49.472064Z"
        },
        "colab": {
          "base_uri": "https://localhost:8080/"
        },
        "id": "7728f5a0",
        "outputId": "d92c8c5c-e735-41b2-e34b-3d789a3b8d20"
      },
      "outputs": [
        {
          "output_type": "stream",
          "name": "stdout",
          "text": [
            "Corpus length: 1671104\n",
            "Total chars: 135\n"
          ]
        }
      ],
      "source": [
        "processed_text = raw_text.lower()\n",
        "# processed_text = re.sub(r'[^\\x00-\\x7f]', r'', processed_text)\n",
        "chars = sorted(list(set(processed_text)))\n",
        "char_indices = dict((c, i) for i, c in enumerate(chars))\n",
        "indices_char = dict((i, c) for i, c in enumerate(chars))\n",
        "\n",
        "print(f'Corpus length: {len(processed_text)}')\n",
        "print(f'Total chars: {len(chars)}')"
      ]
    },
    {
      "cell_type": "markdown",
      "id": "d48d9239",
      "metadata": {
        "id": "d48d9239"
      },
      "source": [
        "# Build the sentence sequences"
      ]
    },
    {
      "cell_type": "code",
      "execution_count": 10,
      "id": "783d2925",
      "metadata": {
        "ExecuteTime": {
          "end_time": "2023-12-04T10:30:19.609294Z",
          "start_time": "2023-12-04T10:30:16.334629Z"
        },
        "colab": {
          "base_uri": "https://localhost:8080/"
        },
        "id": "783d2925",
        "outputId": "2f0be580-d9d8-444d-a63d-ccf397b4342f"
      },
      "outputs": [
        {
          "output_type": "stream",
          "name": "stdout",
          "text": [
            "Number of sequences: 167106\n"
          ]
        }
      ],
      "source": [
        "maxlen = 50\n",
        "step = 10\n",
        "sentences = []\n",
        "next_chars = []\n",
        "for i in range(0, len(processed_text) - maxlen, step):\n",
        "    sentences.append(processed_text[i: i + maxlen])\n",
        "    next_chars.append(processed_text[i + maxlen])\n",
        "\n",
        "print(f'Number of sequences: {len(sentences)}')"
      ]
    },
    {
      "cell_type": "code",
      "execution_count": 11,
      "id": "b1097003",
      "metadata": {
        "ExecuteTime": {
          "end_time": "2023-12-04T10:30:34.800924Z",
          "start_time": "2023-12-04T10:30:34.780858Z"
        },
        "colab": {
          "base_uri": "https://localhost:8080/"
        },
        "id": "b1097003",
        "outputId": "c21c732a-6ef1-41cb-c928-8bdfc1869d4d"
      },
      "outputs": [
        {
          "output_type": "execute_result",
          "data": {
            "text/plain": [
              "['— достаточно, — резко оборвала его рейна. — аннаб',\n",
              " 'но, — резко оборвала его рейна. — аннабет говорит',\n",
              " 'о оборвала его рейна. — аннабет говорит правду. о',\n",
              " ' его рейна. — аннабет говорит правду. она пришла ',\n",
              " 'а. — аннабет говорит правду. она пришла с миром. к',\n",
              " 'ет говорит правду. она пришла с миром. кроме того.',\n",
              " ' правду. она пришла с миром. кроме того...— рейна',\n",
              " 'на пришла с миром. кроме того...— рейна посмотрел',\n",
              " 'с миром. кроме того...— рейна посмотрела на аннаб',\n",
              " 'роме того...— рейна посмотрела на аннабет с невол',\n",
              " '..— рейна посмотрела на аннабет с невольным уваже',\n",
              " ' посмотрела на аннабет с невольным уважением. — пе',\n",
              " 'а на аннабет с невольным уважением. — перси высоко',\n",
              " 'ет с невольным уважением. — перси высоко о тебе от',\n",
              " 'ьным уважением. — перси высоко о тебе отзывался. п',\n",
              " 'нием. — перси высоко о тебе отзывался. подтекст в ',\n",
              " 'рси высоко о тебе отзывался. подтекст в голосе реи',\n",
              " ' о тебе отзывался. подтекст в голосе рейны занял ',\n",
              " 'зывался. подтекст в голосе рейны занял у аннабет ',\n",
              " 'одтекст в голосе рейны занял у аннабет мгновение,']"
            ]
          },
          "metadata": {},
          "execution_count": 11
        }
      ],
      "source": [
        "sentences[:20]"
      ]
    },
    {
      "cell_type": "markdown",
      "id": "e620b6ad",
      "metadata": {
        "id": "e620b6ad"
      },
      "source": [
        "# Vectorization"
      ]
    },
    {
      "cell_type": "code",
      "execution_count": 12,
      "id": "bebe3839",
      "metadata": {
        "ExecuteTime": {
          "end_time": "2023-12-04T10:55:02.098887Z",
          "start_time": "2023-12-04T10:52:47.771340Z"
        },
        "colab": {
          "base_uri": "https://localhost:8080/"
        },
        "id": "bebe3839",
        "outputId": "3c4eb503-33bf-4440-cbc8-00d5c2d728ed"
      },
      "outputs": [
        {
          "output_type": "stream",
          "name": "stderr",
          "text": [
            "<ipython-input-12-c3dbc2329c7d>:1: DeprecationWarning: `np.bool` is a deprecated alias for the builtin `bool`. To silence this warning, use `bool` by itself. Doing this will not modify any behavior and is safe. If you specifically wanted the numpy scalar type, use `np.bool_` here.\n",
            "Deprecated in NumPy 1.20; for more details and guidance: https://numpy.org/devdocs/release/1.20.0-notes.html#deprecations\n",
            "  x = np.zeros((len(sentences), maxlen, len(chars)), dtype = np.bool)\n",
            "<ipython-input-12-c3dbc2329c7d>:2: DeprecationWarning: `np.bool` is a deprecated alias for the builtin `bool`. To silence this warning, use `bool` by itself. Doing this will not modify any behavior and is safe. If you specifically wanted the numpy scalar type, use `np.bool_` here.\n",
            "Deprecated in NumPy 1.20; for more details and guidance: https://numpy.org/devdocs/release/1.20.0-notes.html#deprecations\n",
            "  y = np.zeros((len(sentences), len(chars)), dtype = np.bool)\n"
          ]
        }
      ],
      "source": [
        "x = np.zeros((len(sentences), maxlen, len(chars)), dtype = np.bool)\n",
        "y = np.zeros((len(sentences), len(chars)), dtype = np.bool)\n",
        "for i, sentence in enumerate(sentences):\n",
        "    for t, char in enumerate(sentence):\n",
        "        x[i, t, char_indices[char]] = 1\n",
        "    y[i, char_indices[next_chars[i]]] = 1"
      ]
    },
    {
      "cell_type": "markdown",
      "id": "4dada321",
      "metadata": {
        "id": "4dada321"
      },
      "source": [
        "# Create LSTM model"
      ]
    },
    {
      "cell_type": "code",
      "execution_count": 13,
      "id": "58357926",
      "metadata": {
        "ExecuteTime": {
          "end_time": "2023-12-04T11:14:45.821161Z",
          "start_time": "2023-12-04T11:14:40.657464Z"
        },
        "colab": {
          "base_uri": "https://localhost:8080/"
        },
        "id": "58357926",
        "outputId": "de57488a-7432-464e-e208-afe47e5e0ba7"
      },
      "outputs": [
        {
          "output_type": "stream",
          "name": "stdout",
          "text": [
            "Model: \"sequential\"\n",
            "_________________________________________________________________\n",
            " Layer (type)                Output Shape              Param #   \n",
            "=================================================================\n",
            " lstm (LSTM)                 (None, 128)               135168    \n",
            "                                                                 \n",
            " dense (Dense)               (None, 135)               17415     \n",
            "                                                                 \n",
            "=================================================================\n",
            "Total params: 152583 (596.03 KB)\n",
            "Trainable params: 152583 (596.03 KB)\n",
            "Non-trainable params: 0 (0.00 Byte)\n",
            "_________________________________________________________________\n"
          ]
        }
      ],
      "source": [
        "model = Sequential([\n",
        "    LSTM(128, input_shape = (maxlen, len(chars))),\n",
        "    # LSTM(64, input_shape = (maxlen, len(chars)), return_sequences = True),\n",
        "    # LSTM(32),\n",
        "    Dense(len(chars), activation = 'softmax')\n",
        "])\n",
        "\n",
        "model.compile(loss = 'categorical_crossentropy', optimizer = 'adam')\n",
        "model.summary()"
      ]
    },
    {
      "cell_type": "code",
      "execution_count": 14,
      "id": "4089b309",
      "metadata": {
        "ExecuteTime": {
          "end_time": "2023-12-04T11:16:42.043016Z",
          "start_time": "2023-12-04T11:16:42.033013Z"
        },
        "id": "4089b309"
      },
      "outputs": [],
      "source": [
        "# Helper function to sample an index from a probability array\n",
        "def sample(preds, temperature = 1.0):\n",
        "    preds = np.asarray(preds).astype('float64')\n",
        "    preds = np.log(preds) / temperature\n",
        "    exp_preds = np.exp(preds)\n",
        "    preds = exp_preds / np.sum(exp_preds)\n",
        "    probas = np.random.multinomial(1, preds, 1)\n",
        "    return np.argmax(probas)\n",
        "\n",
        "# Function invoked at end of each epoch. Prints generated text.\n",
        "def on_epoch_end(epoch, _):\n",
        "    if (epoch + 1) % 10 != 0:\n",
        "        return\n",
        "    print('*' * 10)\n",
        "    print(f'*** Generating text after epoch #{epoch + 1}')\n",
        "    start_index = random.randint(0, len(processed_text) - maxlen - 1)\n",
        "    for temperature in [0.2, 0.5, 1.0, 1.2]:\n",
        "        print(f'* Temperature: {temperature}')\n",
        "        generated = ''\n",
        "        sentence = processed_text[start_index: start_index + maxlen]\n",
        "        generated += sentence\n",
        "        print(f'* Generating with seed: \"{sentence}\"')\n",
        "        sys.stdout.write(generated)\n",
        "        for i in range(200):\n",
        "            x_pred = np.zeros((1, maxlen, len(chars)))\n",
        "            for t, char in enumerate(sentence):\n",
        "                x_pred[0, t, char_indices[char]] = 1.0\n",
        "            # preds = model.predict(x_pred, verbose = 0)[0]\n",
        "            preds = model.predict_on_batch(x_pred)[0]\n",
        "            next_index = sample(preds, temperature)\n",
        "            next_char = indices_char[next_index]\n",
        "            generated += next_char\n",
        "            sentence = sentence[1:] + next_char\n",
        "            sys.stdout.write(next_char)\n",
        "            sys.stdout.flush()\n",
        "        print()"
      ]
    },
    {
      "cell_type": "code",
      "execution_count": 15,
      "id": "8aef8480",
      "metadata": {
        "ExecuteTime": {
          "end_time": "2023-12-04T11:21:30.063496Z",
          "start_time": "2023-12-04T11:21:19.582173Z"
        },
        "colab": {
          "base_uri": "https://localhost:8080/"
        },
        "id": "8aef8480",
        "outputId": "6d33e47d-55a4-425c-b0c4-08ab2b12a18a"
      },
      "outputs": [
        {
          "output_type": "stream",
          "name": "stdout",
          "text": [
            "Epoch 1/100\n",
            "1306/1306 [==============================] - 14s 6ms/step - loss: 2.8322\n",
            "Epoch 2/100\n",
            "1306/1306 [==============================] - 9s 7ms/step - loss: 2.4445\n",
            "Epoch 3/100\n",
            "1306/1306 [==============================] - 9s 7ms/step - loss: 2.3319\n",
            "Epoch 4/100\n",
            "1306/1306 [==============================] - 9s 7ms/step - loss: 2.2541\n",
            "Epoch 5/100\n",
            "1306/1306 [==============================] - 9s 7ms/step - loss: 2.1841\n",
            "Epoch 6/100\n",
            "1306/1306 [==============================] - 9s 7ms/step - loss: 2.1211\n",
            "Epoch 7/100\n",
            "1306/1306 [==============================] - 9s 7ms/step - loss: 2.0702\n",
            "Epoch 8/100\n",
            "1306/1306 [==============================] - 9s 7ms/step - loss: 2.0265\n",
            "Epoch 9/100\n",
            "1306/1306 [==============================] - 11s 8ms/step - loss: 1.9877\n",
            "Epoch 10/100\n",
            "1304/1306 [============================>.] - ETA: 0s - loss: 1.9536**********\n",
            "*** Generating text after epoch #10\n",
            "* Temperature: 0.2\n",
            "* Generating with seed: \" вид одиночества. успех принёс мне всемирное покл\"\n",
            " вид одиночества. успех принёс мне всемирное покледные странить не всегда своих своих дела тебя в дела в своих дела в своим всегда свои просто всегда всегда всегда всегда приводить свой дела в свой жизнь всегда поделать в свой просто они привали \n",
            "* Temperature: 0.5\n",
            "* Generating with seed: \" вид одиночества. успех принёс мне всемирное покл\"\n",
            " вид одиночества. успех принёс мне всемирное покликающие любовь большо собой пристаться смерть всегда поку мы за дела в потому в тороду можно и приходная своиму не всегда свой тогда свое человека станить о и посодней сторовить подеть все дамого н\n",
            "* Temperature: 1.0\n",
            "* Generating with seed: \" вид одиночества. успех принёс мне всемирное покл\"\n",
            " вид одиночества. успех принёс мне всемирное покливего? забезансев корда, с моском от кареёльет в эмисм обстоюние.\n",
            "я другом моребутьяя жей.\n",
            "поподьются стается туплялней довь. я выщастельма в как по-имя вщевму.\n",
            "предоррге.  не нам чшит груда.\n",
            "несто\n",
            "* Temperature: 1.2\n",
            "* Generating with seed: \" вид одиночества. успех принёс мне всемирное покл\"\n",
            " вид одиночества. успех принёс мне всемирное покликвен7имный т преел пихой в маюд, умнутк.\n",
            "что свок, ноббляткиг пермы в сдех сободаячить явлю.\n",
            "провлют — и четочестоо, может нат.ча случатленуе скалых — да...., коse болеским ивечикик многли пляжи вс\n",
            "1306/1306 [==============================] - 17s 13ms/step - loss: 1.9535\n",
            "Epoch 11/100\n",
            "1306/1306 [==============================] - 8s 6ms/step - loss: 1.9227\n",
            "Epoch 12/100\n",
            "1306/1306 [==============================] - 9s 7ms/step - loss: 1.8937\n",
            "Epoch 13/100\n",
            "1306/1306 [==============================] - 8s 6ms/step - loss: 1.8669\n",
            "Epoch 14/100\n",
            "1306/1306 [==============================] - 9s 7ms/step - loss: 1.8438\n",
            "Epoch 15/100\n",
            "1306/1306 [==============================] - 9s 7ms/step - loss: 1.8235\n",
            "Epoch 16/100\n",
            "1306/1306 [==============================] - 9s 7ms/step - loss: 1.8020\n",
            "Epoch 17/100\n",
            "1306/1306 [==============================] - 10s 7ms/step - loss: 1.7833\n",
            "Epoch 18/100\n",
            "1306/1306 [==============================] - 8s 6ms/step - loss: 1.7660\n",
            "Epoch 19/100\n",
            "1306/1306 [==============================] - 9s 7ms/step - loss: 1.7497\n",
            "Epoch 20/100\n",
            "1300/1306 [============================>.] - ETA: 0s - loss: 1.7340**********\n",
            "*** Generating text after epoch #20\n",
            "* Temperature: 0.2\n",
            "* Generating with seed: \" плохие любовники! им не нужно напрягаться!\n",
            "всё в\"\n",
            " плохие любовники! им не нужно напрягаться!\n",
            "всё время в нем не станить постоянный сердце и тогда не странеть не принять в своих приводит не принет в не забедет в не всегда все самом вереть странной себя с нем не подобрать не странной сердце не пр\n",
            "* Temperature: 0.5\n",
            "* Generating with seed: \" плохие любовники! им не нужно напрягаться!\n",
            "всё в\"\n",
            " плохие любовники! им не нужно напрягаться!\n",
            "всё всегда их не походя рассказать.\n",
            "они есть что ее отонет.\n",
            "если понимать с возводит мир все возможность не подямая ребе не после прибода страхом совранием не поросинного умеешь с меня на привывается за те\n",
            "* Temperature: 1.0\n",
            "* Generating with seed: \" плохие любовники! им не нужно напрягаться!\n",
            "всё в\"\n",
            " плохие любовники! им не нужно напрягаться!\n",
            "всё ворвняющей. деторкии фишьмиранов инрерот прифетруми не к не их на се же, сталение к помочить любить хватесно не самоевшей тольбы вы предвпроровики идет дву, и не твоите сбобоцы. чем не убити, чтобя с\n",
            "* Temperature: 1.2\n",
            "* Generating with seed: \" плохие любовники! им не нужно напрягаться!\n",
            "всё в\"\n",
            " плохие любовники! им не нужно напрягаться!\n",
            "всё возроссопиноески раз для не звезда-то времяны! боякис — ты быт не неознеднами могудте всяр сещей люде, концо, – лучаско дeфеости, стожерный длюжит тальноку, но очпоженнее горднуе, приподують; и думае\n",
            "1306/1306 [==============================] - 16s 12ms/step - loss: 1.7337\n",
            "Epoch 21/100\n",
            "1306/1306 [==============================] - 8s 6ms/step - loss: 1.7200\n",
            "Epoch 22/100\n",
            "1306/1306 [==============================] - 9s 7ms/step - loss: 1.7074\n",
            "Epoch 23/100\n",
            "1306/1306 [==============================] - 9s 7ms/step - loss: 1.6939\n",
            "Epoch 24/100\n",
            "1306/1306 [==============================] - 9s 7ms/step - loss: 1.6820\n",
            "Epoch 25/100\n",
            "1306/1306 [==============================] - 9s 7ms/step - loss: 1.6702\n",
            "Epoch 26/100\n",
            "1306/1306 [==============================] - 9s 7ms/step - loss: 1.6595\n",
            "Epoch 27/100\n",
            "1306/1306 [==============================] - 9s 7ms/step - loss: 1.6488\n",
            "Epoch 28/100\n",
            "1306/1306 [==============================] - 8s 6ms/step - loss: 1.6386\n",
            "Epoch 29/100\n",
            "1306/1306 [==============================] - 9s 7ms/step - loss: 1.6289\n",
            "Epoch 30/100\n",
            "1302/1306 [============================>.] - ETA: 0s - loss: 1.6199**********\n",
            "*** Generating text after epoch #30\n",
            "* Temperature: 0.2\n",
            "* Generating with seed: \"бовь к родителям — основа всех добродетелей.\n",
            "жить\"\n",
            "бовь к родителям — основа всех добродетелей.\n",
            "жить в не может быть в том, что он не полока, а если ты не старение — это не получать все образуть свой своих думаешь и своим старая собственно не понимаю жизнь — это только ты не могу человека на старат\n",
            "* Temperature: 0.5\n",
            "* Generating with seed: \"бовь к родителям — основа всех добродетелей.\n",
            "жить\"\n",
            "бовь к родителям — основа всех добродетелей.\n",
            "жить было ты нас нашу ведительно уже не лечения делать так польке ответоми, а не зависаться положить их увериты. на сильно. надежду и теплое — они правда свой своих и всегда истории представляется на хоч\n",
            "* Temperature: 1.0\n",
            "* Generating with seed: \"бовь к родителям — основа всех добродетелей.\n",
            "жить\"\n",
            "бовь к родителям — основа всех добродетелей.\n",
            "жить я готомы и нежерь! и в нем.\n",
            "были он надсегда вольше впесох.\n",
            "этой сил нишей ф нирити меняе второй — то, как и прозову. когда мы кто не пустыми мы калит, как уюд, смиршть отвечалось затом чужите, а \n",
            "* Temperature: 1.2\n",
            "* Generating with seed: \"бовь к родителям — основа всех добродетелей.\n",
            "жить\"\n",
            "бовь к родителям — основа всех добродетелей.\n",
            "жить. сирал всё кто-нипуды моего нами. но гак у чше людей того, да нижеть, иногда-то тебя женся. не мочка, мы навойца ин, и не бозадешь не положь камсян? шоб стая эобыдь добеге, услекогой, дитудря сто\n",
            "1306/1306 [==============================] - 16s 12ms/step - loss: 1.6196\n",
            "Epoch 31/100\n",
            "1306/1306 [==============================] - 9s 7ms/step - loss: 1.6117\n",
            "Epoch 32/100\n",
            "1306/1306 [==============================] - 9s 7ms/step - loss: 1.6020\n",
            "Epoch 33/100\n",
            "1306/1306 [==============================] - 8s 6ms/step - loss: 1.5947\n",
            "Epoch 34/100\n",
            "1306/1306 [==============================] - 9s 7ms/step - loss: 1.5860\n",
            "Epoch 35/100\n",
            "1306/1306 [==============================] - 9s 7ms/step - loss: 1.5783\n",
            "Epoch 36/100\n",
            "1306/1306 [==============================] - 9s 7ms/step - loss: 1.5784\n",
            "Epoch 37/100\n",
            "1306/1306 [==============================] - 9s 7ms/step - loss: 1.5643\n",
            "Epoch 38/100\n",
            "1306/1306 [==============================] - 9s 7ms/step - loss: 1.5574\n",
            "Epoch 39/100\n",
            "1306/1306 [==============================] - 9s 7ms/step - loss: 1.5500\n",
            "Epoch 40/100\n",
            "1306/1306 [==============================] - ETA: 0s - loss: 1.5437**********\n",
            "*** Generating text after epoch #40\n",
            "* Temperature: 0.2\n",
            "* Generating with seed: \"и? было ли случившееся бесспорным чудом или не был\"\n",
            "и? было ли случившееся бесспорным чудом или не было тем не могут большенные делать своих думаю, что такое совершение на своих делать своих деньги — это не знает, что такое страданий в неть в сердце не просто не старение с томой на своих деньги дела\n",
            "* Temperature: 0.5\n",
            "* Generating with seed: \"и? было ли случившееся бесспорным чудом или не был\"\n",
            "и? было ли случившееся бесспорным чудом или не был даже совершает подпревлагие.\n",
            "— даление странь.\n",
            "я не верённый человек бестанение и самое не привыланного слушать враг и нет. они полонить возможность, чтобы сердца и доброй положения реши. они все \n",
            "* Temperature: 1.0\n",
            "* Generating with seed: \"и? было ли случившееся бесспорным чудом или не был\"\n",
            "и? было ли случившееся бесспорным чудом или не был мечта, усневать восному «даржизовил: мое — это меняешь, как дале и поздное представляются на курти концебе, но только долгу, хоромы какоры. хогно и челодейстривилусь работте, что в неимоющим и подяя\n",
            "* Temperature: 1.2\n",
            "* Generating with seed: \"и? было ли случившееся бесспорным чудом или не был\"\n",
            "и? было ли случившееся бесспорным чудом или не былу. зазьедаешь ражать или, тоберан: и кончивая совершанполикая, когда чувство истрено обедразного голоза пенорут, эниить гор, и должин там значия севья, болушно какие устрии.\n",
            "наротиворевно!\n",
            "“сохой, ко\n",
            "1306/1306 [==============================] - 16s 12ms/step - loss: 1.5437\n",
            "Epoch 41/100\n",
            "1306/1306 [==============================] - 9s 7ms/step - loss: 1.5378\n",
            "Epoch 42/100\n",
            "1306/1306 [==============================] - 9s 7ms/step - loss: 1.5326\n",
            "Epoch 43/100\n",
            "1306/1306 [==============================] - 8s 6ms/step - loss: 1.5249\n",
            "Epoch 44/100\n",
            "1306/1306 [==============================] - 9s 7ms/step - loss: 1.5186\n",
            "Epoch 45/100\n",
            "1306/1306 [==============================] - 9s 7ms/step - loss: 1.5133\n",
            "Epoch 46/100\n",
            "1306/1306 [==============================] - 9s 7ms/step - loss: 1.5065\n",
            "Epoch 47/100\n",
            "1306/1306 [==============================] - 9s 7ms/step - loss: 1.5021\n",
            "Epoch 48/100\n",
            "1306/1306 [==============================] - 9s 7ms/step - loss: 1.4959\n",
            "Epoch 49/100\n",
            "1306/1306 [==============================] - 9s 7ms/step - loss: 1.4899\n",
            "Epoch 50/100\n",
            "1306/1306 [==============================] - ETA: 0s - loss: 1.4851**********\n",
            "*** Generating text after epoch #50\n",
            "* Temperature: 0.2\n",
            "* Generating with seed: \" капелек росы и солнечных лучиков, — сеть из мысле\"\n",
            " капелек росы и солнечных лучиков, — сеть из мыслей возрастрал на своих дома — то нет просто своей женщины и всегда может быть стараться свои от бывает состоянно поддерет в общество и всегда принодение на свой в глаза и всегда дома слова и всегда \n",
            "* Temperature: 0.5\n",
            "* Generating with seed: \" капелек росы и солнечных лучиков, — сеть из мысле\"\n",
            " капелек росы и солнечных лучиков, — сеть из мыслей, которые его свобода бы так не ведить всегда может довольно на такое такое самые пусто не обытадял мой проблема — от тебя образу подерном так и самые великах в обываются нам не меня, которые он сл\n",
            "* Temperature: 1.0\n",
            "* Generating with seed: \" капелек росы и солнечных лучиков, — сеть из мысле\"\n",
            " капелек росы и солнечных лучиков, — сеть из мыслечивается самые вещину истинная то, что такой.\n",
            "для не в не тоблю своим светы может бога то ушарственных и заимственного мили нужа. моя писаешься. <...> что-то достоканща вот зло, нечегд. и любве, заро\n",
            "* Temperature: 1.2\n",
            "* Generating with seed: \" капелек росы и солнечных лучиков, — сеть из мысле\"\n",
            " капелек росы и солнечных лучиков, — сеть из мыслели не заплодий.\n",
            "... летиче его слишко, и толзы, я вазбо, не осчитания успомил один беспокминываются» «ставда — боть жиборижие не значит.\n",
            "дни идию за мал «я оброжать правды, я сбажают мир нувеште?» не\n",
            "1306/1306 [==============================] - 16s 12ms/step - loss: 1.4851\n",
            "Epoch 51/100\n",
            "1306/1306 [==============================] - 9s 7ms/step - loss: 1.4793\n",
            "Epoch 52/100\n",
            "1306/1306 [==============================] - 9s 7ms/step - loss: 1.4743\n",
            "Epoch 53/100\n",
            "1306/1306 [==============================] - 8s 6ms/step - loss: 1.4691\n",
            "Epoch 54/100\n",
            "1306/1306 [==============================] - 10s 8ms/step - loss: 1.4641\n",
            "Epoch 55/100\n",
            "1306/1306 [==============================] - 9s 7ms/step - loss: 1.4583\n",
            "Epoch 56/100\n",
            "1306/1306 [==============================] - 9s 7ms/step - loss: 1.4535\n",
            "Epoch 57/100\n",
            "1306/1306 [==============================] - 9s 7ms/step - loss: 1.4478\n",
            "Epoch 58/100\n",
            "1306/1306 [==============================] - 9s 7ms/step - loss: 1.4437\n",
            "Epoch 59/100\n",
            "1306/1306 [==============================] - 9s 7ms/step - loss: 1.4393\n",
            "Epoch 60/100\n",
            "1303/1306 [============================>.] - ETA: 0s - loss: 1.4336**********\n",
            "*** Generating text after epoch #60\n",
            "* Temperature: 0.2\n",
            "* Generating with seed: \"! — можно было, если бы ты не включила свет и не в\"\n",
            "! — можно было, если бы ты не включила свет и не все бывает возвращается в жизнь — это себя на все долго должны предстанеть свои просто не может быть в сердце и всё удрании и тогда делает в могу выбор и нет себя у тебя поддразный себя становится в \n",
            "* Temperature: 0.5\n",
            "* Generating with seed: \"! — можно было, если бы ты не включила свет и не в\"\n",
            "! — можно было, если бы ты не включила свет и не все было выбора — это не знаешь, что вериться на тебе не становится в жизнь все равно было умерить весно, что на пользля так, что он выбера и не было на страхом в себе всё удивая семьи делать себя, и \n",
            "* Temperature: 1.0\n",
            "* Generating with seed: \"! — можно было, если бы ты не включила свет и не в\"\n",
            "! — можно было, если бы ты не включила свет и не вся. не сдалое, пустаншие просто, и ты этот сождать на тебя как при лисшье мне одавих глупке.\n",
            "изамил остаться.\n",
            "ну «выглюбий в для ремор по-другой можно простусался до светрезных руку — в беспостует т\n",
            "* Temperature: 1.2\n",
            "* Generating with seed: \"! — можно было, если бы ты не включила свет и не в\"\n",
            "! — можно было, если бы ты не включила свет и не верят крые этих говорит, потому что застядляя цуждама, что вы и ещё пректнитку это стоит мхати.\n",
            "имекния человек ты подоб заблимии себе жизнь. не в том...\n",
            "рабоваться помывшие праву усуществием». мечца \n",
            "1306/1306 [==============================] - 16s 12ms/step - loss: 1.4336\n",
            "Epoch 61/100\n",
            "1306/1306 [==============================] - 9s 7ms/step - loss: 1.4292\n",
            "Epoch 62/100\n",
            "1306/1306 [==============================] - 9s 7ms/step - loss: 1.4240\n",
            "Epoch 63/100\n",
            "1306/1306 [==============================] - 8s 6ms/step - loss: 1.4201\n",
            "Epoch 64/100\n",
            "1306/1306 [==============================] - 9s 7ms/step - loss: 1.4151\n",
            "Epoch 65/100\n",
            "1306/1306 [==============================] - 9s 7ms/step - loss: 1.4174\n",
            "Epoch 66/100\n",
            "1306/1306 [==============================] - 9s 7ms/step - loss: 1.4077\n",
            "Epoch 67/100\n",
            "1306/1306 [==============================] - 9s 7ms/step - loss: 1.4023\n",
            "Epoch 68/100\n",
            "1306/1306 [==============================] - 9s 7ms/step - loss: 1.3990\n",
            "Epoch 69/100\n",
            "1306/1306 [==============================] - 9s 7ms/step - loss: 1.3937\n",
            "Epoch 70/100\n",
            "1303/1306 [============================>.] - ETA: 0s - loss: 1.3930**********\n",
            "*** Generating text after epoch #70\n",
            "* Temperature: 0.2\n",
            "* Generating with seed: \"е, спасённые люди — ими вы оправдываете свои жалк\"\n",
            "е, спасённые люди — ими вы оправдываете свои жалки по суддать и себя.\n",
            "если я не знает, что подаёт в ней только ты по своим становится на тебе не принцивает себя приводит в пости нет проблема с только просто нас тебе не существует. и всегда станет \n",
            "* Temperature: 0.5\n",
            "* Generating with seed: \"е, спасённые люди — ими вы оправдываете свои жалк\"\n",
            "е, спасённые люди — ими вы оправдываете свои жалки просто невередерен, поэтому чтобы есть своих слабым проблема с нед воспоким становешь себя ополосте насторое прирав лег тебя понимания. мне месте не просто необновишься сама не природе все в жизни, \n",
            "* Temperature: 1.0\n",
            "* Generating with seed: \"е, спасённые люди — ими вы оправдываете свои жалк\"\n",
            "е, спасённые люди — ими вы оправдываете свои жалки созновал или, а ещё угбота — или забыть бойсат даже ево своего предине людей, сейчас в нем он, на положения во отноше — нужно, мне представляет невазин, мужчина безвысвает по проблез, которые ли\n",
            "* Temperature: 1.2\n",
            "* Generating with seed: \"е, спасённые люди — ими вы оправдываете свои жалк\"\n",
            "е, спасённые люди — ими вы оправдываете свои жалки, других поступки.\n",
            "прежду боюзнь поддыва прокродеть неге навишешь кто-то, скозность эгадание?\n",
            "дае. твой, пока то, что може» имоегда с людей руки, слимих лучно хотят зданые пестершиваем. тех, кто пи\n",
            "1306/1306 [==============================] - 16s 12ms/step - loss: 1.3930\n",
            "Epoch 71/100\n",
            "1306/1306 [==============================] - 9s 7ms/step - loss: 1.3926\n",
            "Epoch 72/100\n",
            "1306/1306 [==============================] - 9s 7ms/step - loss: 1.3827\n",
            "Epoch 73/100\n",
            "1306/1306 [==============================] - 8s 6ms/step - loss: 1.3788\n",
            "Epoch 74/100\n",
            "1306/1306 [==============================] - 9s 7ms/step - loss: 1.3878\n",
            "Epoch 75/100\n",
            "1306/1306 [==============================] - 9s 7ms/step - loss: 1.3811\n",
            "Epoch 76/100\n",
            "1306/1306 [==============================] - 9s 7ms/step - loss: 1.3713\n",
            "Epoch 77/100\n",
            "1306/1306 [==============================] - 9s 7ms/step - loss: 1.3691\n",
            "Epoch 78/100\n",
            "1306/1306 [==============================] - 9s 7ms/step - loss: 1.3639\n",
            "Epoch 79/100\n",
            "1306/1306 [==============================] - 9s 7ms/step - loss: 1.3609\n",
            "Epoch 80/100\n",
            "1302/1306 [============================>.] - ETA: 0s - loss: 1.3580**********\n",
            "*** Generating text after epoch #80\n",
            "* Temperature: 0.2\n",
            "* Generating with seed: \"ж в спину ближнему.\n",
            "нет ничего тягостней мучитель\"\n",
            "ж в спину ближнему.\n",
            "нет ничего тягостней мучительно подобла родителей возможность в ней если не надо подолодные меня и возможность в ней если не понимаешь, что он страшно, но не с керено подолчановиться на тогда может быть старшение подоблая свои\n",
            "* Temperature: 0.5\n",
            "* Generating with seed: \"ж в спину ближнему.\n",
            "нет ничего тягостней мучитель\"\n",
            "ж в спину ближнему.\n",
            "нет ничего тягостней мучительно и тогда дето, что тебе не проплое возможность.\n",
            "если ты не прицер к спровила и другими подобна большо полна своей само прошломы, который из неиные оттогу поддумалов подобно реальности. в прикажул \n",
            "* Temperature: 1.0\n",
            "* Generating with seed: \"ж в спину ближнему.\n",
            "нет ничего тягостней мучитель\"\n",
            "ж в спину ближнему.\n",
            "нет ничего тягостней мучительно, оно менят, когда выбудет костывает горезиматься когда-нибудь мороль, я сепдать». свою увидит? — это нём примещеской спотядью. подоблая шух, бессмысши, но ничего нет...\n",
            "расспобником знаюсь, что п\n",
            "* Temperature: 1.2\n",
            "* Generating with seed: \"ж в спину ближнему.\n",
            "нет ничего тягостней мучитель\"\n",
            "ж в спину ближнему.\n",
            "нет ничего тягостней мучитель, что согондя живать зо, к чувствуесь свити, не вынашент к исполон.\n",
            "обя огибою, мы, ино лыши, башье свои том, искосельны попередна не удациеской пасти, когда все свисит зло!\n",
            "есть токио прошлого сходи\n",
            "1306/1306 [==============================] - 16s 12ms/step - loss: 1.3579\n",
            "Epoch 81/100\n",
            "1306/1306 [==============================] - 9s 7ms/step - loss: 1.3539\n",
            "Epoch 82/100\n",
            "1306/1306 [==============================] - 9s 7ms/step - loss: 1.3480\n",
            "Epoch 83/100\n",
            "1306/1306 [==============================] - 9s 7ms/step - loss: 1.3516\n",
            "Epoch 84/100\n",
            "1306/1306 [==============================] - 9s 7ms/step - loss: 1.3479\n",
            "Epoch 85/100\n",
            "1306/1306 [==============================] - 8s 7ms/step - loss: 1.3391\n",
            "Epoch 86/100\n",
            "1306/1306 [==============================] - 9s 7ms/step - loss: 1.3448\n",
            "Epoch 87/100\n",
            "1306/1306 [==============================] - 9s 7ms/step - loss: 1.3375\n",
            "Epoch 88/100\n",
            "1306/1306 [==============================] - 9s 7ms/step - loss: 1.3295\n",
            "Epoch 89/100\n",
            "1306/1306 [==============================] - 9s 7ms/step - loss: 1.3275\n",
            "Epoch 90/100\n",
            "1304/1306 [============================>.] - ETA: 0s - loss: 1.3248**********\n",
            "*** Generating text after epoch #90\n",
            "* Temperature: 0.2\n",
            "* Generating with seed: \"ы увидишь как они вырастут. ты умрешь старой, ста\"\n",
            "ы увидишь как они вырастут. ты умрешь старой, становится в обычно собственной друг бо "
          ]
        },
        {
          "output_type": "stream",
          "name": "stderr",
          "text": [
            "<ipython-input-14-b39c49399580>:4: RuntimeWarning: divide by zero encountered in log\n",
            "  preds = np.log(preds) / temperature\n"
          ]
        },
        {
          "output_type": "stream",
          "name": "stdout",
          "text": [
            "старить не понимаешь, что во все один которых полна в ради тебе не было.\n",
            "ли чем на свои первые слово остаться в ней только ты не пониматься в навстал из вот в св\n",
            "* Temperature: 0.5\n",
            "* Generating with seed: \"ы увидишь как они вырастут. ты умрешь старой, ста\"\n",
            "ы увидишь как они вырастут. ты умрешь старой, становится ужи не застранной постояние — всторить, в этью края делавляется в ней всторение. я до совсем на краямного ребительное слова и чем смерти и всегда до только по прирасскаясь человеку, что може\n",
            "* Temperature: 1.0\n",
            "* Generating with seed: \"ы увидишь как они вырастут. ты умрешь старой, ста\"\n",
            "ы увидишь как они вырастут. ты умрешь старой, старости и лицом» — и есть вдий чаза — один что живёрью «миро согратиям. и разолокам силю больше нужно — это воспоминаний с сибых моей зуком, чтобы вот рабляговается сопредрамительности. когда умение\n",
            "* Temperature: 1.2\n",
            "* Generating with seed: \"ы увидишь как они вырастут. ты умрешь старой, ста\"\n",
            "ы увидишь как они вырастут. ты умрешь старой, сталя – это знаешь, что они умут.\n",
            "нет. нельзя: у мосчи и видим, почему не вехи. на ком-ний одиночество видем», фолько дригртык.\n",
            "что иногда кажето пехных и ты только плечатся так, что в сердце — особ.\n",
            "бо\n",
            "1306/1306 [==============================] - 16s 12ms/step - loss: 1.3248\n",
            "Epoch 91/100\n",
            "1306/1306 [==============================] - 10s 8ms/step - loss: 1.3210\n",
            "Epoch 92/100\n",
            "1306/1306 [==============================] - 9s 7ms/step - loss: 1.3266\n",
            "Epoch 93/100\n",
            "1306/1306 [==============================] - 8s 6ms/step - loss: 1.3107\n",
            "Epoch 94/100\n",
            "1306/1306 [==============================] - 9s 7ms/step - loss: 1.3102\n",
            "Epoch 95/100\n",
            "1306/1306 [==============================] - 8s 6ms/step - loss: 1.3086\n",
            "Epoch 96/100\n",
            "1306/1306 [==============================] - 9s 7ms/step - loss: 1.3085\n",
            "Epoch 97/100\n",
            "1306/1306 [==============================] - 9s 7ms/step - loss: 1.3058\n",
            "Epoch 98/100\n",
            "1306/1306 [==============================] - 9s 7ms/step - loss: 1.3029\n",
            "Epoch 99/100\n",
            "1306/1306 [==============================] - 9s 7ms/step - loss: 1.3078\n",
            "Epoch 100/100\n",
            "1299/1306 [============================>.] - ETA: 0s - loss: 1.3009**********\n",
            "*** Generating text after epoch #100\n",
            "* Temperature: 0.2\n",
            "* Generating with seed: \"еко простирается твоя способность повелевать собои\"\n",
            "еко простирается твоя способность повелевать собой дома стой, как ты жизнь в любом мы созоваться в том, чтобы не природен. я не значит, что все возможно просто женщины — вы в чем от этот мир они было представляется такой страну и ничего не покрем \n",
            "* Temperature: 0.5\n",
            "* Generating with seed: \"еко простирается твоя способность повелевать собои\"\n",
            "еко простирается твоя способность повелевать собой.\n",
            " — нет того, как не только в горят, что не верит сказаться на своим притворили, когда вы встониться свободы и вот стой обычно стоит себе признанию об этими и сердце настоящее отецием слова в тайн\n",
            "* Temperature: 1.0\n",
            "* Generating with seed: \"еко простирается твоя способность повелевать собои\"\n",
            "еко простирается твоя способность повелевать собой? неналолшой: то, чео оставляет мек обреннеальну, что с собой дванстору, тот воюн карум, что сней он если под забот — ни гройно гредсоветсе спопидения. но игрыв мир тепелодостим.\n",
            "любом подтиние. \n",
            "* Temperature: 1.2\n",
            "* Generating with seed: \"еко простирается твоя способность повелевать собои\"\n",
            "еко простирается твоя способность повелевать собой. я жизнь (чё сколь, оне существов.\n",
            "богатно, который гополяться в здно, и зачивать закон пополовние догра, потому что это может послется жизнь грозатькрына; и впродоков! — запкоры, надо властьтя. ч\n",
            "1306/1306 [==============================] - 16s 12ms/step - loss: 1.3010\n"
          ]
        }
      ],
      "source": [
        "# Ignore useless W0819 warnings generated by TensorFlow 2.0. Hopefully can remove this ignore in the future.\n",
        "# See https://github.com/tensorflow/tensorflow/issues/31308\n",
        "import logging, os\n",
        "logging.disable(logging.WARNING)\n",
        "os.environ['TF_CPP_MIN_LOG_LEVEL'] = '3'\n",
        "\n",
        "print_callback = LambdaCallback(on_epoch_end = on_epoch_end)\n",
        "history = model.fit(\n",
        "    x = x,\n",
        "    y = y,\n",
        "    callbacks = [print_callback],\n",
        "    batch_size = 128,\n",
        "    epochs = 100)"
      ]
    },
    {
      "cell_type": "code",
      "execution_count": 16,
      "id": "2cfc95aa",
      "metadata": {
        "ExecuteTime": {
          "end_time": "2023-12-04T11:15:17.333955Z",
          "start_time": "2023-12-04T11:15:14.123299Z"
        },
        "colab": {
          "base_uri": "https://localhost:8080/",
          "height": 448
        },
        "id": "2cfc95aa",
        "outputId": "5d8680e4-45fb-416c-b928-d469d284f519"
      },
      "outputs": [
        {
          "output_type": "display_data",
          "data": {
            "text/plain": [
              "<Figure size 700x600 with 0 Axes>"
            ]
          },
          "metadata": {}
        },
        {
          "output_type": "display_data",
          "data": {
            "text/plain": [
              "<Figure size 640x480 with 1 Axes>"
            ],
            "image/png": "[encoded data removed]"
          },
          "metadata": {}
        }
      ],
      "source": [
        "import matplotlib.pyplot as plt\n",
        "import seaborn as sb\n",
        "\n",
        "def show_training_history(history, metrics, metric_names, figure_size = (7, 6), last_epoch = None):\n",
        "    if len(metrics) == 1 and len(metric_names) == 1:\n",
        "        plt.figure(figsize = figure_size)\n",
        "        fig, ax = plt.subplots()\n",
        "        metric = metrics[0]\n",
        "        metric_name = metric_names[0]\n",
        "        ax.plot(history[metric], color = 'b', label = f'Training {metric_name}')\n",
        "        if f'val_{metric}' in history:\n",
        "            ax.plot(history[f'val_{metric}'], color = 'r', label = f'Validation {metric_name}')\n",
        "        if last_epoch is not None:\n",
        "            ax.axvline(x = last_epoch, color = 'g', label = 'Start of fine tuning')\n",
        "        legend = ax.legend(loc = 'best', shadow = True)\n",
        "        plt.show()\n",
        "    elif len(metrics) > 1 and len(metrics) == len(metric_names):\n",
        "        plt.figure(figsize = figure_size)\n",
        "        fig, ax = plt.subplots(len(metrics), 1)\n",
        "        for i in range(len(metrics)):\n",
        "            metric = metrics[i]\n",
        "            metric_name = metric_names[i]\n",
        "            ax[i].plot(history[metric], color = 'b', label = f'Training {metric_name}')\n",
        "            if f'val_{metric}' in history:\n",
        "                ax[i].plot(history[f'val_{metric}'], color = 'r', label = f'Validation {metric_name}', axes = ax[i])\n",
        "            if last_epoch is not None:\n",
        "                ax[i].axvline(x = last_epoch, color = 'g', label = 'Start of fine tuning')\n",
        "            legend = ax[i].legend(loc = 'best', shadow = True)\n",
        "        plt.show()\n",
        "    else:\n",
        "        raise Exception('Invalid metrics/metric names amount')\n",
        "\n",
        "show_training_history(\n",
        "    history.history,\n",
        "    ['loss'],\n",
        "    ['Loss'])"
      ]
    },
    {
      "cell_type": "markdown",
      "id": "CWqp_BeG72FA",
      "metadata": {
        "id": "CWqp_BeG72FA"
      },
      "source": [
        "# Test model"
      ]
    },
    {
      "cell_type": "code",
      "execution_count": 24,
      "id": "16762901",
      "metadata": {
        "id": "16762901"
      },
      "outputs": [],
      "source": [
        "def test_model(model, input_sentence):\n",
        "    for temperature in [0.2, 0.5, 1.0, 1.2]:\n",
        "        print(f'* Temperature: {temperature}')\n",
        "        generated = ''\n",
        "        generated += input_sentence\n",
        "        print(f'Generating with seed: \"{input_sentence}\"')\n",
        "        sentence = input_sentence\n",
        "        for i in range(400):\n",
        "            x_pred = np.zeros((1, maxlen, len(chars)))\n",
        "            for t, char in enumerate(sentence):\n",
        "                x_pred[0, t, char_indices[char]] = 1.0\n",
        "            # preds = model.predict(x_pred, verbose = 0)[0]\n",
        "            preds = model.predict_on_batch(x_pred)[0]\n",
        "            next_index = sample(preds, temperature)\n",
        "            next_char = indices_char[next_index]\n",
        "            generated += next_char\n",
        "            sentence = sentence[1:] + next_char\n",
        "        print(f'Generated text: \"{generated}\"')\n",
        "        print()"
      ]
    },
    {
      "cell_type": "markdown",
      "id": "83a9f05b",
      "metadata": {
        "id": "83a9f05b"
      },
      "source": [
        "## Using random input sentence"
      ]
    },
    {
      "cell_type": "code",
      "execution_count": 25,
      "id": "771dd40a",
      "metadata": {
        "colab": {
          "base_uri": "https://localhost:8080/"
        },
        "id": "771dd40a",
        "outputId": "9f3aca15-5047-40ab-8a34-923a11956424"
      },
      "outputs": [
        {
          "output_type": "stream",
          "name": "stdout",
          "text": [
            "* Temperature: 0.2\n",
            "Generating with seed: \" эта птица — орлан-белохвост. дерево в конце сада \"\n"
          ]
        },
        {
          "output_type": "stream",
          "name": "stderr",
          "text": [
            "<ipython-input-14-b39c49399580>:4: RuntimeWarning: divide by zero encountered in log\n",
            "  preds = np.log(preds) / temperature\n"
          ]
        },
        {
          "output_type": "stream",
          "name": "stdout",
          "text": [
            "Generated text: \" эта птица — орлан-белохвост. дерево в конце сада подного представляется в жизни последний — сказать, что в рад последней того, что я не замечаться на кого-тор мы с того не завтра — одного не совершаем и принци и не пойтизм уже не может быть старьсые и ничего не привычка. но от тебе не существует себя стать собый просторовок — это собственной даже с темём на которой он стоиние становится на которых деними своих своей своей своей свобод \"\n",
            "\n",
            "* Temperature: 0.5\n",
            "Generating with seed: \" эта птица — орлан-белохвост. дерево в конце сада \"\n",
            "Generated text: \" эта птица — орлан-белохвост. дерево в конце сада не сделать так, что любовь с торого блаётся, что с той, позвыть, что я вообще всего другие просто нетраки!\n",
            "она не был «не забывается на плежденно, и тебе нак. я самому на причиние и история кажет на ком редерает всё порой проще достало и рассказать, что любом в главное, бесстоящему самоглязнью, но не спасений и слова, и подарась на свете своё не верит в одиночество слово с колнальных подлиже\"\n",
            "\n",
            "* Temperature: 1.0\n",
            "Generating with seed: \" эта птица — орлан-белохвост. дерево в конце сада \"\n",
            "Generated text: \" эта птица — орлан-белохвост. дерево в конце сада судьба! в одиночительный кранам значить, я силжания: ни однажды я ненависть, как узливают главноя. я глазах, которые доказаться в словами друзей, пряхождась бояться! это есть сказывает свек, чтобы каналось.\n",
            "утыся.\n",
            "человек улыбом, идести я воино не бесшает отвраститься с тобой — да разжают молез угодущее очивать деньго люди — это женщины как ниаке, что с ума — охотел, чтобы когда дело положить д\"\n",
            "\n",
            "* Temperature: 1.2\n",
            "Generating with seed: \" эта птица — орлан-белохвост. дерево в конце сада \"\n",
            "Generated text: \" эта птица — орлан-белохвост. дерево в конце сада — рюдив.\n",
            "это просыпают пормены.\n",
            "жем, мою знаемы огляилься. за нет. мы с вамох летает от вучили, скорокойствует.\n",
            "чего он безнасивы и гоэко чему слеза... это меня мы с деловах?\n",
            "гормою, мне людви». апрагивает блазуюли впереднее, смерться, — которох жена, правдаления я, ни ню фансевшисы. лоз бы цы к имуща, пожалоки, чтоб друх!\n",
            "эжиц исторокрасовалоской милого, выразание эте... потому жанти васного!\n",
            "е\"\n",
            "\n"
          ]
        }
      ],
      "source": [
        "start_index = random.randint(0, len(processed_text) - maxlen - 1)\n",
        "sentence = processed_text[start_index: start_index + maxlen]\n",
        "test_model(model, sentence)"
      ]
    },
    {
      "cell_type": "markdown",
      "id": "9eed1157",
      "metadata": {
        "id": "9eed1157"
      },
      "source": [
        "## Using specified input sequence"
      ]
    },
    {
      "cell_type": "code",
      "execution_count": 26,
      "id": "f271137e",
      "metadata": {
        "colab": {
          "base_uri": "https://localhost:8080/"
        },
        "id": "f271137e",
        "outputId": "4b96fc87-8c78-4f0c-bb11-3961dcabe7c3"
      },
      "outputs": [
        {
          "output_type": "stream",
          "name": "stdout",
          "text": [
            "* Temperature: 0.2\n",
            "Generating with seed: \"чтобы стать самым счастливым человеком, нужно лишь\"\n"
          ]
        },
        {
          "output_type": "stream",
          "name": "stderr",
          "text": [
            "<ipython-input-14-b39c49399580>:4: RuntimeWarning: divide by zero encountered in log\n",
            "  preds = np.log(preds) / temperature\n"
          ]
        },
        {
          "output_type": "stream",
          "name": "stdout",
          "text": [
            "Generated text: \"чтобы стать самым счастливым человеком, нужно лишь в этом мире очень слово, ты не стали и самой только часть мы смысле.\n",
            "почему тебе просто любовь такой деньги в старости себе подайте с торого в чётно, вы и тебе не забой сильнее, не старости и равно настоящие начинается назад. не верить в сердце и подобно бы так рассказатье, чем счастливым.\n",
            "даже создано с уже не могу дыи слё не обера нужно ты не стались своим породителей своей себя.\n",
            "не пон\"\n",
            "\n",
            "* Temperature: 0.5\n",
            "Generating with seed: \"чтобы стать самым счастливым человеком, нужно лишь\"\n",
            "Generated text: \"чтобы стать самым счастливым человеком, нужно лишь за слово с делах, останет только сожидьны, старым в окрытваядется проивым дело с колоннает твойт, что с ужаеть себе в дет иметь сердце и вериться в основенно расная любовь — это понимаю, что были очень слова, он был мне поддемстрим и рассказать своими мы знаем сердце не обладаться себе, а вы не понимаешь, что важелать мир и возможно знаешь, что всё, как главное красиво иногда совершенно нет при\"\n",
            "\n",
            "* Temperature: 1.0\n",
            "Generating with seed: \"чтобы стать самым счастливым человеком, нужно лишь\"\n",
            "Generated text: \"чтобы стать самым счастливым человеком, нужно лишь только и что удоваламия взлость взрослат, дожгосте меня. хотело, что после руки... несторовым не последния нет. пусть застачь сказал, что сам мне самые в тома, ида не ленищем, но корять черодку. действительной человече, ненатою.\n",
            "спокойным. я если ненавистическом стряхом чустью считаться и радокой самому из косой, никогда не протятел не верекому!\n",
            "исторов. это тобы э чанчену и болит, это несбо\"\n",
            "\n",
            "* Temperature: 1.2\n",
            "Generating with seed: \"чтобы стать самым счастливым человеком, нужно лишь\"\n",
            "Generated text: \"чтобы стать самым счастливым человеком, нужно лишь все поксям ваш бы, пророествен поначарбую своим простлих убияться.  — чтобы вотроде женщина.\n",
            "если ты так жизомны опереф, некигданый куринечись назани. неправилое планежалое игруется чемо его хочет в крупым и рабочакобы, но ты тоже не болье же одно была и...\n",
            "цажное люди не слапогия чувствая самых людей ветаю правилопине, ко он-ида есть. пого их.\n",
            "всей малась с зи бы хотить радкрутся, можно после\"\n",
            "\n"
          ]
        }
      ],
      "source": [
        "sentence = 'Чтобы стать самым счастливым человеком, нужно лишь'.lower()\n",
        "test_model(model, sentence)"
      ]
    },
    {
      "cell_type": "markdown",
      "id": "DbHfmKRU736A",
      "metadata": {
        "id": "DbHfmKRU736A"
      },
      "source": [
        "# Save model"
      ]
    },
    {
      "cell_type": "code",
      "execution_count": 27,
      "id": "87cee354",
      "metadata": {
        "id": "87cee354"
      },
      "outputs": [],
      "source": [
        "model_path = f'{drive_path}/russian_quotes_model_one_sixth_06_12_23.keras'"
      ]
    },
    {
      "cell_type": "code",
      "execution_count": 28,
      "id": "qr_jcG3ltmqI",
      "metadata": {
        "id": "qr_jcG3ltmqI",
        "colab": {
          "base_uri": "https://localhost:8080/"
        },
        "outputId": "a08adabb-022e-4b56-aa8c-2eb2a0b43fed"
      },
      "outputs": [
        {
          "output_type": "stream",
          "name": "stdout",
          "text": [
            "Model saved to path drive/MyDrive/russian_quotes_model_one_sixth_06_12_23.keras\n"
          ]
        }
      ],
      "source": [
        "model.save(model_path)\n",
        "\n",
        "print(f'Model saved to path {model_path}')"
      ]
    },
    {
      "cell_type": "markdown",
      "id": "dd73b8b6",
      "metadata": {
        "id": "dd73b8b6"
      },
      "source": [
        "# Load & run model"
      ]
    },
    {
      "cell_type": "code",
      "execution_count": 29,
      "id": "acc2bdad",
      "metadata": {
        "ExecuteTime": {
          "end_time": "2023-12-06T07:37:25.755613Z",
          "start_time": "2023-12-06T07:37:24.998558Z"
        },
        "colab": {
          "base_uri": "https://localhost:8080/"
        },
        "id": "acc2bdad",
        "outputId": "7cd2dc05-8062-46f5-f832-0b0c3446c632"
      },
      "outputs": [
        {
          "output_type": "stream",
          "name": "stdout",
          "text": [
            "Model: \"sequential\"\n",
            "_________________________________________________________________\n",
            " Layer (type)                Output Shape              Param #   \n",
            "=================================================================\n",
            " lstm (LSTM)                 (None, 128)               135168    \n",
            "                                                                 \n",
            " dense (Dense)               (None, 135)               17415     \n",
            "                                                                 \n",
            "=================================================================\n",
            "Total params: 152583 (596.03 KB)\n",
            "Trainable params: 152583 (596.03 KB)\n",
            "Non-trainable params: 0 (0.00 Byte)\n",
            "_________________________________________________________________\n"
          ]
        }
      ],
      "source": [
        "loaded_model = keras.models.load_model(model_path, compile = False)\n",
        "loaded_model.compile(loss = 'categorical_crossentropy', optimizer = 'adam')\n",
        "loaded_model.summary()"
      ]
    },
    {
      "cell_type": "code",
      "execution_count": 30,
      "id": "8920d733",
      "metadata": {
        "colab": {
          "base_uri": "https://localhost:8080/"
        },
        "id": "8920d733",
        "outputId": "fd35e1ce-b5b3-4472-a8db-310538804272"
      },
      "outputs": [
        {
          "output_type": "stream",
          "name": "stdout",
          "text": [
            "Quotes count: 11181\n",
            "Raw text length: 1671104\n",
            "Corpus length: 1671104\n",
            "Total chars: 135\n"
          ]
        }
      ],
      "source": [
        "file_path = f'{drive_path}/quotes_one_sixth_version.txt'\n",
        "f = open(file_path, 'r', encoding = 'utf-8')\n",
        "quotes = f.readlines()\n",
        "f.close()\n",
        "print(f'Quotes count: {len(quotes)}')\n",
        "\n",
        "raw_text = ''.join(quotes)\n",
        "print(f'Raw text length: {len(raw_text)}')\n",
        "\n",
        "processed_text = raw_text.lower()\n",
        "chars = sorted(list(set(processed_text)))\n",
        "char_indices = dict((c, i) for i, c in enumerate(chars))\n",
        "indices_char = dict((i, c) for i, c in enumerate(chars))\n",
        "\n",
        "print(f'Corpus length: {len(processed_text)}')\n",
        "print(f'Total chars: {len(chars)}')\n",
        "\n",
        "maxlen = 50"
      ]
    },
    {
      "cell_type": "code",
      "execution_count": 32,
      "id": "4e23b1aa",
      "metadata": {
        "colab": {
          "base_uri": "https://localhost:8080/"
        },
        "id": "4e23b1aa",
        "outputId": "c6d201b0-8ef5-4a0d-8d26-9fd566717d18"
      },
      "outputs": [
        {
          "output_type": "stream",
          "name": "stdout",
          "text": [
            "* Temperature: 0.2\n",
            "Generating with seed: \"чтобы стать самым счастливым человеком, нужно быть\"\n"
          ]
        },
        {
          "output_type": "stream",
          "name": "stderr",
          "text": [
            "<ipython-input-14-b39c49399580>:4: RuntimeWarning: divide by zero encountered in log\n",
            "  preds = np.log(preds) / temperature\n"
          ]
        },
        {
          "output_type": "stream",
          "name": "stdout",
          "text": [
            "Generated text: \"чтобы стать самым счастливым человеком, нужно быть слова, которые разум чьём словы создает себе подобно предподовать жизнь — это нет на человека, ты всего уже не верит в своей жизнь — почему им на забой слега, которая стой, которые старетельности.\n",
            " — не станение.\n",
            "они совершенно нет природен, который истивная необычно на свои предстанице и всегда совершенно нет представляется в ней если не может быть страшно, в такая ты станет принять своим \"\n",
            "\n",
            "* Temperature: 0.5\n",
            "Generating with seed: \"чтобы стать самым счастливым человеком, нужно быть\"\n",
            "Generated text: \"чтобы стать самым счастливым человеком, нужно быть свете до плакать все лишаешься, ты того, окончасть — это может потом просспо истины в оставляем доброго тем, кто его человека становиться, который из носомнетной хородометривал себя — это не становится избежать тогда менят своими ленственные и не способ напытаются сердце и сердце и всегда ей не могут богатыми.\n",
            "направоданиями счастелся за произом менять не тобой, слова он смертным и привыкуюте\"\n",
            "\n",
            "* Temperature: 1.0\n",
            "Generating with seed: \"чтобы стать самым счастливым человеком, нужно быть\"\n",
            "Generated text: \"чтобы стать самым счастливым человеком, нужно быть вашевляешь те. — а всех «встречивая сдиволюдривки ложе с вам ляжий и даже важно, хотеля один исторого — людвин застранием загац, маналала: «тор, ни зачем подыбать его, томам. поднятые счастливая шоговпечении ненавлей.\n",
            "аспехимой строитично, всегда любовь, а он и врага для смерти». насторовом обгановать на судьст вопрезятный пронций сам глупые тываются себя благодара... я не нужно радо сопроща\"\n",
            "\n",
            "* Temperature: 1.2\n",
            "Generating with seed: \"чтобы стать самым счастливым человеком, нужно быть\"\n",
            "Generated text: \"чтобы стать самым счастливым человеком, нужно быть живый красиво — деречущим.\n",
            "я понятье, когда вся для реалущого рейстивы; и вять снавания: сездачь стества... мое оделое. отогда сумешься.\n",
            "что застанись вотное релит.\n",
            "у кручаем жизущким вядолет. смиранные и бердуевствий женщине все будет, же травают себя он моворостивля зо преупесным все занямение,  — сколько с делее? — бугу. значин: как застаневием и ожидека живощность таково), кто из-зро.\n",
            "след\"\n",
            "\n"
          ]
        }
      ],
      "source": [
        "sentence = 'Чтобы стать самым счастливым человеком, нужно быть'.lower()\n",
        "test_model(model, sentence)"
      ]
    }
  ],
  "metadata": {
    "accelerator": "GPU",
    "colab": {
      "gpuType": "T4",
      "provenance": [],
      "toc_visible": true
    },
    "kernelspec": {
      "display_name": "Python 3 (ipykernel)",
      "language": "python",
      "name": "python3"
    },
    "language_info": {
      "codemirror_mode": {
        "name": "ipython",
        "version": 3
      },
      "file_extension": ".py",
      "mimetype": "text/x-python",
      "name": "python",
      "nbconvert_exporter": "python",
      "pygments_lexer": "ipython3",
      "version": "3.8.17"
    },
    "toc": {
      "base_numbering": 1,
      "nav_menu": {},
      "number_sections": true,
      "sideBar": true,
      "skip_h1_title": false,
      "title_cell": "Table of Contents",
      "title_sidebar": "Contents",
      "toc_cell": false,
      "toc_position": {
        "height": "calc(100% - 180px)",
        "left": "10px",
        "top": "150px",
        "width": "384px"
      },
      "toc_section_display": true,
      "toc_window_display": true
    }
  },
  "nbformat": 4,
  "nbformat_minor": 5
}